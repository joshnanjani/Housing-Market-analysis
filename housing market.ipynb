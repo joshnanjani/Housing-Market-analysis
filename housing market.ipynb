{
 "cells": [
  {
   "cell_type": "code",
   "execution_count": 1,
   "metadata": {},
   "outputs": [],
   "source": [
    "# Loading in the frequently used packages\n",
    "\n",
    "import numpy as np\n",
    "import pandas as pd\n",
    "import csv as csv\n",
    "import matplotlib.pyplot as plt\n",
    "\n",
    "import seaborn as sns\n",
    "import re\n",
    "import time\n",
    "import nltk\n",
    "from nltk.corpus import stopwords\n",
    "from nltk.stem import PorterStemmer\n",
    "import warnings\n",
    "warnings.filterwarnings('ignore')\n",
    "\n",
    "from sklearn import preprocessing\n",
    "from sklearn.model_selection import train_test_split\n",
    "from statsmodels.stats.outliers_influence import variance_inflation_factor\n",
    "\n",
    "import statsmodels.api as sm\n",
    "from sklearn.linear_model import LinearRegression, LogisticRegression\n",
    "from sklearn.ensemble import RandomForestRegressor\n",
    "from sklearn.svm import SVC, SVR\n",
    "from sklearn.cluster import KMeans\n",
    "\n",
    "from sklearn import metrics\n",
    "from sklearn.metrics import r2_score,mean_absolute_error, mean_squared_error\n",
    "from sklearn.feature_selection import RFE\n",
    "from sklearn.model_selection import GridSearchCV"
   ]
  },
  {
   "cell_type": "code",
   "execution_count": 2,
   "metadata": {},
   "outputs": [],
   "source": [
    "# Loading in the data sets\n",
    "\n",
    "bed1_rent = pd.read_csv(r'C:\\Users\\joshn\\Downloads\\MS in Data Science\\Housing market\\Housing_Market-master\\Data\\Rental income monthly\\Zip_MedianRentalPrice_1Bedroom.csv')\n",
    "bed2_rent = pd.read_csv(r'C:\\Users\\joshn\\Downloads\\MS in Data Science\\Housing market\\Housing_Market-master\\Data\\Rental income monthly\\Zip_MedianRentalPrice_2Bedroom.csv')\n",
    "bed3_rent = pd.read_csv(r'C:\\Users\\joshn\\Downloads\\MS in Data Science\\Housing market\\Housing_Market-master\\Data\\Rental income monthly\\Zip_MedianRentalPrice_3Bedroom.csv')\n",
    "bed4_rent = pd.read_csv(r'C:\\Users\\joshn\\Downloads\\MS in Data Science\\Housing market\\Housing_Market-master\\Data\\Rental income monthly\\Zip_MedianRentalPrice_4Bedroom.csv')\n",
    "bed5_rent = pd.read_csv(r'C:\\Users\\joshn\\Downloads\\MS in Data Science\\Housing market\\Housing_Market-master\\Data\\Rental income monthly\\Zip_MedianRentalPrice_5BedroomOrMore.csv')\n",
    "\n",
    "bed1_value = pd.read_csv(r'C:\\Users\\joshn\\Downloads\\MS in Data Science\\Housing market\\Housing_Market-master\\Data\\Home prices\\Zip_Zhvi_1bedroom.csv')\n",
    "bed2_value = pd.read_csv(r'C:\\Users\\joshn\\Downloads\\MS in Data Science\\Housing market\\Housing_Market-master\\Data\\Home prices\\Zip_Zhvi_2bedroom.csv')\n",
    "bed3_value = pd.read_csv(r'C:\\Users\\joshn\\Downloads\\MS in Data Science\\Housing market\\Housing_Market-master\\Data\\Home prices\\Zip_Zhvi_3bedroom.csv')\n",
    "bed4_value = pd.read_csv(r'C:\\Users\\joshn\\Downloads\\MS in Data Science\\Housing market\\Housing_Market-master\\Data\\Home prices\\Zip_Zhvi_4bedroom.csv')\n",
    "bed5_value = pd.read_csv(r'C:\\Users\\joshn\\Downloads\\MS in Data Science\\Housing market\\Housing_Market-master\\Data\\Home prices\\Zip_Zhvi_5BedroomOrMore.csv')\n",
    "\n",
    "# Ignoring condos, duplex etc. for now (Diverse portfolio is they key to avoid a liquidity crunch during the next crisis. Please note that we are responsible for mortgage even during economic times when its hard to find a tenant. Value of 10 condo's will be more than $7 million, a large amount. Further, the sample sizes for condos, duplex's are small beyond the very big markets)"
   ]
  },
  {
   "cell_type": "code",
   "execution_count": 3,
   "metadata": {},
   "outputs": [
    {
     "name": "stdout",
     "output_type": "stream",
     "text": [
      "0.2155688622754491\n",
      "0.08060428849902534\n",
      "0.047987965400526515\n",
      "0.007911683532658694\n",
      "0.0016155088852988692\n"
     ]
    }
   ],
   "source": [
    "print(len(bed1_rent)/len(bed1_value))\n",
    "print(len(bed2_rent)/len(bed2_value))\n",
    "print(len(bed3_rent)/len(bed3_value))\n",
    "print(len(bed4_rent)/len(bed4_value))\n",
    "print(len(bed5_rent)/len(bed5_value))\n",
    "\n",
    "# Clearly, the home value data sets are bigger than rental data sets\n",
    "# Is it common to rent a 1 bedroom but not a 5 bedroom. That actually makes sense to me"
   ]
  },
  {
   "cell_type": "code",
   "execution_count": 4,
   "metadata": {},
   "outputs": [
    {
     "data": {
      "text/html": [
       "<div>\n",
       "<style scoped>\n",
       "    .dataframe tbody tr th:only-of-type {\n",
       "        vertical-align: middle;\n",
       "    }\n",
       "\n",
       "    .dataframe tbody tr th {\n",
       "        vertical-align: top;\n",
       "    }\n",
       "\n",
       "    .dataframe thead th {\n",
       "        text-align: right;\n",
       "    }\n",
       "</style>\n",
       "<table border=\"1\" class=\"dataframe\">\n",
       "  <thead>\n",
       "    <tr style=\"text-align: right;\">\n",
       "      <th></th>\n",
       "      <th>RegionName</th>\n",
       "      <th>City</th>\n",
       "      <th>State</th>\n",
       "      <th>Metro</th>\n",
       "      <th>CountyName</th>\n",
       "      <th>SizeRank</th>\n",
       "      <th>2010-09</th>\n",
       "      <th>2010-10</th>\n",
       "      <th>2010-11</th>\n",
       "      <th>2010-12</th>\n",
       "      <th>...</th>\n",
       "      <th>2017-02</th>\n",
       "      <th>2017-03</th>\n",
       "      <th>2017-04</th>\n",
       "      <th>2017-05</th>\n",
       "      <th>2017-06</th>\n",
       "      <th>2017-07</th>\n",
       "      <th>2017-08</th>\n",
       "      <th>2017-09</th>\n",
       "      <th>2017-10</th>\n",
       "      <th>2017-11</th>\n",
       "    </tr>\n",
       "  </thead>\n",
       "  <tbody>\n",
       "    <tr>\n",
       "      <th>0</th>\n",
       "      <td>10025</td>\n",
       "      <td>New York</td>\n",
       "      <td>NY</td>\n",
       "      <td>New York</td>\n",
       "      <td>New York</td>\n",
       "      <td>1</td>\n",
       "      <td>NaN</td>\n",
       "      <td>2537.5</td>\n",
       "      <td>2555.0</td>\n",
       "      <td>2636.5</td>\n",
       "      <td>...</td>\n",
       "      <td>2995.0</td>\n",
       "      <td>3025.0</td>\n",
       "      <td>2995.0</td>\n",
       "      <td>2975.0</td>\n",
       "      <td>2900.0</td>\n",
       "      <td>2900.0</td>\n",
       "      <td>3000.0</td>\n",
       "      <td>3025.0</td>\n",
       "      <td>3000.0</td>\n",
       "      <td>2928.5</td>\n",
       "    </tr>\n",
       "    <tr>\n",
       "      <th>1</th>\n",
       "      <td>60657</td>\n",
       "      <td>Chicago</td>\n",
       "      <td>IL</td>\n",
       "      <td>Chicago</td>\n",
       "      <td>Cook</td>\n",
       "      <td>2</td>\n",
       "      <td>NaN</td>\n",
       "      <td>NaN</td>\n",
       "      <td>NaN</td>\n",
       "      <td>NaN</td>\n",
       "      <td>...</td>\n",
       "      <td>1432.5</td>\n",
       "      <td>1450.0</td>\n",
       "      <td>1450.0</td>\n",
       "      <td>1450.0</td>\n",
       "      <td>1465.0</td>\n",
       "      <td>1450.0</td>\n",
       "      <td>1422.5</td>\n",
       "      <td>1400.0</td>\n",
       "      <td>1375.0</td>\n",
       "      <td>1370.0</td>\n",
       "    </tr>\n",
       "    <tr>\n",
       "      <th>2</th>\n",
       "      <td>10023</td>\n",
       "      <td>New York</td>\n",
       "      <td>NY</td>\n",
       "      <td>New York</td>\n",
       "      <td>New York</td>\n",
       "      <td>3</td>\n",
       "      <td>NaN</td>\n",
       "      <td>2995.0</td>\n",
       "      <td>3025.0</td>\n",
       "      <td>3000.0</td>\n",
       "      <td>...</td>\n",
       "      <td>3272.5</td>\n",
       "      <td>3275.0</td>\n",
       "      <td>3300.0</td>\n",
       "      <td>3300.0</td>\n",
       "      <td>3300.0</td>\n",
       "      <td>3300.0</td>\n",
       "      <td>3300.0</td>\n",
       "      <td>3290.5</td>\n",
       "      <td>3295.0</td>\n",
       "      <td>3300.0</td>\n",
       "    </tr>\n",
       "    <tr>\n",
       "      <th>3</th>\n",
       "      <td>77494</td>\n",
       "      <td>Cinco Ranch</td>\n",
       "      <td>TX</td>\n",
       "      <td>Houston</td>\n",
       "      <td>Fort Bend</td>\n",
       "      <td>4</td>\n",
       "      <td>NaN</td>\n",
       "      <td>NaN</td>\n",
       "      <td>NaN</td>\n",
       "      <td>NaN</td>\n",
       "      <td>...</td>\n",
       "      <td>1119.0</td>\n",
       "      <td>1130.0</td>\n",
       "      <td>1097.5</td>\n",
       "      <td>1119.0</td>\n",
       "      <td>1175.0</td>\n",
       "      <td>1165.0</td>\n",
       "      <td>1124.0</td>\n",
       "      <td>1190.0</td>\n",
       "      <td>1202.5</td>\n",
       "      <td>1179.0</td>\n",
       "    </tr>\n",
       "    <tr>\n",
       "      <th>4</th>\n",
       "      <td>75070</td>\n",
       "      <td>McKinney</td>\n",
       "      <td>TX</td>\n",
       "      <td>Dallas-Fort Worth</td>\n",
       "      <td>Collin</td>\n",
       "      <td>5</td>\n",
       "      <td>NaN</td>\n",
       "      <td>NaN</td>\n",
       "      <td>NaN</td>\n",
       "      <td>NaN</td>\n",
       "      <td>...</td>\n",
       "      <td>988.5</td>\n",
       "      <td>995.0</td>\n",
       "      <td>1026.0</td>\n",
       "      <td>1025.0</td>\n",
       "      <td>1020.0</td>\n",
       "      <td>1025.0</td>\n",
       "      <td>1030.0</td>\n",
       "      <td>1056.0</td>\n",
       "      <td>1055.0</td>\n",
       "      <td>1082.5</td>\n",
       "    </tr>\n",
       "  </tbody>\n",
       "</table>\n",
       "<p>5 rows × 93 columns</p>\n",
       "</div>"
      ],
      "text/plain": [
       "   RegionName         City State              Metro CountyName  SizeRank  \\\n",
       "0       10025     New York    NY           New York   New York         1   \n",
       "1       60657      Chicago    IL            Chicago       Cook         2   \n",
       "2       10023     New York    NY           New York   New York         3   \n",
       "3       77494  Cinco Ranch    TX            Houston  Fort Bend         4   \n",
       "4       75070     McKinney    TX  Dallas-Fort Worth     Collin         5   \n",
       "\n",
       "   2010-09  2010-10  2010-11  2010-12  ...  2017-02  2017-03  2017-04  \\\n",
       "0      NaN   2537.5   2555.0   2636.5  ...   2995.0   3025.0   2995.0   \n",
       "1      NaN      NaN      NaN      NaN  ...   1432.5   1450.0   1450.0   \n",
       "2      NaN   2995.0   3025.0   3000.0  ...   3272.5   3275.0   3300.0   \n",
       "3      NaN      NaN      NaN      NaN  ...   1119.0   1130.0   1097.5   \n",
       "4      NaN      NaN      NaN      NaN  ...    988.5    995.0   1026.0   \n",
       "\n",
       "   2017-05  2017-06  2017-07  2017-08  2017-09  2017-10  2017-11  \n",
       "0   2975.0   2900.0   2900.0   3000.0   3025.0   3000.0   2928.5  \n",
       "1   1450.0   1465.0   1450.0   1422.5   1400.0   1375.0   1370.0  \n",
       "2   3300.0   3300.0   3300.0   3300.0   3290.5   3295.0   3300.0  \n",
       "3   1119.0   1175.0   1165.0   1124.0   1190.0   1202.5   1179.0  \n",
       "4   1025.0   1020.0   1025.0   1030.0   1056.0   1055.0   1082.5  \n",
       "\n",
       "[5 rows x 93 columns]"
      ]
     },
     "execution_count": 4,
     "metadata": {},
     "output_type": "execute_result"
    }
   ],
   "source": [
    "# Lets see some rows in both types of data sets\n",
    "\n",
    "bed1_rent[0:5]"
   ]
  },
  {
   "cell_type": "code",
   "execution_count": 5,
   "metadata": {},
   "outputs": [
    {
     "data": {
      "text/html": [
       "<div>\n",
       "<style scoped>\n",
       "    .dataframe tbody tr th:only-of-type {\n",
       "        vertical-align: middle;\n",
       "    }\n",
       "\n",
       "    .dataframe tbody tr th {\n",
       "        vertical-align: top;\n",
       "    }\n",
       "\n",
       "    .dataframe thead th {\n",
       "        text-align: right;\n",
       "    }\n",
       "</style>\n",
       "<table border=\"1\" class=\"dataframe\">\n",
       "  <thead>\n",
       "    <tr style=\"text-align: right;\">\n",
       "      <th></th>\n",
       "      <th>RegionID</th>\n",
       "      <th>RegionName</th>\n",
       "      <th>City</th>\n",
       "      <th>State</th>\n",
       "      <th>Metro</th>\n",
       "      <th>CountyName</th>\n",
       "      <th>SizeRank</th>\n",
       "      <th>1996-04</th>\n",
       "      <th>1996-05</th>\n",
       "      <th>1996-06</th>\n",
       "      <th>...</th>\n",
       "      <th>2017-02</th>\n",
       "      <th>2017-03</th>\n",
       "      <th>2017-04</th>\n",
       "      <th>2017-05</th>\n",
       "      <th>2017-06</th>\n",
       "      <th>2017-07</th>\n",
       "      <th>2017-08</th>\n",
       "      <th>2017-09</th>\n",
       "      <th>2017-10</th>\n",
       "      <th>2017-11</th>\n",
       "    </tr>\n",
       "  </thead>\n",
       "  <tbody>\n",
       "    <tr>\n",
       "      <th>0</th>\n",
       "      <td>84654</td>\n",
       "      <td>60657</td>\n",
       "      <td>Chicago</td>\n",
       "      <td>IL</td>\n",
       "      <td>Chicago</td>\n",
       "      <td>Cook</td>\n",
       "      <td>1</td>\n",
       "      <td>95000.0</td>\n",
       "      <td>95600.0</td>\n",
       "      <td>95400.0</td>\n",
       "      <td>...</td>\n",
       "      <td>215300</td>\n",
       "      <td>216700</td>\n",
       "      <td>217600</td>\n",
       "      <td>216900</td>\n",
       "      <td>216100</td>\n",
       "      <td>216100</td>\n",
       "      <td>217000</td>\n",
       "      <td>218400.0</td>\n",
       "      <td>219100.0</td>\n",
       "      <td>218600.0</td>\n",
       "    </tr>\n",
       "    <tr>\n",
       "      <th>1</th>\n",
       "      <td>84616</td>\n",
       "      <td>60614</td>\n",
       "      <td>Chicago</td>\n",
       "      <td>IL</td>\n",
       "      <td>Chicago</td>\n",
       "      <td>Cook</td>\n",
       "      <td>2</td>\n",
       "      <td>114500.0</td>\n",
       "      <td>114500.0</td>\n",
       "      <td>113900.0</td>\n",
       "      <td>...</td>\n",
       "      <td>247000</td>\n",
       "      <td>244800</td>\n",
       "      <td>243100</td>\n",
       "      <td>241700</td>\n",
       "      <td>240800</td>\n",
       "      <td>239500</td>\n",
       "      <td>237900</td>\n",
       "      <td>236800.0</td>\n",
       "      <td>236500.0</td>\n",
       "      <td>236400.0</td>\n",
       "    </tr>\n",
       "    <tr>\n",
       "      <th>2</th>\n",
       "      <td>84640</td>\n",
       "      <td>60640</td>\n",
       "      <td>Chicago</td>\n",
       "      <td>IL</td>\n",
       "      <td>Chicago</td>\n",
       "      <td>Cook</td>\n",
       "      <td>3</td>\n",
       "      <td>78900.0</td>\n",
       "      <td>79200.0</td>\n",
       "      <td>79200.0</td>\n",
       "      <td>...</td>\n",
       "      <td>147700</td>\n",
       "      <td>148700</td>\n",
       "      <td>149400</td>\n",
       "      <td>149500</td>\n",
       "      <td>148800</td>\n",
       "      <td>147700</td>\n",
       "      <td>147400</td>\n",
       "      <td>147400.0</td>\n",
       "      <td>146400.0</td>\n",
       "      <td>145000.0</td>\n",
       "    </tr>\n",
       "    <tr>\n",
       "      <th>3</th>\n",
       "      <td>97564</td>\n",
       "      <td>94109</td>\n",
       "      <td>San Francisco</td>\n",
       "      <td>CA</td>\n",
       "      <td>San Francisco</td>\n",
       "      <td>San Francisco</td>\n",
       "      <td>4</td>\n",
       "      <td>191800.0</td>\n",
       "      <td>193500.0</td>\n",
       "      <td>193900.0</td>\n",
       "      <td>...</td>\n",
       "      <td>792200</td>\n",
       "      <td>799600</td>\n",
       "      <td>804100</td>\n",
       "      <td>806500</td>\n",
       "      <td>813200</td>\n",
       "      <td>823900</td>\n",
       "      <td>832700</td>\n",
       "      <td>837700.0</td>\n",
       "      <td>842300.0</td>\n",
       "      <td>850300.0</td>\n",
       "    </tr>\n",
       "    <tr>\n",
       "      <th>4</th>\n",
       "      <td>61630</td>\n",
       "      <td>10016</td>\n",
       "      <td>New York</td>\n",
       "      <td>NY</td>\n",
       "      <td>New York</td>\n",
       "      <td>New York</td>\n",
       "      <td>5</td>\n",
       "      <td>NaN</td>\n",
       "      <td>NaN</td>\n",
       "      <td>NaN</td>\n",
       "      <td>...</td>\n",
       "      <td>910200</td>\n",
       "      <td>915200</td>\n",
       "      <td>921200</td>\n",
       "      <td>932700</td>\n",
       "      <td>942200</td>\n",
       "      <td>950100</td>\n",
       "      <td>956100</td>\n",
       "      <td>963000.0</td>\n",
       "      <td>971700.0</td>\n",
       "      <td>979500.0</td>\n",
       "    </tr>\n",
       "  </tbody>\n",
       "</table>\n",
       "<p>5 rows × 267 columns</p>\n",
       "</div>"
      ],
      "text/plain": [
       "   RegionID  RegionName           City State          Metro     CountyName  \\\n",
       "0     84654       60657        Chicago    IL        Chicago           Cook   \n",
       "1     84616       60614        Chicago    IL        Chicago           Cook   \n",
       "2     84640       60640        Chicago    IL        Chicago           Cook   \n",
       "3     97564       94109  San Francisco    CA  San Francisco  San Francisco   \n",
       "4     61630       10016       New York    NY       New York       New York   \n",
       "\n",
       "   SizeRank   1996-04   1996-05   1996-06  ...  2017-02  2017-03  2017-04  \\\n",
       "0         1   95000.0   95600.0   95400.0  ...   215300   216700   217600   \n",
       "1         2  114500.0  114500.0  113900.0  ...   247000   244800   243100   \n",
       "2         3   78900.0   79200.0   79200.0  ...   147700   148700   149400   \n",
       "3         4  191800.0  193500.0  193900.0  ...   792200   799600   804100   \n",
       "4         5       NaN       NaN       NaN  ...   910200   915200   921200   \n",
       "\n",
       "   2017-05  2017-06  2017-07  2017-08   2017-09   2017-10   2017-11  \n",
       "0   216900   216100   216100   217000  218400.0  219100.0  218600.0  \n",
       "1   241700   240800   239500   237900  236800.0  236500.0  236400.0  \n",
       "2   149500   148800   147700   147400  147400.0  146400.0  145000.0  \n",
       "3   806500   813200   823900   832700  837700.0  842300.0  850300.0  \n",
       "4   932700   942200   950100   956100  963000.0  971700.0  979500.0  \n",
       "\n",
       "[5 rows x 267 columns]"
      ]
     },
     "execution_count": 5,
     "metadata": {},
     "output_type": "execute_result"
    }
   ],
   "source": [
    "bed1_value[0:5]\n",
    "\n",
    "# The house value data set goes all the way back to April 1996"
   ]
  },
  {
   "cell_type": "code",
   "execution_count": 6,
   "metadata": {},
   "outputs": [
    {
     "data": {
      "text/plain": [
       "(2505, 267)"
      ]
     },
     "execution_count": 6,
     "metadata": {},
     "output_type": "execute_result"
    }
   ],
   "source": [
    "bed1_value.shape"
   ]
  },
  {
   "cell_type": "code",
   "execution_count": 7,
   "metadata": {},
   "outputs": [
    {
     "data": {
      "text/plain": [
       "count    2502.000000\n",
       "mean        2.231335\n",
       "std         1.900359\n",
       "min         0.274000\n",
       "25%         0.984250\n",
       "50%         1.623500\n",
       "75%         2.797250\n",
       "max        21.207000\n",
       "Name: 2017-11, dtype: float64"
      ]
     },
     "execution_count": 7,
     "metadata": {},
     "output_type": "execute_result"
    }
   ],
   "source": [
    "(bed1_value['2017-11']/100000).describe()\n",
    "\n",
    "# 1 bedroom house mean is $223,000?????"
   ]
  },
  {
   "cell_type": "code",
   "execution_count": 8,
   "metadata": {},
   "outputs": [
    {
     "data": {
      "text/plain": [
       "count    10868.000000\n",
       "mean         3.646875\n",
       "std          3.518547\n",
       "min          0.352000\n",
       "25%          1.906000\n",
       "50%          2.746000\n",
       "75%          4.108250\n",
       "max         64.452000\n",
       "Name: 2017-11, dtype: float64"
      ]
     },
     "execution_count": 8,
     "metadata": {},
     "output_type": "execute_result"
    }
   ],
   "source": [
    "(bed4_value['2017-11']/100000).describe()\n",
    "\n",
    "#but 4 bedroom mean is only $364,000? "
   ]
  },
  {
   "cell_type": "code",
   "execution_count": 9,
   "metadata": {},
   "outputs": [
    {
     "data": {
      "text/plain": [
       "count    5570.000000\n",
       "mean        5.950764\n",
       "std         6.512639\n",
       "min         0.329000\n",
       "25%         2.852250\n",
       "50%         4.160500\n",
       "75%         6.519000\n",
       "max       104.362000\n",
       "Name: 2017-11, dtype: float64"
      ]
     },
     "execution_count": 9,
     "metadata": {},
     "output_type": "execute_result"
    }
   ],
   "source": [
    "(bed5_value['2017-11']/100000).describe()\n",
    "\n",
    "# better to ignore 4 bedroom and 5 bedroom anyway. not a lot of rental data"
   ]
  },
  {
   "cell_type": "code",
   "execution_count": 10,
   "metadata": {},
   "outputs": [],
   "source": [
    "# Clearly region name is zip code in both the data sets and can be used as unique key\n",
    "\n",
    "# The first thing we need to do cut both the data sets to include only the common names\n",
    "# Further I need to remove all the data from the April 1996 to August 2010\n",
    "\n",
    "# Let's write a function to perform all the above\n",
    "\n",
    "def housevalue_rent_ratio(x,y):\n",
    "    cities_in_rent = x['RegionName']\n",
    "    cities_in_value = y['RegionName']\n",
    "    common_cities = pd.Series(list(set(cities_in_rent).intersection(set(cities_in_value)))) \n",
    "    value_data_cut = y[y['RegionName'].isin(common_cities)]\n",
    "    rental_data_cut = x[x['RegionName'].isin(common_cities)]\n",
    "    value_part1 = value_data_cut.iloc[:len(value_data_cut), 1:7]\n",
    "    value_part2 = value_data_cut.iloc[:len(value_data_cut), 180:len(value_data_cut.columns)]\n",
    "    value_final = pd.concat([value_part1, value_part2], axis=1)\n",
    "    ordered_value = value_final.sort_values(['RegionName'])\n",
    "    ordered_rental = rental_data_cut.sort_values(['RegionName'])\n",
    "    ordered_rental = ordered_rental.rename(index=str, columns={\"SizeRank\": \"Rental_SizeRank\"})\n",
    "    ordered_rental = ordered_rental.rename(index=str, columns={\"RegionName\": \"RegionName_rental\"})\n",
    "    ordered_value = ordered_value.rename(index=str, columns={\"SizeRank\": \"Housevalue_SizeRank\"})\n",
    "    rent_market_size = pd.DataFrame(ordered_rental[['Rental_SizeRank', 'RegionName_rental']])\n",
    "    ratio_df = pd.DataFrame(index = pd.Series(range(0,len(ordered_value))), columns = ordered_value.columns)\n",
    "    for i in range(0,(len(ordered_value))):\n",
    "        for p in range(6, (len(ordered_value.columns))):\n",
    "                ratio_df.iloc[i,p] = ordered_value.iloc[i,p]/ordered_rental.iloc[i,p]\n",
    "    \n",
    "    for i in range(0,(len(ordered_value))):\n",
    "        for p in range(0, 6):\n",
    "            ratio_df.iloc[i,p] = ordered_value.iloc[i,p]\n",
    "                                \n",
    "    ratio_df2 = pd.merge(ratio_df,\n",
    "                         rent_market_size,\n",
    "                         left_on='RegionName',\n",
    "                         right_on='RegionName_rental',\n",
    "                         how='inner')\n",
    "                \n",
    "    return ratio_df2"
   ]
  },
  {
   "cell_type": "code",
   "execution_count": 11,
   "metadata": {},
   "outputs": [
    {
     "data": {
      "text/html": [
       "<div>\n",
       "<style scoped>\n",
       "    .dataframe tbody tr th:only-of-type {\n",
       "        vertical-align: middle;\n",
       "    }\n",
       "\n",
       "    .dataframe tbody tr th {\n",
       "        vertical-align: top;\n",
       "    }\n",
       "\n",
       "    .dataframe thead th {\n",
       "        text-align: right;\n",
       "    }\n",
       "</style>\n",
       "<table border=\"1\" class=\"dataframe\">\n",
       "  <thead>\n",
       "    <tr style=\"text-align: right;\">\n",
       "      <th></th>\n",
       "      <th>RegionName</th>\n",
       "      <th>City</th>\n",
       "      <th>State</th>\n",
       "      <th>Metro</th>\n",
       "      <th>CountyName</th>\n",
       "      <th>Housevalue_SizeRank</th>\n",
       "      <th>2010-09</th>\n",
       "      <th>2010-10</th>\n",
       "      <th>2010-11</th>\n",
       "      <th>2010-12</th>\n",
       "      <th>...</th>\n",
       "      <th>2017-04</th>\n",
       "      <th>2017-05</th>\n",
       "      <th>2017-06</th>\n",
       "      <th>2017-07</th>\n",
       "      <th>2017-08</th>\n",
       "      <th>2017-09</th>\n",
       "      <th>2017-10</th>\n",
       "      <th>2017-11</th>\n",
       "      <th>Rental_SizeRank</th>\n",
       "      <th>RegionName_rental</th>\n",
       "    </tr>\n",
       "  </thead>\n",
       "  <tbody>\n",
       "    <tr>\n",
       "      <th>1</th>\n",
       "      <td>2109</td>\n",
       "      <td>Boston</td>\n",
       "      <td>MA</td>\n",
       "      <td>Boston</td>\n",
       "      <td>Suffolk</td>\n",
       "      <td>2381</td>\n",
       "      <td>NaN</td>\n",
       "      <td>NaN</td>\n",
       "      <td>NaN</td>\n",
       "      <td>NaN</td>\n",
       "      <td>...</td>\n",
       "      <td>222.36</td>\n",
       "      <td>212.037736</td>\n",
       "      <td>230.262626</td>\n",
       "      <td>238.639175</td>\n",
       "      <td>234.36</td>\n",
       "      <td>227.064485</td>\n",
       "      <td>222.706767</td>\n",
       "      <td>212.903226</td>\n",
       "      <td>537</td>\n",
       "      <td>2109</td>\n",
       "    </tr>\n",
       "    <tr>\n",
       "      <th>2</th>\n",
       "      <td>2110</td>\n",
       "      <td>Boston</td>\n",
       "      <td>MA</td>\n",
       "      <td>Boston</td>\n",
       "      <td>Suffolk</td>\n",
       "      <td>2457</td>\n",
       "      <td>NaN</td>\n",
       "      <td>NaN</td>\n",
       "      <td>NaN</td>\n",
       "      <td>NaN</td>\n",
       "      <td>...</td>\n",
       "      <td>226.608696</td>\n",
       "      <td>225.714286</td>\n",
       "      <td>236.677583</td>\n",
       "      <td>237.949024</td>\n",
       "      <td>238.865672</td>\n",
       "      <td>253.34375</td>\n",
       "      <td>255.658915</td>\n",
       "      <td>265.952</td>\n",
       "      <td>539</td>\n",
       "      <td>2110</td>\n",
       "    </tr>\n",
       "    <tr>\n",
       "      <th>3</th>\n",
       "      <td>2111</td>\n",
       "      <td>Boston</td>\n",
       "      <td>MA</td>\n",
       "      <td>Boston</td>\n",
       "      <td>Suffolk</td>\n",
       "      <td>2221</td>\n",
       "      <td>NaN</td>\n",
       "      <td>NaN</td>\n",
       "      <td>NaN</td>\n",
       "      <td>NaN</td>\n",
       "      <td>...</td>\n",
       "      <td>234.433333</td>\n",
       "      <td>239.764706</td>\n",
       "      <td>241.575859</td>\n",
       "      <td>247.127223</td>\n",
       "      <td>241.266667</td>\n",
       "      <td>241.833333</td>\n",
       "      <td>234.886731</td>\n",
       "      <td>234.129032</td>\n",
       "      <td>524</td>\n",
       "      <td>2111</td>\n",
       "    </tr>\n",
       "    <tr>\n",
       "      <th>4</th>\n",
       "      <td>2113</td>\n",
       "      <td>Boston</td>\n",
       "      <td>MA</td>\n",
       "      <td>Boston</td>\n",
       "      <td>Suffolk</td>\n",
       "      <td>2186</td>\n",
       "      <td>NaN</td>\n",
       "      <td>NaN</td>\n",
       "      <td>NaN</td>\n",
       "      <td>NaN</td>\n",
       "      <td>...</td>\n",
       "      <td>205.772727</td>\n",
       "      <td>207.636364</td>\n",
       "      <td>214.790698</td>\n",
       "      <td>221.714286</td>\n",
       "      <td>234.25</td>\n",
       "      <td>235.15</td>\n",
       "      <td>236.3</td>\n",
       "      <td>237.968984</td>\n",
       "      <td>520</td>\n",
       "      <td>2113</td>\n",
       "    </tr>\n",
       "  </tbody>\n",
       "</table>\n",
       "<p>4 rows × 95 columns</p>\n",
       "</div>"
      ],
      "text/plain": [
       "  RegionName    City State   Metro CountyName Housevalue_SizeRank 2010-09  \\\n",
       "1       2109  Boston    MA  Boston    Suffolk                2381     NaN   \n",
       "2       2110  Boston    MA  Boston    Suffolk                2457     NaN   \n",
       "3       2111  Boston    MA  Boston    Suffolk                2221     NaN   \n",
       "4       2113  Boston    MA  Boston    Suffolk                2186     NaN   \n",
       "\n",
       "  2010-10 2010-11 2010-12  ...     2017-04     2017-05     2017-06  \\\n",
       "1     NaN     NaN     NaN  ...      222.36  212.037736  230.262626   \n",
       "2     NaN     NaN     NaN  ...  226.608696  225.714286  236.677583   \n",
       "3     NaN     NaN     NaN  ...  234.433333  239.764706  241.575859   \n",
       "4     NaN     NaN     NaN  ...  205.772727  207.636364  214.790698   \n",
       "\n",
       "      2017-07     2017-08     2017-09     2017-10     2017-11 Rental_SizeRank  \\\n",
       "1  238.639175      234.36  227.064485  222.706767  212.903226             537   \n",
       "2  237.949024  238.865672   253.34375  255.658915     265.952             539   \n",
       "3  247.127223  241.266667  241.833333  234.886731  234.129032             524   \n",
       "4  221.714286      234.25      235.15       236.3  237.968984             520   \n",
       "\n",
       "  RegionName_rental  \n",
       "1              2109  \n",
       "2              2110  \n",
       "3              2111  \n",
       "4              2113  \n",
       "\n",
       "[4 rows x 95 columns]"
      ]
     },
     "execution_count": 11,
     "metadata": {},
     "output_type": "execute_result"
    }
   ],
   "source": [
    "housevalue_rent_ratio(bed1_rent, bed1_value)[1:5]\n",
    "\n",
    "# why are some of the values like 400,000? that's impossible.\n",
    "\n",
    "# i just realized that the result of finite number/0 is the finite number. For example some of the values in ratio data frame are actually the house values itself\n",
    "#That's why its a good idea to view the data frame after any major transformation "
   ]
  },
  {
   "cell_type": "code",
   "execution_count": 12,
   "metadata": {},
   "outputs": [
    {
     "data": {
      "text/html": [
       "<div>\n",
       "<style scoped>\n",
       "    .dataframe tbody tr th:only-of-type {\n",
       "        vertical-align: middle;\n",
       "    }\n",
       "\n",
       "    .dataframe tbody tr th {\n",
       "        vertical-align: top;\n",
       "    }\n",
       "\n",
       "    .dataframe thead th {\n",
       "        text-align: right;\n",
       "    }\n",
       "</style>\n",
       "<table border=\"1\" class=\"dataframe\">\n",
       "  <thead>\n",
       "    <tr style=\"text-align: right;\">\n",
       "      <th></th>\n",
       "      <th>RegionName</th>\n",
       "      <th>City</th>\n",
       "      <th>State</th>\n",
       "      <th>Metro</th>\n",
       "      <th>CountyName</th>\n",
       "      <th>SizeRank</th>\n",
       "      <th>2010-09</th>\n",
       "      <th>2010-10</th>\n",
       "      <th>2010-11</th>\n",
       "      <th>2010-12</th>\n",
       "      <th>...</th>\n",
       "      <th>2017-02</th>\n",
       "      <th>2017-03</th>\n",
       "      <th>2017-04</th>\n",
       "      <th>2017-05</th>\n",
       "      <th>2017-06</th>\n",
       "      <th>2017-07</th>\n",
       "      <th>2017-08</th>\n",
       "      <th>2017-09</th>\n",
       "      <th>2017-10</th>\n",
       "      <th>2017-11</th>\n",
       "    </tr>\n",
       "  </thead>\n",
       "  <tbody>\n",
       "    <tr>\n",
       "      <th>0</th>\n",
       "      <td>10025</td>\n",
       "      <td>New York</td>\n",
       "      <td>NY</td>\n",
       "      <td>New York</td>\n",
       "      <td>New York</td>\n",
       "      <td>1</td>\n",
       "      <td>NaN</td>\n",
       "      <td>2537.5</td>\n",
       "      <td>2555.0</td>\n",
       "      <td>2636.5</td>\n",
       "      <td>...</td>\n",
       "      <td>2995.0</td>\n",
       "      <td>3025.0</td>\n",
       "      <td>2995.0</td>\n",
       "      <td>2975.0</td>\n",
       "      <td>2900.0</td>\n",
       "      <td>2900.0</td>\n",
       "      <td>3000.0</td>\n",
       "      <td>3025.0</td>\n",
       "      <td>3000.0</td>\n",
       "      <td>2928.5</td>\n",
       "    </tr>\n",
       "    <tr>\n",
       "      <th>1</th>\n",
       "      <td>60657</td>\n",
       "      <td>Chicago</td>\n",
       "      <td>IL</td>\n",
       "      <td>Chicago</td>\n",
       "      <td>Cook</td>\n",
       "      <td>2</td>\n",
       "      <td>NaN</td>\n",
       "      <td>NaN</td>\n",
       "      <td>NaN</td>\n",
       "      <td>NaN</td>\n",
       "      <td>...</td>\n",
       "      <td>1432.5</td>\n",
       "      <td>1450.0</td>\n",
       "      <td>1450.0</td>\n",
       "      <td>1450.0</td>\n",
       "      <td>1465.0</td>\n",
       "      <td>1450.0</td>\n",
       "      <td>1422.5</td>\n",
       "      <td>1400.0</td>\n",
       "      <td>1375.0</td>\n",
       "      <td>1370.0</td>\n",
       "    </tr>\n",
       "  </tbody>\n",
       "</table>\n",
       "<p>2 rows × 93 columns</p>\n",
       "</div>"
      ],
      "text/plain": [
       "   RegionName      City State     Metro CountyName  SizeRank  2010-09  \\\n",
       "0       10025  New York    NY  New York   New York         1      NaN   \n",
       "1       60657   Chicago    IL   Chicago       Cook         2      NaN   \n",
       "\n",
       "   2010-10  2010-11  2010-12  ...  2017-02  2017-03  2017-04  2017-05  \\\n",
       "0   2537.5   2555.0   2636.5  ...   2995.0   3025.0   2995.0   2975.0   \n",
       "1      NaN      NaN      NaN  ...   1432.5   1450.0   1450.0   1450.0   \n",
       "\n",
       "   2017-06  2017-07  2017-08  2017-09  2017-10  2017-11  \n",
       "0   2900.0   2900.0   3000.0   3025.0   3000.0   2928.5  \n",
       "1   1465.0   1450.0   1422.5   1400.0   1375.0   1370.0  \n",
       "\n",
       "[2 rows x 93 columns]"
      ]
     },
     "execution_count": 12,
     "metadata": {},
     "output_type": "execute_result"
    }
   ],
   "source": [
    "bed1_rent[0:2]"
   ]
  },
  {
   "cell_type": "code",
   "execution_count": 13,
   "metadata": {},
   "outputs": [
    {
     "data": {
      "text/html": [
       "<div>\n",
       "<style scoped>\n",
       "    .dataframe tbody tr th:only-of-type {\n",
       "        vertical-align: middle;\n",
       "    }\n",
       "\n",
       "    .dataframe tbody tr th {\n",
       "        vertical-align: top;\n",
       "    }\n",
       "\n",
       "    .dataframe thead th {\n",
       "        text-align: right;\n",
       "    }\n",
       "</style>\n",
       "<table border=\"1\" class=\"dataframe\">\n",
       "  <thead>\n",
       "    <tr style=\"text-align: right;\">\n",
       "      <th></th>\n",
       "      <th>RegionID</th>\n",
       "      <th>RegionName</th>\n",
       "      <th>City</th>\n",
       "      <th>State</th>\n",
       "      <th>Metro</th>\n",
       "      <th>CountyName</th>\n",
       "      <th>SizeRank</th>\n",
       "      <th>1996-04</th>\n",
       "      <th>1996-05</th>\n",
       "      <th>1996-06</th>\n",
       "      <th>...</th>\n",
       "      <th>2017-02</th>\n",
       "      <th>2017-03</th>\n",
       "      <th>2017-04</th>\n",
       "      <th>2017-05</th>\n",
       "      <th>2017-06</th>\n",
       "      <th>2017-07</th>\n",
       "      <th>2017-08</th>\n",
       "      <th>2017-09</th>\n",
       "      <th>2017-10</th>\n",
       "      <th>2017-11</th>\n",
       "    </tr>\n",
       "  </thead>\n",
       "  <tbody>\n",
       "    <tr>\n",
       "      <th>0</th>\n",
       "      <td>84654</td>\n",
       "      <td>60657</td>\n",
       "      <td>Chicago</td>\n",
       "      <td>IL</td>\n",
       "      <td>Chicago</td>\n",
       "      <td>Cook</td>\n",
       "      <td>1</td>\n",
       "      <td>95000.0</td>\n",
       "      <td>95600.0</td>\n",
       "      <td>95400.0</td>\n",
       "      <td>...</td>\n",
       "      <td>215300</td>\n",
       "      <td>216700</td>\n",
       "      <td>217600</td>\n",
       "      <td>216900</td>\n",
       "      <td>216100</td>\n",
       "      <td>216100</td>\n",
       "      <td>217000</td>\n",
       "      <td>218400.0</td>\n",
       "      <td>219100.0</td>\n",
       "      <td>218600.0</td>\n",
       "    </tr>\n",
       "    <tr>\n",
       "      <th>1</th>\n",
       "      <td>84616</td>\n",
       "      <td>60614</td>\n",
       "      <td>Chicago</td>\n",
       "      <td>IL</td>\n",
       "      <td>Chicago</td>\n",
       "      <td>Cook</td>\n",
       "      <td>2</td>\n",
       "      <td>114500.0</td>\n",
       "      <td>114500.0</td>\n",
       "      <td>113900.0</td>\n",
       "      <td>...</td>\n",
       "      <td>247000</td>\n",
       "      <td>244800</td>\n",
       "      <td>243100</td>\n",
       "      <td>241700</td>\n",
       "      <td>240800</td>\n",
       "      <td>239500</td>\n",
       "      <td>237900</td>\n",
       "      <td>236800.0</td>\n",
       "      <td>236500.0</td>\n",
       "      <td>236400.0</td>\n",
       "    </tr>\n",
       "  </tbody>\n",
       "</table>\n",
       "<p>2 rows × 267 columns</p>\n",
       "</div>"
      ],
      "text/plain": [
       "   RegionID  RegionName     City State    Metro CountyName  SizeRank  \\\n",
       "0     84654       60657  Chicago    IL  Chicago       Cook         1   \n",
       "1     84616       60614  Chicago    IL  Chicago       Cook         2   \n",
       "\n",
       "    1996-04   1996-05   1996-06  ...  2017-02  2017-03  2017-04  2017-05  \\\n",
       "0   95000.0   95600.0   95400.0  ...   215300   216700   217600   216900   \n",
       "1  114500.0  114500.0  113900.0  ...   247000   244800   243100   241700   \n",
       "\n",
       "   2017-06  2017-07  2017-08   2017-09   2017-10   2017-11  \n",
       "0   216100   216100   217000  218400.0  219100.0  218600.0  \n",
       "1   240800   239500   237900  236800.0  236500.0  236400.0  \n",
       "\n",
       "[2 rows x 267 columns]"
      ]
     },
     "execution_count": 13,
     "metadata": {},
     "output_type": "execute_result"
    }
   ],
   "source": [
    "bed1_value[0:2]"
   ]
  },
  {
   "cell_type": "code",
   "execution_count": 14,
   "metadata": {},
   "outputs": [],
   "source": [
    "bed1_ratio_data = housevalue_rent_ratio(bed1_rent, bed1_value)\n",
    "bed2_ratio_data = housevalue_rent_ratio(bed2_rent, bed2_value)\n",
    "bed3_ratio_data = housevalue_rent_ratio(bed3_rent, bed3_value)\n",
    "#bed4_ratio_data = housevalue_rent_ratio(bed4_rent, bed4_value)\n",
    "#bed5_ratio_data = housevalue_rent_ratio(bed5_rent, bed5_value)"
   ]
  },
  {
   "cell_type": "code",
   "execution_count": 15,
   "metadata": {},
   "outputs": [
    {
     "name": "stdout",
     "output_type": "stream",
     "text": [
      "0.9631526764111726\n",
      "0.919896724994447\n",
      "0.8724304730574302\n"
     ]
    }
   ],
   "source": [
    "# Are the housing markets common for both buying/selling and rental. Lets do simple correlation\n",
    "\n",
    "print(bed1_ratio_data['Housevalue_SizeRank'].astype(float).corr(bed1_ratio_data['Rental_SizeRank'].astype(float)))\n",
    "print(bed2_ratio_data['Housevalue_SizeRank'].astype(float).corr(bed2_ratio_data['Rental_SizeRank'].astype(float)))\n",
    "print(bed3_ratio_data['Housevalue_SizeRank'].astype(float).corr(bed3_ratio_data['Rental_SizeRank'].astype(float)))\n",
    "\n",
    "#clearly, the big markets are often the same"
   ]
  },
  {
   "cell_type": "code",
   "execution_count": 16,
   "metadata": {},
   "outputs": [],
   "source": [
    "# shortcut to error discussed earlier: replace all values greater than 1200 (100 years) as null. More than 100 years most certainly a data error anyway. i am not certainly to go buy a property that takes 100 years to pay down anyway\n",
    "# I don't want to set such values 0. Some manipulation step could get messed up later\n",
    "\n",
    "dummy_df = bed1_ratio_data.iloc[:,6:93]\n",
    "dummy_df[dummy_df>1200] = None\n",
    "dummy = bed1_ratio_data.iloc[:,0:6]\n",
    "bed1_ratio_data = pd.concat([dummy, dummy_df], axis =1)\n"
   ]
  },
  {
   "cell_type": "code",
   "execution_count": 17,
   "metadata": {},
   "outputs": [
    {
     "data": {
      "text/plain": [
       "34.0"
      ]
     },
     "execution_count": 17,
     "metadata": {},
     "output_type": "execute_result"
    }
   ],
   "source": [
    "# Just wondering what if the value column is null and the rent has a value? does the data frame just contain zero?\n",
    "\n",
    "dummy_df2 = dummy_df.iloc[:,6:93]\n",
    "min_across_years = dummy_df2.min(skipna = True)\n",
    "min(min_across_years)\n",
    "\n",
    "# So there are no instances where we have rental data but no house value data."
   ]
  },
  {
   "cell_type": "code",
   "execution_count": 18,
   "metadata": {},
   "outputs": [
    {
     "data": {
      "text/html": [
       "<div>\n",
       "<style scoped>\n",
       "    .dataframe tbody tr th:only-of-type {\n",
       "        vertical-align: middle;\n",
       "    }\n",
       "\n",
       "    .dataframe tbody tr th {\n",
       "        vertical-align: top;\n",
       "    }\n",
       "\n",
       "    .dataframe thead th {\n",
       "        text-align: right;\n",
       "    }\n",
       "</style>\n",
       "<table border=\"1\" class=\"dataframe\">\n",
       "  <thead>\n",
       "    <tr style=\"text-align: right;\">\n",
       "      <th></th>\n",
       "      <th>RegionName</th>\n",
       "      <th>City</th>\n",
       "      <th>State</th>\n",
       "      <th>Metro</th>\n",
       "      <th>CountyName</th>\n",
       "      <th>Housevalue_SizeRank</th>\n",
       "      <th>2010-09</th>\n",
       "      <th>2010-10</th>\n",
       "      <th>2010-11</th>\n",
       "      <th>2010-12</th>\n",
       "      <th>...</th>\n",
       "      <th>2017-02</th>\n",
       "      <th>2017-03</th>\n",
       "      <th>2017-04</th>\n",
       "      <th>2017-05</th>\n",
       "      <th>2017-06</th>\n",
       "      <th>2017-07</th>\n",
       "      <th>2017-08</th>\n",
       "      <th>2017-09</th>\n",
       "      <th>2017-10</th>\n",
       "      <th>2017-11</th>\n",
       "    </tr>\n",
       "  </thead>\n",
       "  <tbody>\n",
       "    <tr>\n",
       "      <th>1</th>\n",
       "      <td>2109</td>\n",
       "      <td>Boston</td>\n",
       "      <td>MA</td>\n",
       "      <td>Boston</td>\n",
       "      <td>Suffolk</td>\n",
       "      <td>2381</td>\n",
       "      <td>NaN</td>\n",
       "      <td>NaN</td>\n",
       "      <td>NaN</td>\n",
       "      <td>NaN</td>\n",
       "      <td>...</td>\n",
       "      <td>226.958333</td>\n",
       "      <td>239.26087</td>\n",
       "      <td>222.36</td>\n",
       "      <td>212.037736</td>\n",
       "      <td>230.262626</td>\n",
       "      <td>238.639175</td>\n",
       "      <td>234.36</td>\n",
       "      <td>227.064485</td>\n",
       "      <td>222.706767</td>\n",
       "      <td>212.903226</td>\n",
       "    </tr>\n",
       "    <tr>\n",
       "      <th>2</th>\n",
       "      <td>2110</td>\n",
       "      <td>Boston</td>\n",
       "      <td>MA</td>\n",
       "      <td>Boston</td>\n",
       "      <td>Suffolk</td>\n",
       "      <td>2457</td>\n",
       "      <td>NaN</td>\n",
       "      <td>NaN</td>\n",
       "      <td>NaN</td>\n",
       "      <td>NaN</td>\n",
       "      <td>...</td>\n",
       "      <td>216.084507</td>\n",
       "      <td>231.449925</td>\n",
       "      <td>226.608696</td>\n",
       "      <td>225.714286</td>\n",
       "      <td>236.677583</td>\n",
       "      <td>237.949024</td>\n",
       "      <td>238.865672</td>\n",
       "      <td>253.34375</td>\n",
       "      <td>255.658915</td>\n",
       "      <td>265.952</td>\n",
       "    </tr>\n",
       "  </tbody>\n",
       "</table>\n",
       "<p>2 rows × 93 columns</p>\n",
       "</div>"
      ],
      "text/plain": [
       "  RegionName    City State   Metro CountyName Housevalue_SizeRank 2010-09  \\\n",
       "1       2109  Boston    MA  Boston    Suffolk                2381     NaN   \n",
       "2       2110  Boston    MA  Boston    Suffolk                2457     NaN   \n",
       "\n",
       "  2010-10 2010-11 2010-12  ...     2017-02     2017-03     2017-04  \\\n",
       "1     NaN     NaN     NaN  ...  226.958333   239.26087      222.36   \n",
       "2     NaN     NaN     NaN  ...  216.084507  231.449925  226.608696   \n",
       "\n",
       "      2017-05     2017-06     2017-07     2017-08     2017-09     2017-10  \\\n",
       "1  212.037736  230.262626  238.639175      234.36  227.064485  222.706767   \n",
       "2  225.714286  236.677583  237.949024  238.865672   253.34375  255.658915   \n",
       "\n",
       "      2017-11  \n",
       "1  212.903226  \n",
       "2     265.952  \n",
       "\n",
       "[2 rows x 93 columns]"
      ]
     },
     "execution_count": 18,
     "metadata": {},
     "output_type": "execute_result"
    }
   ],
   "source": [
    "bed1_ratio_data[1:3]\n",
    "\n",
    "# it works"
   ]
  },
  {
   "cell_type": "code",
   "execution_count": 19,
   "metadata": {},
   "outputs": [],
   "source": [
    "dummy_df = bed2_ratio_data.iloc[:,6:93]\n",
    "dummy_df[dummy_df>1200] = None\n",
    "dummy = bed2_ratio_data.iloc[:,0:6]\n",
    "bed2_ratio_data = pd.concat([dummy, dummy_df], axis = 1)"
   ]
  },
  {
   "cell_type": "code",
   "execution_count": 20,
   "metadata": {},
   "outputs": [],
   "source": [
    "dummy_df = bed3_ratio_data.iloc[:,6:93]\n",
    "dummy_df[dummy_df>1200] = None\n",
    "dummy = bed3_ratio_data.iloc[:,0:6]\n",
    "bed3_ratio_data = pd.concat([dummy, dummy_df], axis = 1)"
   ]
  },
  {
   "cell_type": "code",
   "execution_count": 21,
   "metadata": {},
   "outputs": [
    {
     "name": "stdout",
     "output_type": "stream",
     "text": [
      "296\n",
      "643\n",
      "537\n"
     ]
    }
   ],
   "source": [
    "print(len(bed1_ratio_data))\n",
    "print(len(bed2_ratio_data))\n",
    "print(len(bed3_ratio_data))"
   ]
  },
  {
   "cell_type": "code",
   "execution_count": 22,
   "metadata": {},
   "outputs": [
    {
     "data": {
      "text/plain": [
       "count    296.000000\n",
       "mean      14.831000\n",
       "std        5.856826\n",
       "min        3.476190\n",
       "25%       10.641626\n",
       "50%       13.826556\n",
       "75%       18.813893\n",
       "max       31.439716\n",
       "Name: 2017-11, dtype: float64"
      ]
     },
     "execution_count": 22,
     "metadata": {},
     "output_type": "execute_result"
    }
   ],
   "source": [
    "# time to look at the ratio stats. can't wait anymore\n",
    "\n",
    "(bed1_ratio_data['2017-11']/12).astype(float).describe()\n",
    "\n",
    "# So it takes nearly 15 years to pay off mortgage in USA with rental income (not considering property taxes, property maintenance, property management fee, rental, income taxes, HoA fees)"
   ]
  },
  {
   "cell_type": "code",
   "execution_count": 23,
   "metadata": {},
   "outputs": [
    {
     "data": {
      "text/plain": [
       "count    643.000000\n",
       "mean      15.030066\n",
       "std        6.895595\n",
       "min        3.333333\n",
       "25%       10.189430\n",
       "50%       13.546890\n",
       "75%       18.330882\n",
       "max       54.908069\n",
       "Name: 2017-11, dtype: float64"
      ]
     },
     "execution_count": 23,
     "metadata": {},
     "output_type": "execute_result"
    }
   ],
   "source": [
    "(bed2_ratio_data['2017-11']/12).astype(float).describe()\n",
    "\n",
    "# look like the same 15 years for 2 bedroom homes too"
   ]
  },
  {
   "cell_type": "code",
   "execution_count": 24,
   "metadata": {},
   "outputs": [
    {
     "data": {
      "text/plain": [
       "count    537.000000\n",
       "mean      13.203310\n",
       "std        5.075132\n",
       "min        2.766111\n",
       "25%       10.266667\n",
       "50%       11.790850\n",
       "75%       15.203704\n",
       "max       38.555556\n",
       "Name: 2017-11, dtype: float64"
      ]
     },
     "execution_count": 24,
     "metadata": {},
     "output_type": "execute_result"
    }
   ],
   "source": [
    "(bed3_ratio_data['2017-11']/12).astype(float).describe()\n",
    "\n",
    "# what? its better to build a portfolio with 3 bedroom homes? didn't expect that"
   ]
  },
  {
   "cell_type": "code",
   "execution_count": 25,
   "metadata": {},
   "outputs": [],
   "source": [
    "def median_ratios(x):\n",
    "    just_ratios = x.iloc[:,6:93]\n",
    "    median_ratio = pd.DataFrame(index = pd.Series(range(0,1)))\n",
    "    for i in range(0,87):\n",
    "        median_ratio[0,i] = (just_ratios.iloc[:,i].median())/12\n",
    "    median_ratio.columns = just_ratios.columns\n",
    "    return median_ratio"
   ]
  },
  {
   "cell_type": "code",
   "execution_count": 26,
   "metadata": {},
   "outputs": [],
   "source": [
    "bed1_median_ratios = median_ratios(bed1_ratio_data)\n",
    "bed2_median_ratios = median_ratios(bed2_ratio_data)\n",
    "bed3_median_ratios = median_ratios(bed3_ratio_data)"
   ]
  },
  {
   "cell_type": "code",
   "execution_count": 27,
   "metadata": {},
   "outputs": [
    {
     "data": {
      "text/html": [
       "<div>\n",
       "<style scoped>\n",
       "    .dataframe tbody tr th:only-of-type {\n",
       "        vertical-align: middle;\n",
       "    }\n",
       "\n",
       "    .dataframe tbody tr th {\n",
       "        vertical-align: top;\n",
       "    }\n",
       "\n",
       "    .dataframe thead th {\n",
       "        text-align: right;\n",
       "    }\n",
       "</style>\n",
       "<table border=\"1\" class=\"dataframe\">\n",
       "  <thead>\n",
       "    <tr style=\"text-align: right;\">\n",
       "      <th></th>\n",
       "      <th>2010-09</th>\n",
       "      <th>2010-10</th>\n",
       "      <th>2010-11</th>\n",
       "      <th>2010-12</th>\n",
       "      <th>2011-01</th>\n",
       "      <th>2011-02</th>\n",
       "      <th>2011-03</th>\n",
       "      <th>2011-04</th>\n",
       "      <th>2011-05</th>\n",
       "      <th>2011-06</th>\n",
       "      <th>...</th>\n",
       "      <th>2017-02</th>\n",
       "      <th>2017-03</th>\n",
       "      <th>2017-04</th>\n",
       "      <th>2017-05</th>\n",
       "      <th>2017-06</th>\n",
       "      <th>2017-07</th>\n",
       "      <th>2017-08</th>\n",
       "      <th>2017-09</th>\n",
       "      <th>2017-10</th>\n",
       "      <th>2017-11</th>\n",
       "    </tr>\n",
       "  </thead>\n",
       "  <tbody>\n",
       "    <tr>\n",
       "      <th>0</th>\n",
       "      <td>12.149938</td>\n",
       "      <td>12.592501</td>\n",
       "      <td>12.007435</td>\n",
       "      <td>14.854043</td>\n",
       "      <td>11.71203</td>\n",
       "      <td>11.6875</td>\n",
       "      <td>11.541471</td>\n",
       "      <td>11.591009</td>\n",
       "      <td>10.964167</td>\n",
       "      <td>11.159345</td>\n",
       "      <td>...</td>\n",
       "      <td>13.487698</td>\n",
       "      <td>13.449258</td>\n",
       "      <td>13.560582</td>\n",
       "      <td>13.449773</td>\n",
       "      <td>13.467433</td>\n",
       "      <td>13.354951</td>\n",
       "      <td>13.293141</td>\n",
       "      <td>13.434983</td>\n",
       "      <td>13.830697</td>\n",
       "      <td>13.826556</td>\n",
       "    </tr>\n",
       "  </tbody>\n",
       "</table>\n",
       "<p>1 rows × 87 columns</p>\n",
       "</div>"
      ],
      "text/plain": [
       "     2010-09    2010-10    2010-11    2010-12   2011-01  2011-02    2011-03  \\\n",
       "0  12.149938  12.592501  12.007435  14.854043  11.71203  11.6875  11.541471   \n",
       "\n",
       "     2011-04    2011-05    2011-06  ...    2017-02    2017-03    2017-04  \\\n",
       "0  11.591009  10.964167  11.159345  ...  13.487698  13.449258  13.560582   \n",
       "\n",
       "     2017-05    2017-06    2017-07    2017-08    2017-09    2017-10    2017-11  \n",
       "0  13.449773  13.467433  13.354951  13.293141  13.434983  13.830697  13.826556  \n",
       "\n",
       "[1 rows x 87 columns]"
      ]
     },
     "execution_count": 27,
     "metadata": {},
     "output_type": "execute_result"
    }
   ],
   "source": [
    "bed1_median_ratios"
   ]
  },
  {
   "cell_type": "code",
   "execution_count": 28,
   "metadata": {},
   "outputs": [
    {
     "data": {
      "text/html": [
       "<div>\n",
       "<style scoped>\n",
       "    .dataframe tbody tr th:only-of-type {\n",
       "        vertical-align: middle;\n",
       "    }\n",
       "\n",
       "    .dataframe tbody tr th {\n",
       "        vertical-align: top;\n",
       "    }\n",
       "\n",
       "    .dataframe thead th {\n",
       "        text-align: right;\n",
       "    }\n",
       "</style>\n",
       "<table border=\"1\" class=\"dataframe\">\n",
       "  <thead>\n",
       "    <tr style=\"text-align: right;\">\n",
       "      <th></th>\n",
       "      <th>2010-09</th>\n",
       "      <th>2010-10</th>\n",
       "      <th>2010-11</th>\n",
       "      <th>2010-12</th>\n",
       "      <th>2011-01</th>\n",
       "      <th>2011-02</th>\n",
       "      <th>2011-03</th>\n",
       "      <th>2011-04</th>\n",
       "      <th>2011-05</th>\n",
       "      <th>2011-06</th>\n",
       "      <th>...</th>\n",
       "      <th>2017-02</th>\n",
       "      <th>2017-03</th>\n",
       "      <th>2017-04</th>\n",
       "      <th>2017-05</th>\n",
       "      <th>2017-06</th>\n",
       "      <th>2017-07</th>\n",
       "      <th>2017-08</th>\n",
       "      <th>2017-09</th>\n",
       "      <th>2017-10</th>\n",
       "      <th>2017-11</th>\n",
       "    </tr>\n",
       "  </thead>\n",
       "  <tbody>\n",
       "    <tr>\n",
       "      <th>0</th>\n",
       "      <td>10.229167</td>\n",
       "      <td>10.595367</td>\n",
       "      <td>10.859649</td>\n",
       "      <td>11.695833</td>\n",
       "      <td>10.570439</td>\n",
       "      <td>9.378788</td>\n",
       "      <td>9.511709</td>\n",
       "      <td>10.212579</td>\n",
       "      <td>9.802198</td>\n",
       "      <td>9.423423</td>\n",
       "      <td>...</td>\n",
       "      <td>13.413043</td>\n",
       "      <td>13.169769</td>\n",
       "      <td>13.157658</td>\n",
       "      <td>13.034507</td>\n",
       "      <td>13.081818</td>\n",
       "      <td>13.073023</td>\n",
       "      <td>13.144517</td>\n",
       "      <td>13.3</td>\n",
       "      <td>13.438538</td>\n",
       "      <td>13.54689</td>\n",
       "    </tr>\n",
       "  </tbody>\n",
       "</table>\n",
       "<p>1 rows × 87 columns</p>\n",
       "</div>"
      ],
      "text/plain": [
       "     2010-09    2010-10    2010-11    2010-12    2011-01   2011-02   2011-03  \\\n",
       "0  10.229167  10.595367  10.859649  11.695833  10.570439  9.378788  9.511709   \n",
       "\n",
       "     2011-04   2011-05   2011-06  ...    2017-02    2017-03    2017-04  \\\n",
       "0  10.212579  9.802198  9.423423  ...  13.413043  13.169769  13.157658   \n",
       "\n",
       "     2017-05    2017-06    2017-07    2017-08  2017-09    2017-10   2017-11  \n",
       "0  13.034507  13.081818  13.073023  13.144517     13.3  13.438538  13.54689  \n",
       "\n",
       "[1 rows x 87 columns]"
      ]
     },
     "execution_count": 28,
     "metadata": {},
     "output_type": "execute_result"
    }
   ],
   "source": [
    "bed2_median_ratios"
   ]
  },
  {
   "cell_type": "code",
   "execution_count": 29,
   "metadata": {},
   "outputs": [
    {
     "data": {
      "text/html": [
       "<div>\n",
       "<style scoped>\n",
       "    .dataframe tbody tr th:only-of-type {\n",
       "        vertical-align: middle;\n",
       "    }\n",
       "\n",
       "    .dataframe tbody tr th {\n",
       "        vertical-align: top;\n",
       "    }\n",
       "\n",
       "    .dataframe thead th {\n",
       "        text-align: right;\n",
       "    }\n",
       "</style>\n",
       "<table border=\"1\" class=\"dataframe\">\n",
       "  <thead>\n",
       "    <tr style=\"text-align: right;\">\n",
       "      <th></th>\n",
       "      <th>2010-09</th>\n",
       "      <th>2010-10</th>\n",
       "      <th>2010-11</th>\n",
       "      <th>2010-12</th>\n",
       "      <th>2011-01</th>\n",
       "      <th>2011-02</th>\n",
       "      <th>2011-03</th>\n",
       "      <th>2011-04</th>\n",
       "      <th>2011-05</th>\n",
       "      <th>2011-06</th>\n",
       "      <th>...</th>\n",
       "      <th>2017-02</th>\n",
       "      <th>2017-03</th>\n",
       "      <th>2017-04</th>\n",
       "      <th>2017-05</th>\n",
       "      <th>2017-06</th>\n",
       "      <th>2017-07</th>\n",
       "      <th>2017-08</th>\n",
       "      <th>2017-09</th>\n",
       "      <th>2017-10</th>\n",
       "      <th>2017-11</th>\n",
       "    </tr>\n",
       "  </thead>\n",
       "  <tbody>\n",
       "    <tr>\n",
       "      <th>0</th>\n",
       "      <td>11.06981</td>\n",
       "      <td>11.091459</td>\n",
       "      <td>10.7711</td>\n",
       "      <td>10.292682</td>\n",
       "      <td>10.271259</td>\n",
       "      <td>10.045243</td>\n",
       "      <td>8.907389</td>\n",
       "      <td>7.969897</td>\n",
       "      <td>8.68254</td>\n",
       "      <td>9.1125</td>\n",
       "      <td>...</td>\n",
       "      <td>11.788551</td>\n",
       "      <td>11.886792</td>\n",
       "      <td>11.916251</td>\n",
       "      <td>11.912037</td>\n",
       "      <td>11.91247</td>\n",
       "      <td>11.876047</td>\n",
       "      <td>11.930456</td>\n",
       "      <td>11.909651</td>\n",
       "      <td>11.781609</td>\n",
       "      <td>11.79085</td>\n",
       "    </tr>\n",
       "  </tbody>\n",
       "</table>\n",
       "<p>1 rows × 87 columns</p>\n",
       "</div>"
      ],
      "text/plain": [
       "    2010-09    2010-10  2010-11    2010-12    2011-01    2011-02   2011-03  \\\n",
       "0  11.06981  11.091459  10.7711  10.292682  10.271259  10.045243  8.907389   \n",
       "\n",
       "    2011-04  2011-05  2011-06  ...    2017-02    2017-03    2017-04  \\\n",
       "0  7.969897  8.68254   9.1125  ...  11.788551  11.886792  11.916251   \n",
       "\n",
       "     2017-05   2017-06    2017-07    2017-08    2017-09    2017-10   2017-11  \n",
       "0  11.912037  11.91247  11.876047  11.930456  11.909651  11.781609  11.79085  \n",
       "\n",
       "[1 rows x 87 columns]"
      ]
     },
     "execution_count": 29,
     "metadata": {},
     "output_type": "execute_result"
    }
   ],
   "source": [
    "bed3_median_ratios\n",
    "\n",
    "# seems right"
   ]
  },
  {
   "cell_type": "code",
   "execution_count": 30,
   "metadata": {},
   "outputs": [
    {
     "data": {
      "text/html": [
       "<div>\n",
       "<style scoped>\n",
       "    .dataframe tbody tr th:only-of-type {\n",
       "        vertical-align: middle;\n",
       "    }\n",
       "\n",
       "    .dataframe tbody tr th {\n",
       "        vertical-align: top;\n",
       "    }\n",
       "\n",
       "    .dataframe thead th {\n",
       "        text-align: right;\n",
       "    }\n",
       "</style>\n",
       "<table border=\"1\" class=\"dataframe\">\n",
       "  <thead>\n",
       "    <tr style=\"text-align: right;\">\n",
       "      <th></th>\n",
       "      <th>bed1</th>\n",
       "      <th>bed2</th>\n",
       "      <th>bed3</th>\n",
       "    </tr>\n",
       "  </thead>\n",
       "  <tbody>\n",
       "    <tr>\n",
       "      <th>2010-10</th>\n",
       "      <td>12.592501</td>\n",
       "      <td>10.595367</td>\n",
       "      <td>11.091459</td>\n",
       "    </tr>\n",
       "    <tr>\n",
       "      <th>2010-11</th>\n",
       "      <td>12.007435</td>\n",
       "      <td>10.859649</td>\n",
       "      <td>10.771100</td>\n",
       "    </tr>\n",
       "    <tr>\n",
       "      <th>2010-12</th>\n",
       "      <td>14.854043</td>\n",
       "      <td>11.695833</td>\n",
       "      <td>10.292682</td>\n",
       "    </tr>\n",
       "    <tr>\n",
       "      <th>2011-01</th>\n",
       "      <td>11.712030</td>\n",
       "      <td>10.570439</td>\n",
       "      <td>10.271259</td>\n",
       "    </tr>\n",
       "  </tbody>\n",
       "</table>\n",
       "</div>"
      ],
      "text/plain": [
       "              bed1       bed2       bed3\n",
       "2010-10  12.592501  10.595367  11.091459\n",
       "2010-11  12.007435  10.859649  10.771100\n",
       "2010-12  14.854043  11.695833  10.292682\n",
       "2011-01  11.712030  10.570439  10.271259"
      ]
     },
     "execution_count": 30,
     "metadata": {},
     "output_type": "execute_result"
    }
   ],
   "source": [
    "median_ratios_df = pd.concat([bed1_median_ratios, bed2_median_ratios, bed3_median_ratios], axis =0)\n",
    "median_ratios_df = median_ratios_df.set_index([['bed1', 'bed2', 'bed3']])\n",
    "median_ratios_df = median_ratios_df.transpose()\n",
    "median_ratios_df[1:5]"
   ]
  },
  {
   "cell_type": "code",
   "execution_count": 31,
   "metadata": {},
   "outputs": [
    {
     "data": {
      "text/plain": [
       "<AxesSubplot:xlabel='Years', ylabel='House Value / Yearly Rent ratio'>"
      ]
     },
     "execution_count": 31,
     "metadata": {},
     "output_type": "execute_result"
    },
    {
     "data": {
      "image/png": "[encoded data removed]",
      "text/plain": [
       "<Figure size 432x288 with 1 Axes>"
      ]
     },
     "metadata": {
      "needs_background": "light"
     },
     "output_type": "display_data"
    }
   ],
   "source": [
    "median_ratios_df.plot(xlabel = 'Years', ylabel = 'House Value / Yearly Rent ratio')"
   ]
  },
  {
   "cell_type": "code",
   "execution_count": 32,
   "metadata": {},
   "outputs": [],
   "source": [
    "def median_values(x):\n",
    "    just_ratios = x.iloc[:,7:len(x.columns)]\n",
    "    median_ratio = pd.DataFrame(index = pd.Series(range(0,1)))\n",
    "    for i in range(0, (len(x.columns) - 7)):\n",
    "        median_ratio[0,i] = (just_ratios.iloc[:,i].median())\n",
    "    median_ratio.columns = just_ratios.columns\n",
    "    return median_ratio"
   ]
  },
  {
   "cell_type": "code",
   "execution_count": 33,
   "metadata": {},
   "outputs": [],
   "source": [
    "bed1_median_value = median_values(bed1_value)\n",
    "bed2_median_value = median_values(bed2_value)\n",
    "bed3_median_value = median_values(bed3_value)"
   ]
  },
  {
   "cell_type": "code",
   "execution_count": 34,
   "metadata": {},
   "outputs": [
    {
     "data": {
      "text/html": [
       "<div>\n",
       "<style scoped>\n",
       "    .dataframe tbody tr th:only-of-type {\n",
       "        vertical-align: middle;\n",
       "    }\n",
       "\n",
       "    .dataframe tbody tr th {\n",
       "        vertical-align: top;\n",
       "    }\n",
       "\n",
       "    .dataframe thead th {\n",
       "        text-align: right;\n",
       "    }\n",
       "</style>\n",
       "<table border=\"1\" class=\"dataframe\">\n",
       "  <thead>\n",
       "    <tr style=\"text-align: right;\">\n",
       "      <th></th>\n",
       "      <th>bed1</th>\n",
       "      <th>bed2</th>\n",
       "      <th>bed3</th>\n",
       "    </tr>\n",
       "  </thead>\n",
       "  <tbody>\n",
       "    <tr>\n",
       "      <th>1996-05</th>\n",
       "      <td>72500.0</td>\n",
       "      <td>82850.0</td>\n",
       "      <td>103300.0</td>\n",
       "    </tr>\n",
       "    <tr>\n",
       "      <th>1996-06</th>\n",
       "      <td>72300.0</td>\n",
       "      <td>82800.0</td>\n",
       "      <td>103200.0</td>\n",
       "    </tr>\n",
       "    <tr>\n",
       "      <th>1996-07</th>\n",
       "      <td>72100.0</td>\n",
       "      <td>82850.0</td>\n",
       "      <td>103400.0</td>\n",
       "    </tr>\n",
       "    <tr>\n",
       "      <th>1996-08</th>\n",
       "      <td>71800.0</td>\n",
       "      <td>82700.0</td>\n",
       "      <td>103900.0</td>\n",
       "    </tr>\n",
       "  </tbody>\n",
       "</table>\n",
       "</div>"
      ],
      "text/plain": [
       "            bed1     bed2      bed3\n",
       "1996-05  72500.0  82850.0  103300.0\n",
       "1996-06  72300.0  82800.0  103200.0\n",
       "1996-07  72100.0  82850.0  103400.0\n",
       "1996-08  71800.0  82700.0  103900.0"
      ]
     },
     "execution_count": 34,
     "metadata": {},
     "output_type": "execute_result"
    }
   ],
   "source": [
    "median_values_df = pd.concat([bed1_median_value, bed2_median_value, bed3_median_value], axis =0)\n",
    "median_values_df = median_values_df.set_index([['bed1', 'bed2', 'bed3']])\n",
    "median_values_df = median_values_df.transpose()\n",
    "median_values_df[1:5]"
   ]
  },
  {
   "cell_type": "code",
   "execution_count": 35,
   "metadata": {},
   "outputs": [
    {
     "data": {
      "text/html": [
       "<div>\n",
       "<style scoped>\n",
       "    .dataframe tbody tr th:only-of-type {\n",
       "        vertical-align: middle;\n",
       "    }\n",
       "\n",
       "    .dataframe tbody tr th {\n",
       "        vertical-align: top;\n",
       "    }\n",
       "\n",
       "    .dataframe thead th {\n",
       "        text-align: right;\n",
       "    }\n",
       "</style>\n",
       "<table border=\"1\" class=\"dataframe\">\n",
       "  <thead>\n",
       "    <tr style=\"text-align: right;\">\n",
       "      <th></th>\n",
       "      <th>bed1</th>\n",
       "      <th>bed2</th>\n",
       "      <th>bed3</th>\n",
       "    </tr>\n",
       "  </thead>\n",
       "  <tbody>\n",
       "    <tr>\n",
       "      <th>2017-07</th>\n",
       "      <td>157700.0</td>\n",
       "      <td>149000.0</td>\n",
       "      <td>186200.0</td>\n",
       "    </tr>\n",
       "    <tr>\n",
       "      <th>2017-08</th>\n",
       "      <td>159000.0</td>\n",
       "      <td>149800.0</td>\n",
       "      <td>186900.0</td>\n",
       "    </tr>\n",
       "    <tr>\n",
       "      <th>2017-09</th>\n",
       "      <td>160450.0</td>\n",
       "      <td>150950.0</td>\n",
       "      <td>188000.0</td>\n",
       "    </tr>\n",
       "    <tr>\n",
       "      <th>2017-10</th>\n",
       "      <td>161600.0</td>\n",
       "      <td>152150.0</td>\n",
       "      <td>189400.0</td>\n",
       "    </tr>\n",
       "    <tr>\n",
       "      <th>2017-11</th>\n",
       "      <td>162350.0</td>\n",
       "      <td>153200.0</td>\n",
       "      <td>190300.0</td>\n",
       "    </tr>\n",
       "  </tbody>\n",
       "</table>\n",
       "</div>"
      ],
      "text/plain": [
       "             bed1      bed2      bed3\n",
       "2017-07  157700.0  149000.0  186200.0\n",
       "2017-08  159000.0  149800.0  186900.0\n",
       "2017-09  160450.0  150950.0  188000.0\n",
       "2017-10  161600.0  152150.0  189400.0\n",
       "2017-11  162350.0  153200.0  190300.0"
      ]
     },
     "execution_count": 35,
     "metadata": {},
     "output_type": "execute_result"
    }
   ],
   "source": [
    "median_values_df[len(median_values_df) - 5: len(median_values_df)]"
   ]
  },
  {
   "cell_type": "code",
   "execution_count": 36,
   "metadata": {},
   "outputs": [
    {
     "data": {
      "text/plain": [
       "<AxesSubplot:xlabel='1996 to 2017 Years', ylabel='House Value'>"
      ]
     },
     "execution_count": 36,
     "metadata": {},
     "output_type": "execute_result"
    },
    {
     "data": {
      "image/png": "[encoded data removed]",
      "text/plain": [
       "<Figure size 432x288 with 1 Axes>"
      ]
     },
     "metadata": {
      "needs_background": "light"
     },
     "output_type": "display_data"
    }
   ],
   "source": [
    "# Why don't we take a quick look at the housing value increases by type across the years too\n",
    "\n",
    "median_values_df.plot(xlabel = '1996 to 2017 Years', ylabel = 'House Value')"
   ]
  },
  {
   "cell_type": "code",
   "execution_count": 37,
   "metadata": {},
   "outputs": [
    {
     "name": "stdout",
     "output_type": "stream",
     "text": [
      "-0.09267628934860864\n",
      "0.060076192280230985\n",
      "0.011943878703766836\n"
     ]
    }
   ],
   "source": [
    "# I wonder if the value/rental ratio is correlated to the size of the market \n",
    "# in stocks, it is very common for large stocks to command a valuation premium\n",
    "# Lets do simple correlation (no need to overcomplicate. There are only 2 columns)\n",
    "\n",
    "print(bed1_ratio_data['Housevalue_SizeRank'].astype(float).corr(bed1_ratio_data['2017-11'].astype(float)))\n",
    "print(bed2_ratio_data['Housevalue_SizeRank'].astype(float).corr(bed2_ratio_data['2017-11'].astype(float)))\n",
    "print(bed3_ratio_data['Housevalue_SizeRank'].astype(float).corr(bed3_ratio_data['2017-11'].astype(float)))\n",
    "\n",
    "# Huh! very interesting! so, there is no valuation premium for bigger cities\n",
    "# you can't just say houses in chicago are going to be valued highly relative to some small zip code in texas"
   ]
  },
  {
   "cell_type": "code",
   "execution_count": 38,
   "metadata": {},
   "outputs": [
    {
     "name": "stdout",
     "output_type": "stream",
     "text": [
      "count     296.000000\n",
      "mean      815.165541\n",
      "std       672.037446\n",
      "min         1.000000\n",
      "25%       218.750000\n",
      "50%       689.500000\n",
      "75%      1337.250000\n",
      "max      2482.000000\n",
      "Name: Housevalue_SizeRank, dtype: float64\n",
      "count     643.000000\n",
      "mean     1666.328149\n",
      "std      1592.170581\n",
      "min         1.000000\n",
      "25%       407.000000\n",
      "50%      1160.000000\n",
      "75%      2543.500000\n",
      "max      8282.000000\n",
      "Name: Housevalue_SizeRank, dtype: float64\n",
      "count      537.000000\n",
      "mean      1627.603352\n",
      "std       1732.934167\n",
      "min          1.000000\n",
      "25%        370.000000\n",
      "50%        969.000000\n",
      "75%       2410.000000\n",
      "max      11675.000000\n",
      "Name: Housevalue_SizeRank, dtype: float64\n"
     ]
    }
   ],
   "source": [
    "# Or is it that I have data only for very big markets? Let me just check this\n",
    "\n",
    "print(bed1_ratio_data['Housevalue_SizeRank'].astype(float).describe())\n",
    "print(bed2_ratio_data['Housevalue_SizeRank'].astype(float).describe())\n",
    "print(bed3_ratio_data['Housevalue_SizeRank'].astype(float).describe())\n",
    "\n",
    "# We have data for markets across a broad range. I actually dropped region name columns earlier, but some of these towns with ranks in thousands have populations of barely 40,000. So clearly, this ia wide sample"
   ]
  },
  {
   "cell_type": "code",
   "execution_count": 39,
   "metadata": {},
   "outputs": [],
   "source": [
    "# The ratio is currently value/rental income monthly ratio. Need to make it house value/yearly rental income\n",
    "\n",
    "bed1_ratio_data.iloc[:,6:93] = bed1_ratio_data.iloc[:,6:93]/12\n",
    "bed2_ratio_data.iloc[:,6:93] = bed2_ratio_data.iloc[:,6:93]/12\n",
    "bed3_ratio_data.iloc[:,6:93] = bed3_ratio_data.iloc[:,6:93]/12\n",
    "\n",
    "# although statements like the above do the job, i have never been a big fan of such statements because values will change if I accidentaly run this block of code again."
   ]
  },
  {
   "cell_type": "code",
   "execution_count": 40,
   "metadata": {},
   "outputs": [
    {
     "data": {
      "image/png": "[encoded data removed]",
      "text/plain": [
       "<Figure size 432x288 with 1 Axes>"
      ]
     },
     "metadata": {
      "needs_background": "light"
     },
     "output_type": "display_data"
    }
   ],
   "source": [
    "bed1_ratio_data.plot(x = ['Housevalue_SizeRank'], y = ['2017-11'], kind = 'scatter')\n",
    "labels = 'Rank of Housing Market size'\n",
    "plt.xlabel(labels)\n",
    "ylabelsset = 'House Value / Yearly Rent ratio 2017'\n",
    "plt.ylabel(ylabelsset)\n",
    "plt.show()\n",
    "\n",
    "# What we are seeing is that there are many cheap areas even within bigger markets. We don't have to go to some tiny town in search of relative value"
   ]
  },
  {
   "cell_type": "code",
   "execution_count": 41,
   "metadata": {},
   "outputs": [
    {
     "data": {
      "image/png": "[encoded data removed]",
      "text/plain": [
       "<Figure size 432x288 with 1 Axes>"
      ]
     },
     "metadata": {
      "needs_background": "light"
     },
     "output_type": "display_data"
    }
   ],
   "source": [
    "# Let me just do this for 2 bedroom and 3 bedroom homes\n",
    "\n",
    "bed2_ratio_data.plot(x = ['Housevalue_SizeRank'], y = ['2017-11'], kind = 'scatter')\n",
    "plt.show()\n",
    "\n",
    "# And that's why they say \"plot it\". Mean or median is not everything."
   ]
  },
  {
   "cell_type": "code",
   "execution_count": 42,
   "metadata": {},
   "outputs": [
    {
     "data": {
      "image/png": "[encoded data removed]",
      "text/plain": [
       "<Figure size 432x288 with 1 Axes>"
      ]
     },
     "metadata": {
      "needs_background": "light"
     },
     "output_type": "display_data"
    }
   ],
   "source": [
    "bed3_ratio_data.plot(x = ['Housevalue_SizeRank'], y = ['2017-11'], kind = 'scatter')\n",
    "plt.show()\n",
    "\n",
    "# The question is why are some big markets undervalued? Why are people skeptical about the future prospects for these markets?"
   ]
  },
  {
   "cell_type": "code",
   "execution_count": 43,
   "metadata": {},
   "outputs": [
    {
     "data": {
      "text/plain": [
       "RegionName    0\n",
       "City          0\n",
       "State         0\n",
       "Metro         0\n",
       "CountyName    0\n",
       "             ..\n",
       "2017-07       0\n",
       "2017-08       0\n",
       "2017-09       0\n",
       "2017-10       0\n",
       "2017-11       0\n",
       "Length: 93, dtype: int64"
      ]
     },
     "execution_count": 43,
     "metadata": {},
     "output_type": "execute_result"
    }
   ],
   "source": [
    "# But before we attempt to answer the question above, lets try to understand if cheap markets stay cheap forever? What does historical evidence say\n",
    "# But there's a problem. Although we have values from 2010 - 2017 which should be enough to study any patterns, almost all ratios values around early years are null since we don't have rental data\n",
    "\n",
    "bed1_ratio_data.isnull().sum()\n",
    "\n",
    "# We can see clearly that almost half of the values in 2015 are null."
   ]
  },
  {
   "cell_type": "code",
   "execution_count": 44,
   "metadata": {},
   "outputs": [],
   "source": [
    "# Fortunately, the nice people at Zillow have provided a direct Price/Rent ratio data set (not derived from their individual value, ratio data sets) for all Single family residence (SFR) homes\n",
    "# We don't have data split by 1 bedroom / 2 bedroom / 3 bedroom but we have to use this data set to answer the earlier question\n",
    "\n",
    "zillow_ratios = pd.read_csv(r'C:\\Users\\joshn\\Downloads\\MS in Data Science\\Housing market\\Housing_Market-master\\Data\\Rental income monthly\\Zip_PriceToRentRatio_AllHomes.csv')"
   ]
  },
  {
   "cell_type": "code",
   "execution_count": 45,
   "metadata": {},
   "outputs": [
    {
     "data": {
      "text/plain": [
       "(15377, 91)"
      ]
     },
     "execution_count": 45,
     "metadata": {},
     "output_type": "execute_result"
    }
   ],
   "source": [
    "zillow_ratios.shape\n",
    "\n",
    "# the data structure is very similar (93 columns)\n",
    "# The only big difference is that we have a region column also but this data starts from 2010-10 not 2010-09 like individual data sets\n",
    "# However, we have ratio data for 15500 markets"
   ]
  },
  {
   "cell_type": "code",
   "execution_count": 46,
   "metadata": {},
   "outputs": [
    {
     "data": {
      "text/plain": [
       "RegionID         0\n",
       "RegionName       0\n",
       "City             0\n",
       "State            0\n",
       "Metro         1144\n",
       "              ... \n",
       "2017-05          0\n",
       "2017-06          0\n",
       "2017-07          0\n",
       "2017-08          0\n",
       "2017-09          0\n",
       "Length: 91, dtype: int64"
      ]
     },
     "execution_count": 46,
     "metadata": {},
     "output_type": "execute_result"
    }
   ],
   "source": [
    "# But are there any null values in the zillow data set\n",
    "\n",
    "zillow_ratios.isnull().sum()\n",
    "\n",
    "# oh, god!"
   ]
  },
  {
   "cell_type": "code",
   "execution_count": 47,
   "metadata": {},
   "outputs": [
    {
     "data": {
      "text/plain": [
       "83.15015932886779"
      ]
     },
     "execution_count": 47,
     "metadata": {},
     "output_type": "execute_result"
    }
   ],
   "source": [
    "# If i just remove all the rows where atleast one column is null, what % of data will be lost\n",
    "\n",
    "zillow_nonull = zillow_ratios.dropna() # That's why we love pandas. its the little things sometimes\n",
    "\n",
    "len(zillow_nonull)*100/len(zillow_ratios)\n",
    "\n",
    "# Huh, 83% of rows don't have any missing values"
   ]
  },
  {
   "cell_type": "code",
   "execution_count": 48,
   "metadata": {},
   "outputs": [],
   "source": [
    "# Before we think about attempting any bold imputation, lets see the distribution of null values across data. Is there a pattern?\n",
    "\n",
    "zillow_ratios2 = zillow_ratios[zillow_ratios['2010-10'].isnull()]"
   ]
  },
  {
   "cell_type": "code",
   "execution_count": 49,
   "metadata": {},
   "outputs": [
    {
     "data": {
      "text/plain": [
       "count     1387.000000\n",
       "mean      9665.824802\n",
       "std       4031.310914\n",
       "min        235.000000\n",
       "25%       6578.500000\n",
       "50%      10273.000000\n",
       "75%      13093.000000\n",
       "max      15373.000000\n",
       "Name: SizeRank, dtype: float64"
      ]
     },
     "execution_count": 49,
     "metadata": {},
     "output_type": "execute_result"
    }
   ],
   "source": [
    "zillow_ratios2['SizeRank'].describe()\n",
    "\n",
    "# So, we have slightly more proportion of nulls for smaller markets. But its not too much of a pattern.\n",
    "# Moreover, we have seen from our earlier analysis that small market doesn't mean low ratio"
   ]
  },
  {
   "cell_type": "code",
   "execution_count": 50,
   "metadata": {
    "scrolled": true
   },
   "outputs": [
    {
     "data": {
      "text/plain": [
       "<AxesSubplot:xlabel='Years:2012-2017', ylabel='High & Low ratio homes'>"
      ]
     },
     "execution_count": 50,
     "metadata": {},
     "output_type": "execute_result"
    },
    {
     "data": {
      "image/png": "[encoded data removed]",
      "text/plain": [
       "<Figure size 432x288 with 1 Axes>"
      ]
     },
     "metadata": {
      "needs_background": "light"
     },
     "output_type": "display_data"
    }
   ],
   "source": [
    "# Lets just work with non null data\n",
    "# There are two ways i think we can effectively test the hypothesis (that undervalued markets don't stay undervalued forever)\n",
    "# Method 1: lets just plot how the ratios of high ratio and low ratio markets (as of 2010) have varied across the years\n",
    "\n",
    "percentile = 0.1\n",
    "\n",
    "low_ratio_markets = zillow_nonull[zillow_nonull['2010-10'] < zillow_nonull['2010-10'].quantile(percentile)]\n",
    "high_ratio_markets = zillow_nonull[zillow_nonull['2010-10'] > zillow_nonull['2010-10'].quantile(1 - percentile)]\n",
    "\n",
    "def median_ratios_91_rows(x):\n",
    "    just_ratios = x.iloc[:,6:91]\n",
    "    median_ratio = pd.DataFrame(index = pd.Series(range(0,1)))\n",
    "    for i in range(0,85):\n",
    "        median_ratio[0,i] = (just_ratios.iloc[:,i].median())/12\n",
    "    median_ratio.columns = just_ratios.columns\n",
    "    return median_ratio\n",
    "\n",
    "# quick note: the ratios in the zillow ratio data set are adjusted for yearly yearly. Hence, I am multiplying by 12\n",
    "low_ratio_markets = low_ratio_markets.reset_index()\n",
    "low_ratio_markets = low_ratio_markets.drop(['index'], axis=1)\n",
    "low_medians = median_ratios_91_rows(low_ratio_markets)*12\n",
    "\n",
    "# Also i need to drop the first column\n",
    "low_medians = low_medians.drop(low_medians.columns[0], axis=1)\n",
    "high_medians = median_ratios_91_rows(high_ratio_markets)*12\n",
    "high_medians = high_medians.drop(high_medians.columns[0], axis=1)\n",
    "\n",
    "# The next three lines are written using the same logic as earlier\n",
    "high_low_df = pd.concat([high_medians, low_medians], axis =0)\n",
    "high_low_df = high_low_df.set_index([['high', 'low']])\n",
    "high_low_df = high_low_df.transpose()\n",
    "\n",
    "# finally plotting. Once again, logic of the code is very similar to earlier plot\n",
    "high_low_df.plot(xlabel = 'Years:2012-2017', ylabel = 'High & Low ratio homes')"
   ]
  },
  {
   "cell_type": "code",
   "execution_count": 51,
   "metadata": {},
   "outputs": [
    {
     "data": {
      "text/plain": [
       "<AxesSubplot:xlabel='Years:2010-2017', ylabel='High ratio homes across years'>"
      ]
     },
     "execution_count": 51,
     "metadata": {},
     "output_type": "execute_result"
    },
    {
     "data": {
      "image/png": "[encoded data removed]",
      "text/plain": [
       "<Figure size 432x288 with 1 Axes>"
      ]
     },
     "metadata": {
      "needs_background": "light"
     },
     "output_type": "display_data"
    }
   ],
   "source": [
    "# Let me just plot them individually\n",
    "high_low_df['high'].plot(xlabel = 'Years:2010-2017', ylabel = 'High ratio homes across years')"
   ]
  },
  {
   "cell_type": "code",
   "execution_count": 52,
   "metadata": {},
   "outputs": [
    {
     "data": {
      "text/plain": [
       "<AxesSubplot:xlabel='Years:2010-2017', ylabel='Low ratio homes across years'>"
      ]
     },
     "execution_count": 52,
     "metadata": {},
     "output_type": "execute_result"
    },
    {
     "data": {
      "image/png": "[encoded data removed]",
      "text/plain": [
       "<Figure size 432x288 with 1 Axes>"
      ]
     },
     "metadata": {
      "needs_background": "light"
     },
     "output_type": "display_data"
    }
   ],
   "source": [
    "high_low_df['low'].plot(xlabel = 'Years:2010-2017', ylabel = 'Low ratio homes across years')"
   ]
  },
  {
   "cell_type": "code",
   "execution_count": 53,
   "metadata": {},
   "outputs": [],
   "source": [
    "# Analysis box!\n",
    "\n",
    "# Well, the data has spoken. We do see some upward trend in the markets that originally had low ratios in 2010\n",
    "# But it's not as if there is some clear reversion to mean. its not as if low ratio homes got to the ratio of 12 and high ratio homes decreased to a ratio of 12\n",
    "# An analogy in stock market is that Amazon, Tesla, Netflix have always been expensive stocks and continue to stay expensive\n",
    "# On the other hand some stocks were undervalued 7 years ago and continue to stay undervalued\n",
    "\n",
    "# However, it is important to note that most of these highly valued stocks have very high revenue and earnings growth\n",
    "# Amazon may be posting losses but investors are patient with Amazon considering Amazon's past revenue growth and future potential\n",
    "\n",
    "# The PEG ratio (price to earnings growth) is a very important ratio in finance. There are many other ratios, analyses in fundamental analysis.\n",
    "# But broadly speaking, its not a great idea to buy a stock for a PEG > 1 (max 2 if you ask me)\n",
    " \n",
    "# I mean, if the rent is increasing 17% every year in any zip code, I am sure as hell companies, people are going to move out to another zip code\n",
    "# There is a reason JPM moved its entire IT team from NY to Columbus, Ohio. Many cities in Texas have benifited from a similar trend\n",
    "# Rent increasing 17% year over year? impossible. Just look at the wage inflation in this country \n",
    "\n",
    "\n",
    "# Possible reasons why some zip codes have high ratios\n",
    "\n",
    "# Investors believe rents are going to rise quickly in this area\n",
    "# Investors might be speculating that a particualr residentail zone may be turning into a commercial zone in the near future\n",
    "# That means destruction of old homes, building office spaces and the land on which the house is situated is very valuable\n",
    "# There are REIT's that manage billions and institutional capital chasing certain markets desparately (probably big markets)\n",
    "# These low ratio regions have old homes. The maintenance cost is going to eat up a large portion of rental income\n",
    "# There are too many people 'settling' and buying homes in a region. you will have hard time finding tenants\n",
    "# I think Detroit with high crime rate, unemployment rate of 26% has a ratio of 6. Palo Alto has a ratio of 38 with rent of 2500. Where will you buy a house?\n",
    "# But the fact is people is Detroit are paying rent. I don't care how. But the market has arrived at a fair rental price"
   ]
  },
  {
   "cell_type": "code",
   "execution_count": 54,
   "metadata": {},
   "outputs": [],
   "source": [
    "# Lets look at the growth in rental income for both the high income and low income zones\n",
    "# Using a zillow rental income data for all single family homes (this data is different from our previously used rental data sets. They combined all types of homes into one data set. don't know the exact methodology)\n",
    "\n",
    "zillow_rentals = pd.read_csv(r'C:\\Users\\joshn\\Downloads\\MS in Data Science\\Housing market\\Housing_Market-master\\Data\\Rental income monthly\\Zip_Zri_SingleFamilyResidenceRental.csv')"
   ]
  },
  {
   "cell_type": "code",
   "execution_count": 55,
   "metadata": {},
   "outputs": [
    {
     "data": {
      "text/plain": [
       "12622"
      ]
     },
     "execution_count": 55,
     "metadata": {},
     "output_type": "execute_result"
    }
   ],
   "source": [
    "zillow_rentals_nonull = zillow_rentals.dropna()\n",
    "\n",
    "len(zillow_rentals_nonull)\n",
    "\n",
    "# We have data for 12657 markets. should be more than enough"
   ]
  },
  {
   "cell_type": "code",
   "execution_count": 56,
   "metadata": {},
   "outputs": [],
   "source": [
    "# I will test the hypothesis in a different way this time. I should have done this last time \n",
    "# But i wanted to look at the graphs of ratios across time last time\n",
    "\n",
    "zillow_rentals_nonull['rental_income_growth'] = zillow_rentals_nonull['2017-11']\n",
    "zillow_rentals_nonull.loc[:,'rental_income_growth'] = (((zillow_rentals_nonull.loc[:, '2017-11']/zillow_rentals_nonull.loc[:, '2010-11']))**(1/7) - 1)*100\n",
    "\n",
    "# Once again, ignore those slice warnings"
   ]
  },
  {
   "cell_type": "code",
   "execution_count": 57,
   "metadata": {},
   "outputs": [],
   "source": [
    "# Time to join the ratio and rental data sets\n",
    "\n",
    "ratio_rentals = pd.merge(zillow_nonull,\n",
    "                         zillow_rentals_nonull,\n",
    "                         left_on='RegionName',\n",
    "                         right_on='RegionName',\n",
    "                         how='inner')\n",
    "\n",
    "ratio_rentals_2010 = ratio_rentals[['2010-10', 'rental_income_growth']]\n",
    "ratio_rentals_2017 = ratio_rentals[['2010-10', '2017-09_x', 'rental_income_growth']]"
   ]
  },
  {
   "cell_type": "code",
   "execution_count": 58,
   "metadata": {},
   "outputs": [
    {
     "data": {
      "image/png": "[encoded data removed]",
      "text/plain": [
       "<Figure size 432x288 with 1 Axes>"
      ]
     },
     "metadata": {
      "needs_background": "light"
     },
     "output_type": "display_data"
    }
   ],
   "source": [
    "scatt = ratio_rentals_2010.plot(x = ['2010-10'], y = ['rental_income_growth'], kind = 'scatter')\n",
    "labels = 'Ratio of house_value/rent in 2010'\n",
    "plt.xlabel(labels)\n",
    "ylabelsset = 'Rental_income_growth 2010-2017'\n",
    "plt.ylabel(ylabelsset)\n",
    "scatt.set_xlim(5, 20)\n",
    "scatt.set_ylim(-5, 8)\n",
    "plt.show()\n",
    "\n",
    "# I can confirm that there is no zip code in this country that had a rental income growth of more than 10% across 7 years as expected.\n",
    "# There are actually 2000 zip codes where rents decreased from Nov 2010 to Nov 2017. \n",
    "# I was so shocked I had to write out csv file and check this\n",
    "# I actaully expected rents to dramatically increase since the economy came out of recession from 2010 - 2017. Not true\n",
    "# Rental income cash flow is more stable than stocks! V.imp point to note\n",
    "# You can actually argue that there is some relationship between ratio and future rental income increase. Very interesting\n",
    "# But the question is the small rental income increase worth the high ratio you have to pay for that house?"
   ]
  },
  {
   "cell_type": "code",
   "execution_count": 59,
   "metadata": {},
   "outputs": [
    {
     "data": {
      "text/plain": [
       "Index(['RegionID_x', 'RegionName', 'City_x', 'State_x', 'Metro_x',\n",
       "       'CountyName_x', 'SizeRank_x', '2010-10', '2010-11_x', '2010-12_x',\n",
       "       ...\n",
       "       '2017-03_y', '2017-04_y', '2017-05_y', '2017-06_y', '2017-07_y',\n",
       "       '2017-08_y', '2017-09_y', '2017-10', '2017-11', 'rental_income_growth'],\n",
       "      dtype='object', length=183)"
      ]
     },
     "execution_count": 59,
     "metadata": {},
     "output_type": "execute_result"
    }
   ],
   "source": [
    "ratio_rentals.columns"
   ]
  },
  {
   "cell_type": "code",
   "execution_count": 60,
   "metadata": {},
   "outputs": [
    {
     "data": {
      "text/plain": [
       "0.4516755209613245"
      ]
     },
     "execution_count": 60,
     "metadata": {},
     "output_type": "execute_result"
    }
   ],
   "source": [
    "ratio_rentals['2010-10'].corr(ratio_rentals['rental_income_growth'])"
   ]
  },
  {
   "cell_type": "code",
   "execution_count": 61,
   "metadata": {},
   "outputs": [],
   "source": [
    "ratio_rentals_2017['ratio_change'] = (ratio_rentals_2017['2017-09_x'] - ratio_rentals_2017['2010-10'])*100/ratio_rentals_2017['2010-10']"
   ]
  },
  {
   "cell_type": "code",
   "execution_count": 62,
   "metadata": {},
   "outputs": [
    {
     "data": {
      "image/png": "[encoded data removed]",
      "text/plain": [
       "<Figure size 432x288 with 1 Axes>"
      ]
     },
     "metadata": {
      "needs_background": "light"
     },
     "output_type": "display_data"
    }
   ],
   "source": [
    "scatt = ratio_rentals_2017.plot(x = ['ratio_change'], y = ['rental_income_growth'], kind = 'scatter')\n",
    "labels = 'Percentage change in Value/Rent ratio 2010-2017'\n",
    "plt.xlabel(labels)\n",
    "ylabelsset = 'Rental_income_growth 2010-2017'\n",
    "plt.ylabel(ylabelsset)\n",
    "scatt.set_xlim(-30, 60)\n",
    "scatt.set_ylim(-5, 8)\n",
    "plt.show()\n",
    "\n",
    "# I can confirm that there is no zip code in this country that had a rental income growth of more than 10% across 7 years as expected.\n",
    "# There are actually 2000 zip codes where rents decreased from Nov 2010 to Nov 2017. \n",
    "# I was so shocked I had to write out csv file and check this\n",
    "# I actaully expected rents to dramatically increase since the economy came out of recession from 2010 - 2017. Not true\n",
    "# Rental income cash flow is more stable than stocks! V.imp point to note\n",
    "# You can actually argue that there is some relationship between ratio and future rental income increase. Very interesting\n",
    "# But the question is the small rental income increase worth the high ratio you have to pay for that house?"
   ]
  },
  {
   "cell_type": "code",
   "execution_count": 63,
   "metadata": {},
   "outputs": [
    {
     "data": {
      "text/html": [
       "<div>\n",
       "<style scoped>\n",
       "    .dataframe tbody tr th:only-of-type {\n",
       "        vertical-align: middle;\n",
       "    }\n",
       "\n",
       "    .dataframe tbody tr th {\n",
       "        vertical-align: top;\n",
       "    }\n",
       "\n",
       "    .dataframe thead th {\n",
       "        text-align: right;\n",
       "    }\n",
       "</style>\n",
       "<table border=\"1\" class=\"dataframe\">\n",
       "  <thead>\n",
       "    <tr style=\"text-align: right;\">\n",
       "      <th></th>\n",
       "      <th>2010-10</th>\n",
       "      <th>2017-09_x</th>\n",
       "      <th>rental_income_growth</th>\n",
       "      <th>ratio_change</th>\n",
       "    </tr>\n",
       "  </thead>\n",
       "  <tbody>\n",
       "    <tr>\n",
       "      <th>0</th>\n",
       "      <td>13.27</td>\n",
       "      <td>12.84</td>\n",
       "      <td>2.057223</td>\n",
       "      <td>-3.240392</td>\n",
       "    </tr>\n",
       "    <tr>\n",
       "      <th>1</th>\n",
       "      <td>14.09</td>\n",
       "      <td>14.04</td>\n",
       "      <td>1.358358</td>\n",
       "      <td>-0.354862</td>\n",
       "    </tr>\n",
       "    <tr>\n",
       "      <th>2</th>\n",
       "      <td>8.83</td>\n",
       "      <td>9.48</td>\n",
       "      <td>-1.079298</td>\n",
       "      <td>7.361268</td>\n",
       "    </tr>\n",
       "    <tr>\n",
       "      <th>3</th>\n",
       "      <td>11.62</td>\n",
       "      <td>10.74</td>\n",
       "      <td>0.279637</td>\n",
       "      <td>-7.573150</td>\n",
       "    </tr>\n",
       "  </tbody>\n",
       "</table>\n",
       "</div>"
      ],
      "text/plain": [
       "   2010-10  2017-09_x  rental_income_growth  ratio_change\n",
       "0    13.27      12.84              2.057223     -3.240392\n",
       "1    14.09      14.04              1.358358     -0.354862\n",
       "2     8.83       9.48             -1.079298      7.361268\n",
       "3    11.62      10.74              0.279637     -7.573150"
      ]
     },
     "execution_count": 63,
     "metadata": {},
     "output_type": "execute_result"
    }
   ],
   "source": [
    "# Is rent the most imp thing determing a house value? very basic question but imp\n",
    "\n",
    "ratio_rentals_2017[0:4]"
   ]
  },
  {
   "cell_type": "code",
   "execution_count": 64,
   "metadata": {},
   "outputs": [],
   "source": [
    "# Factors affecting housing prices\n",
    "\n",
    "#Interest rates\n",
    "#Economic growth\n",
    "#Migration \n",
    "#Unemployment levels\n",
    "#Post tax income - minimum of Rent or Mortgage\n",
    "#Minimum of Rent of Mortgage/ Post tax income ratio\n",
    "#Percentage of residents in 23 - 33 age group\n",
    "#Wealth of locals\n",
    "#Current and past percentage of Rentals vs Ownership \n",
    "\n",
    "# In terms of modeling approach, i may choose to train on a cross section of data and use that model to test on other zip codes\n",
    "# Don't have too much data across years"
   ]
  },
  {
   "cell_type": "code",
   "execution_count": 65,
   "metadata": {},
   "outputs": [],
   "source": [
    "#Before, we start working with predictors data sets, lets work on the aggregte housing values data set (response variable will be pulled from this)\n",
    "\n",
    "house_values = pd.read_csv(r'C:\\Users\\joshn\\Downloads\\MS in Data Science\\Housing market\\Housing_Market-master\\Data\\Home prices\\Zip_Zhvi_AllHomes.csv')"
   ]
  },
  {
   "cell_type": "code",
   "execution_count": 66,
   "metadata": {},
   "outputs": [
    {
     "data": {
      "text/plain": [
       "75.13548387096775"
      ]
     },
     "execution_count": 66,
     "metadata": {},
     "output_type": "execute_result"
    }
   ],
   "source": [
    "# If i just remove all the rows where atleast one column is null, what % of data will be lost\n",
    "\n",
    "columns_to_be_dropped = list(house_values.columns)[7:18]\n",
    "house_values2 = house_values.drop(columns_to_be_dropped, axis=1)\n",
    "house_values_nonull = house_values2.dropna() \n",
    "\n",
    "len(house_values_nonull)*100/len(house_values)\n",
    "\n",
    "# Huh, 75% of rows don't have any missing values. I am just going to work with these 75% of rows"
   ]
  },
  {
   "cell_type": "code",
   "execution_count": 67,
   "metadata": {},
   "outputs": [
    {
     "data": {
      "text/html": [
       "<div>\n",
       "<style scoped>\n",
       "    .dataframe tbody tr th:only-of-type {\n",
       "        vertical-align: middle;\n",
       "    }\n",
       "\n",
       "    .dataframe tbody tr th {\n",
       "        vertical-align: top;\n",
       "    }\n",
       "\n",
       "    .dataframe thead th {\n",
       "        text-align: right;\n",
       "    }\n",
       "</style>\n",
       "<table border=\"1\" class=\"dataframe\">\n",
       "  <thead>\n",
       "    <tr style=\"text-align: right;\">\n",
       "      <th></th>\n",
       "      <th>RegionID</th>\n",
       "      <th>RegionName</th>\n",
       "      <th>City</th>\n",
       "      <th>State</th>\n",
       "      <th>Metro</th>\n",
       "      <th>CountyName</th>\n",
       "      <th>SizeRank</th>\n",
       "      <th>1997-03</th>\n",
       "      <th>1997-04</th>\n",
       "      <th>1997-05</th>\n",
       "      <th>...</th>\n",
       "      <th>2017-02</th>\n",
       "      <th>2017-03</th>\n",
       "      <th>2017-04</th>\n",
       "      <th>2017-05</th>\n",
       "      <th>2017-06</th>\n",
       "      <th>2017-07</th>\n",
       "      <th>2017-08</th>\n",
       "      <th>2017-09</th>\n",
       "      <th>2017-10</th>\n",
       "      <th>2017-11</th>\n",
       "    </tr>\n",
       "  </thead>\n",
       "  <tbody>\n",
       "    <tr>\n",
       "      <th>1</th>\n",
       "      <td>84654</td>\n",
       "      <td>60657</td>\n",
       "      <td>Chicago</td>\n",
       "      <td>IL</td>\n",
       "      <td>Chicago</td>\n",
       "      <td>Cook</td>\n",
       "      <td>2</td>\n",
       "      <td>151100.0</td>\n",
       "      <td>153200.0</td>\n",
       "      <td>155100.0</td>\n",
       "      <td>...</td>\n",
       "      <td>319700</td>\n",
       "      <td>321000</td>\n",
       "      <td>322900</td>\n",
       "      <td>324600</td>\n",
       "      <td>325100</td>\n",
       "      <td>324300</td>\n",
       "      <td>324100</td>\n",
       "      <td>324700</td>\n",
       "      <td>324400</td>\n",
       "      <td>323500</td>\n",
       "    </tr>\n",
       "    <tr>\n",
       "      <th>2</th>\n",
       "      <td>84616</td>\n",
       "      <td>60614</td>\n",
       "      <td>Chicago</td>\n",
       "      <td>IL</td>\n",
       "      <td>Chicago</td>\n",
       "      <td>Cook</td>\n",
       "      <td>3</td>\n",
       "      <td>197600.0</td>\n",
       "      <td>199700.0</td>\n",
       "      <td>200500.0</td>\n",
       "      <td>...</td>\n",
       "      <td>415500</td>\n",
       "      <td>410500</td>\n",
       "      <td>400200</td>\n",
       "      <td>402000</td>\n",
       "      <td>410500</td>\n",
       "      <td>411100</td>\n",
       "      <td>408500</td>\n",
       "      <td>406900</td>\n",
       "      <td>402500</td>\n",
       "      <td>397200</td>\n",
       "    </tr>\n",
       "    <tr>\n",
       "      <th>3</th>\n",
       "      <td>93144</td>\n",
       "      <td>79936</td>\n",
       "      <td>El Paso</td>\n",
       "      <td>TX</td>\n",
       "      <td>El Paso</td>\n",
       "      <td>El Paso</td>\n",
       "      <td>4</td>\n",
       "      <td>73100.0</td>\n",
       "      <td>73100.0</td>\n",
       "      <td>73300.0</td>\n",
       "      <td>...</td>\n",
       "      <td>115000</td>\n",
       "      <td>114800</td>\n",
       "      <td>114700</td>\n",
       "      <td>114800</td>\n",
       "      <td>114500</td>\n",
       "      <td>114200</td>\n",
       "      <td>114200</td>\n",
       "      <td>114800</td>\n",
       "      <td>114900</td>\n",
       "      <td>114400</td>\n",
       "    </tr>\n",
       "    <tr>\n",
       "      <th>4</th>\n",
       "      <td>84640</td>\n",
       "      <td>60640</td>\n",
       "      <td>Chicago</td>\n",
       "      <td>IL</td>\n",
       "      <td>Chicago</td>\n",
       "      <td>Cook</td>\n",
       "      <td>5</td>\n",
       "      <td>106400.0</td>\n",
       "      <td>106800.0</td>\n",
       "      <td>106600.0</td>\n",
       "      <td>...</td>\n",
       "      <td>203800</td>\n",
       "      <td>205200</td>\n",
       "      <td>204800</td>\n",
       "      <td>204100</td>\n",
       "      <td>204400</td>\n",
       "      <td>206200</td>\n",
       "      <td>208700</td>\n",
       "      <td>210100</td>\n",
       "      <td>209500</td>\n",
       "      <td>209300</td>\n",
       "    </tr>\n",
       "  </tbody>\n",
       "</table>\n",
       "<p>4 rows × 256 columns</p>\n",
       "</div>"
      ],
      "text/plain": [
       "   RegionID  RegionName     City State    Metro CountyName  SizeRank  \\\n",
       "1     84654       60657  Chicago    IL  Chicago       Cook         2   \n",
       "2     84616       60614  Chicago    IL  Chicago       Cook         3   \n",
       "3     93144       79936  El Paso    TX  El Paso    El Paso         4   \n",
       "4     84640       60640  Chicago    IL  Chicago       Cook         5   \n",
       "\n",
       "    1997-03   1997-04   1997-05  ...  2017-02  2017-03  2017-04  2017-05  \\\n",
       "1  151100.0  153200.0  155100.0  ...   319700   321000   322900   324600   \n",
       "2  197600.0  199700.0  200500.0  ...   415500   410500   400200   402000   \n",
       "3   73100.0   73100.0   73300.0  ...   115000   114800   114700   114800   \n",
       "4  106400.0  106800.0  106600.0  ...   203800   205200   204800   204100   \n",
       "\n",
       "   2017-06  2017-07  2017-08  2017-09  2017-10  2017-11  \n",
       "1   325100   324300   324100   324700   324400   323500  \n",
       "2   410500   411100   408500   406900   402500   397200  \n",
       "3   114500   114200   114200   114800   114900   114400  \n",
       "4   204400   206200   208700   210100   209500   209300  \n",
       "\n",
       "[4 rows x 256 columns]"
      ]
     },
     "execution_count": 67,
     "metadata": {},
     "output_type": "execute_result"
    }
   ],
   "source": [
    "house_values_nonull[0:4]"
   ]
  },
  {
   "cell_type": "code",
   "execution_count": 68,
   "metadata": {},
   "outputs": [],
   "source": [
    "# V. basic and silly question. Is rent the most imp thing affecting house prices?\n",
    "\n",
    "house_values_nonull['house_value_growth'] = house_values_nonull['2017-11']\n",
    "house_values_nonull.loc[:,'house_value_growth'] = (((house_values_nonull.loc[:, '2017-11']/house_values_nonull.loc[:, '2010-11']))**(1/7) - 1)*100\n",
    "\n",
    "# Once again, ignore those slice warnings"
   ]
  },
  {
   "cell_type": "code",
   "execution_count": 69,
   "metadata": {},
   "outputs": [],
   "source": [
    "# Time to join the ratio and rental data sets\n",
    "\n",
    "value_rent_join = pd.merge(house_values_nonull,\n",
    "                           zillow_rentals_nonull,\n",
    "                           left_on='RegionName',\n",
    "                           right_on='RegionName',\n",
    "                           how='inner')\n",
    "\n",
    "value_rent_2010 = value_rent_join[['house_value_growth', 'rental_income_growth']]"
   ]
  },
  {
   "cell_type": "code",
   "execution_count": 70,
   "metadata": {},
   "outputs": [
    {
     "data": {
      "text/html": [
       "<div>\n",
       "<style scoped>\n",
       "    .dataframe tbody tr th:only-of-type {\n",
       "        vertical-align: middle;\n",
       "    }\n",
       "\n",
       "    .dataframe tbody tr th {\n",
       "        vertical-align: top;\n",
       "    }\n",
       "\n",
       "    .dataframe thead th {\n",
       "        text-align: right;\n",
       "    }\n",
       "</style>\n",
       "<table border=\"1\" class=\"dataframe\">\n",
       "  <thead>\n",
       "    <tr style=\"text-align: right;\">\n",
       "      <th></th>\n",
       "      <th>RegionID_x</th>\n",
       "      <th>RegionName</th>\n",
       "      <th>City_x</th>\n",
       "      <th>State_x</th>\n",
       "      <th>Metro_x</th>\n",
       "      <th>CountyName_x</th>\n",
       "      <th>SizeRank_x</th>\n",
       "      <th>1997-03</th>\n",
       "      <th>1997-04</th>\n",
       "      <th>1997-05</th>\n",
       "      <th>...</th>\n",
       "      <th>2017-03_y</th>\n",
       "      <th>2017-04_y</th>\n",
       "      <th>2017-05_y</th>\n",
       "      <th>2017-06_y</th>\n",
       "      <th>2017-07_y</th>\n",
       "      <th>2017-08_y</th>\n",
       "      <th>2017-09_y</th>\n",
       "      <th>2017-10_y</th>\n",
       "      <th>2017-11_y</th>\n",
       "      <th>rental_income_growth</th>\n",
       "    </tr>\n",
       "  </thead>\n",
       "  <tbody>\n",
       "    <tr>\n",
       "      <th>0</th>\n",
       "      <td>84654</td>\n",
       "      <td>60657</td>\n",
       "      <td>Chicago</td>\n",
       "      <td>IL</td>\n",
       "      <td>Chicago</td>\n",
       "      <td>Cook</td>\n",
       "      <td>2</td>\n",
       "      <td>151100.0</td>\n",
       "      <td>153200.0</td>\n",
       "      <td>155100.0</td>\n",
       "      <td>...</td>\n",
       "      <td>3436</td>\n",
       "      <td>3465</td>\n",
       "      <td>3502</td>\n",
       "      <td>3545</td>\n",
       "      <td>3578</td>\n",
       "      <td>3572</td>\n",
       "      <td>3559</td>\n",
       "      <td>3525</td>\n",
       "      <td>3455</td>\n",
       "      <td>2.057223</td>\n",
       "    </tr>\n",
       "    <tr>\n",
       "      <th>1</th>\n",
       "      <td>84616</td>\n",
       "      <td>60614</td>\n",
       "      <td>Chicago</td>\n",
       "      <td>IL</td>\n",
       "      <td>Chicago</td>\n",
       "      <td>Cook</td>\n",
       "      <td>3</td>\n",
       "      <td>197600.0</td>\n",
       "      <td>199700.0</td>\n",
       "      <td>200500.0</td>\n",
       "      <td>...</td>\n",
       "      <td>5584</td>\n",
       "      <td>5607</td>\n",
       "      <td>5590</td>\n",
       "      <td>5585</td>\n",
       "      <td>5562</td>\n",
       "      <td>5517</td>\n",
       "      <td>5456</td>\n",
       "      <td>5383</td>\n",
       "      <td>5315</td>\n",
       "      <td>1.358358</td>\n",
       "    </tr>\n",
       "    <tr>\n",
       "      <th>2</th>\n",
       "      <td>93144</td>\n",
       "      <td>79936</td>\n",
       "      <td>El Paso</td>\n",
       "      <td>TX</td>\n",
       "      <td>El Paso</td>\n",
       "      <td>El Paso</td>\n",
       "      <td>4</td>\n",
       "      <td>73100.0</td>\n",
       "      <td>73100.0</td>\n",
       "      <td>73300.0</td>\n",
       "      <td>...</td>\n",
       "      <td>998</td>\n",
       "      <td>998</td>\n",
       "      <td>998</td>\n",
       "      <td>997</td>\n",
       "      <td>994</td>\n",
       "      <td>992</td>\n",
       "      <td>992</td>\n",
       "      <td>996</td>\n",
       "      <td>1001</td>\n",
       "      <td>-1.079298</td>\n",
       "    </tr>\n",
       "    <tr>\n",
       "      <th>3</th>\n",
       "      <td>84640</td>\n",
       "      <td>60640</td>\n",
       "      <td>Chicago</td>\n",
       "      <td>IL</td>\n",
       "      <td>Chicago</td>\n",
       "      <td>Cook</td>\n",
       "      <td>5</td>\n",
       "      <td>106400.0</td>\n",
       "      <td>106800.0</td>\n",
       "      <td>106600.0</td>\n",
       "      <td>...</td>\n",
       "      <td>2434</td>\n",
       "      <td>2446</td>\n",
       "      <td>2451</td>\n",
       "      <td>2472</td>\n",
       "      <td>2468</td>\n",
       "      <td>2464</td>\n",
       "      <td>2460</td>\n",
       "      <td>2449</td>\n",
       "      <td>2428</td>\n",
       "      <td>0.279637</td>\n",
       "    </tr>\n",
       "  </tbody>\n",
       "</table>\n",
       "<p>4 rows × 349 columns</p>\n",
       "</div>"
      ],
      "text/plain": [
       "   RegionID_x  RegionName   City_x State_x  Metro_x CountyName_x  SizeRank_x  \\\n",
       "0       84654       60657  Chicago      IL  Chicago         Cook           2   \n",
       "1       84616       60614  Chicago      IL  Chicago         Cook           3   \n",
       "2       93144       79936  El Paso      TX  El Paso      El Paso           4   \n",
       "3       84640       60640  Chicago      IL  Chicago         Cook           5   \n",
       "\n",
       "    1997-03   1997-04   1997-05  ...  2017-03_y  2017-04_y  2017-05_y  \\\n",
       "0  151100.0  153200.0  155100.0  ...       3436       3465       3502   \n",
       "1  197600.0  199700.0  200500.0  ...       5584       5607       5590   \n",
       "2   73100.0   73100.0   73300.0  ...        998        998        998   \n",
       "3  106400.0  106800.0  106600.0  ...       2434       2446       2451   \n",
       "\n",
       "   2017-06_y  2017-07_y  2017-08_y  2017-09_y  2017-10_y  2017-11_y  \\\n",
       "0       3545       3578       3572       3559       3525       3455   \n",
       "1       5585       5562       5517       5456       5383       5315   \n",
       "2        997        994        992        992        996       1001   \n",
       "3       2472       2468       2464       2460       2449       2428   \n",
       "\n",
       "   rental_income_growth  \n",
       "0              2.057223  \n",
       "1              1.358358  \n",
       "2             -1.079298  \n",
       "3              0.279637  \n",
       "\n",
       "[4 rows x 349 columns]"
      ]
     },
     "execution_count": 70,
     "metadata": {},
     "output_type": "execute_result"
    }
   ],
   "source": [
    "value_rent_join[0:4]"
   ]
  },
  {
   "cell_type": "code",
   "execution_count": 71,
   "metadata": {},
   "outputs": [
    {
     "data": {
      "image/png": "[encoded data removed]",
      "text/plain": [
       "<Figure size 432x288 with 1 Axes>"
      ]
     },
     "metadata": {
      "needs_background": "light"
     },
     "output_type": "display_data"
    }
   ],
   "source": [
    "scatt = value_rent_join.plot(x = ['house_value_growth'], y = ['rental_income_growth'], kind = 'scatter')\n",
    "labels = 'Percentage change in Value/Rent ratio 2010-2017'\n",
    "plt.xlabel(labels)\n",
    "ylabelsset = 'Rental_income_growth 2010-2017'\n",
    "plt.ylabel(ylabelsset)\n",
    "scatt.set_xlim(-5, 15)\n",
    "scatt.set_ylim(-4, 8)\n",
    "plt.show()"
   ]
  },
  {
   "cell_type": "code",
   "execution_count": 72,
   "metadata": {},
   "outputs": [
    {
     "data": {
      "text/plain": [
       "0.5361034744882073"
      ]
     },
     "execution_count": 72,
     "metadata": {},
     "output_type": "execute_result"
    }
   ],
   "source": [
    "value_rent_join['house_value_growth'].corr(value_rent_join['rental_income_growth'])"
   ]
  },
  {
   "cell_type": "code",
   "execution_count": 73,
   "metadata": {},
   "outputs": [
    {
     "data": {
      "text/html": [
       "<div>\n",
       "<style scoped>\n",
       "    .dataframe tbody tr th:only-of-type {\n",
       "        vertical-align: middle;\n",
       "    }\n",
       "\n",
       "    .dataframe tbody tr th {\n",
       "        vertical-align: top;\n",
       "    }\n",
       "\n",
       "    .dataframe thead th {\n",
       "        text-align: right;\n",
       "    }\n",
       "</style>\n",
       "<table border=\"1\" class=\"dataframe\">\n",
       "  <thead>\n",
       "    <tr style=\"text-align: right;\">\n",
       "      <th></th>\n",
       "      <th>RegionID</th>\n",
       "      <th>RegionName</th>\n",
       "      <th>City</th>\n",
       "      <th>State</th>\n",
       "      <th>Metro</th>\n",
       "      <th>CountyName</th>\n",
       "      <th>SizeRank</th>\n",
       "      <th>1997-03</th>\n",
       "      <th>1997-04</th>\n",
       "      <th>1997-05</th>\n",
       "      <th>...</th>\n",
       "      <th>2017-03</th>\n",
       "      <th>2017-04</th>\n",
       "      <th>2017-05</th>\n",
       "      <th>2017-06</th>\n",
       "      <th>2017-07</th>\n",
       "      <th>2017-08</th>\n",
       "      <th>2017-09</th>\n",
       "      <th>2017-10</th>\n",
       "      <th>2017-11</th>\n",
       "      <th>house_value_growth</th>\n",
       "    </tr>\n",
       "  </thead>\n",
       "  <tbody>\n",
       "    <tr>\n",
       "      <th>1</th>\n",
       "      <td>84654</td>\n",
       "      <td>60657</td>\n",
       "      <td>Chicago</td>\n",
       "      <td>IL</td>\n",
       "      <td>Chicago</td>\n",
       "      <td>Cook</td>\n",
       "      <td>2</td>\n",
       "      <td>151100.0</td>\n",
       "      <td>153200.0</td>\n",
       "      <td>155100.0</td>\n",
       "      <td>...</td>\n",
       "      <td>321000</td>\n",
       "      <td>322900</td>\n",
       "      <td>324600</td>\n",
       "      <td>325100</td>\n",
       "      <td>324300</td>\n",
       "      <td>324100</td>\n",
       "      <td>324700</td>\n",
       "      <td>324400</td>\n",
       "      <td>323500</td>\n",
       "      <td>2.491894</td>\n",
       "    </tr>\n",
       "    <tr>\n",
       "      <th>2</th>\n",
       "      <td>84616</td>\n",
       "      <td>60614</td>\n",
       "      <td>Chicago</td>\n",
       "      <td>IL</td>\n",
       "      <td>Chicago</td>\n",
       "      <td>Cook</td>\n",
       "      <td>3</td>\n",
       "      <td>197600.0</td>\n",
       "      <td>199700.0</td>\n",
       "      <td>200500.0</td>\n",
       "      <td>...</td>\n",
       "      <td>410500</td>\n",
       "      <td>400200</td>\n",
       "      <td>402000</td>\n",
       "      <td>410500</td>\n",
       "      <td>411100</td>\n",
       "      <td>408500</td>\n",
       "      <td>406900</td>\n",
       "      <td>402500</td>\n",
       "      <td>397200</td>\n",
       "      <td>2.462830</td>\n",
       "    </tr>\n",
       "    <tr>\n",
       "      <th>3</th>\n",
       "      <td>93144</td>\n",
       "      <td>79936</td>\n",
       "      <td>El Paso</td>\n",
       "      <td>TX</td>\n",
       "      <td>El Paso</td>\n",
       "      <td>El Paso</td>\n",
       "      <td>4</td>\n",
       "      <td>73100.0</td>\n",
       "      <td>73100.0</td>\n",
       "      <td>73300.0</td>\n",
       "      <td>...</td>\n",
       "      <td>114800</td>\n",
       "      <td>114700</td>\n",
       "      <td>114800</td>\n",
       "      <td>114500</td>\n",
       "      <td>114200</td>\n",
       "      <td>114200</td>\n",
       "      <td>114800</td>\n",
       "      <td>114900</td>\n",
       "      <td>114400</td>\n",
       "      <td>0.214110</td>\n",
       "    </tr>\n",
       "    <tr>\n",
       "      <th>4</th>\n",
       "      <td>84640</td>\n",
       "      <td>60640</td>\n",
       "      <td>Chicago</td>\n",
       "      <td>IL</td>\n",
       "      <td>Chicago</td>\n",
       "      <td>Cook</td>\n",
       "      <td>5</td>\n",
       "      <td>106400.0</td>\n",
       "      <td>106800.0</td>\n",
       "      <td>106600.0</td>\n",
       "      <td>...</td>\n",
       "      <td>205200</td>\n",
       "      <td>204800</td>\n",
       "      <td>204100</td>\n",
       "      <td>204400</td>\n",
       "      <td>206200</td>\n",
       "      <td>208700</td>\n",
       "      <td>210100</td>\n",
       "      <td>209500</td>\n",
       "      <td>209300</td>\n",
       "      <td>1.384039</td>\n",
       "    </tr>\n",
       "  </tbody>\n",
       "</table>\n",
       "<p>4 rows × 257 columns</p>\n",
       "</div>"
      ],
      "text/plain": [
       "   RegionID  RegionName     City State    Metro CountyName  SizeRank  \\\n",
       "1     84654       60657  Chicago    IL  Chicago       Cook         2   \n",
       "2     84616       60614  Chicago    IL  Chicago       Cook         3   \n",
       "3     93144       79936  El Paso    TX  El Paso    El Paso         4   \n",
       "4     84640       60640  Chicago    IL  Chicago       Cook         5   \n",
       "\n",
       "    1997-03   1997-04   1997-05  ...  2017-03  2017-04  2017-05  2017-06  \\\n",
       "1  151100.0  153200.0  155100.0  ...   321000   322900   324600   325100   \n",
       "2  197600.0  199700.0  200500.0  ...   410500   400200   402000   410500   \n",
       "3   73100.0   73100.0   73300.0  ...   114800   114700   114800   114500   \n",
       "4  106400.0  106800.0  106600.0  ...   205200   204800   204100   204400   \n",
       "\n",
       "   2017-07  2017-08  2017-09  2017-10  2017-11  house_value_growth  \n",
       "1   324300   324100   324700   324400   323500            2.491894  \n",
       "2   411100   408500   406900   402500   397200            2.462830  \n",
       "3   114200   114200   114800   114900   114400            0.214110  \n",
       "4   206200   208700   210100   209500   209300            1.384039  \n",
       "\n",
       "[4 rows x 257 columns]"
      ]
     },
     "execution_count": 73,
     "metadata": {},
     "output_type": "execute_result"
    }
   ],
   "source": [
    "house_values_nonull[0:4]"
   ]
  },
  {
   "cell_type": "code",
   "execution_count": 74,
   "metadata": {},
   "outputs": [],
   "source": [
    "# Let me grab the zip codes that are of interest in further analysis\n",
    "\n",
    "zip_codes_interest = house_values_nonull['RegionName'].unique()"
   ]
  },
  {
   "cell_type": "code",
   "execution_count": 75,
   "metadata": {},
   "outputs": [],
   "source": [
    "# Loading in the predictors data sets\n",
    "# https://fred.stlouisfed.org/series/MORTGAGE30US\n",
    "mortgage_rates = pd.read_csv(r'C:\\Users\\joshn\\Downloads\\MS in Data Science\\Housing market\\Housing_Market-master\\Data\\Home prices\\MORTGAGE30US.csv')"
   ]
  },
  {
   "cell_type": "code",
   "execution_count": 76,
   "metadata": {},
   "outputs": [
    {
     "data": {
      "text/html": [
       "<div>\n",
       "<style scoped>\n",
       "    .dataframe tbody tr th:only-of-type {\n",
       "        vertical-align: middle;\n",
       "    }\n",
       "\n",
       "    .dataframe tbody tr th {\n",
       "        vertical-align: top;\n",
       "    }\n",
       "\n",
       "    .dataframe thead th {\n",
       "        text-align: right;\n",
       "    }\n",
       "</style>\n",
       "<table border=\"1\" class=\"dataframe\">\n",
       "  <thead>\n",
       "    <tr style=\"text-align: right;\">\n",
       "      <th></th>\n",
       "      <th>DATE</th>\n",
       "      <th>MORTGAGE30US</th>\n",
       "    </tr>\n",
       "  </thead>\n",
       "  <tbody>\n",
       "    <tr>\n",
       "      <th>0</th>\n",
       "      <td>1971-04-02</td>\n",
       "      <td>7.33</td>\n",
       "    </tr>\n",
       "    <tr>\n",
       "      <th>1</th>\n",
       "      <td>1971-04-09</td>\n",
       "      <td>7.31</td>\n",
       "    </tr>\n",
       "  </tbody>\n",
       "</table>\n",
       "</div>"
      ],
      "text/plain": [
       "         DATE  MORTGAGE30US\n",
       "0  1971-04-02          7.33\n",
       "1  1971-04-09          7.31"
      ]
     },
     "execution_count": 76,
     "metadata": {},
     "output_type": "execute_result"
    }
   ],
   "source": [
    "mortgage_rates[0:2]"
   ]
  },
  {
   "cell_type": "code",
   "execution_count": 77,
   "metadata": {},
   "outputs": [],
   "source": [
    "# https://github.com/jcheng5/superzip\n",
    "unemployment_levels = pd.read_csv(r'C:\\Users\\joshn\\Downloads\\MS in Data Science\\Housing market\\Housing_Market-master\\Data\\Home prices\\output.csv')"
   ]
  },
  {
   "cell_type": "code",
   "execution_count": 78,
   "metadata": {},
   "outputs": [
    {
     "data": {
      "text/html": [
       "<div>\n",
       "<style scoped>\n",
       "    .dataframe tbody tr th:only-of-type {\n",
       "        vertical-align: middle;\n",
       "    }\n",
       "\n",
       "    .dataframe tbody tr th {\n",
       "        vertical-align: top;\n",
       "    }\n",
       "\n",
       "    .dataframe thead th {\n",
       "        text-align: right;\n",
       "    }\n",
       "</style>\n",
       "<table border=\"1\" class=\"dataframe\">\n",
       "  <thead>\n",
       "    <tr style=\"text-align: right;\">\n",
       "      <th></th>\n",
       "      <th>Year</th>\n",
       "      <th>Month</th>\n",
       "      <th>State</th>\n",
       "      <th>County</th>\n",
       "      <th>Rate</th>\n",
       "    </tr>\n",
       "  </thead>\n",
       "  <tbody>\n",
       "    <tr>\n",
       "      <th>0</th>\n",
       "      <td>2015</td>\n",
       "      <td>February</td>\n",
       "      <td>Mississippi</td>\n",
       "      <td>Newton County</td>\n",
       "      <td>6.1</td>\n",
       "    </tr>\n",
       "    <tr>\n",
       "      <th>1</th>\n",
       "      <td>2015</td>\n",
       "      <td>February</td>\n",
       "      <td>Mississippi</td>\n",
       "      <td>Panola County</td>\n",
       "      <td>9.4</td>\n",
       "    </tr>\n",
       "  </tbody>\n",
       "</table>\n",
       "</div>"
      ],
      "text/plain": [
       "   Year     Month        State         County  Rate\n",
       "0  2015  February  Mississippi  Newton County   6.1\n",
       "1  2015  February  Mississippi  Panola County   9.4"
      ]
     },
     "execution_count": 78,
     "metadata": {},
     "output_type": "execute_result"
    }
   ],
   "source": [
    "unemployment_levels[0:2]"
   ]
  },
  {
   "cell_type": "code",
   "execution_count": 79,
   "metadata": {},
   "outputs": [],
   "source": [
    "# Let me load in a zip code file also\n",
    "# https://github.com/jasonong/List-of-US-States\n",
    "zip_county = pd.read_csv(r'C:\\Users\\joshn\\Downloads\\MS in Data Science\\Housing market\\Housing_Market-master\\Data\\Home prices\\zip_codes_states.csv')"
   ]
  },
  {
   "cell_type": "code",
   "execution_count": 80,
   "metadata": {},
   "outputs": [
    {
     "data": {
      "text/html": [
       "<div>\n",
       "<style scoped>\n",
       "    .dataframe tbody tr th:only-of-type {\n",
       "        vertical-align: middle;\n",
       "    }\n",
       "\n",
       "    .dataframe tbody tr th {\n",
       "        vertical-align: top;\n",
       "    }\n",
       "\n",
       "    .dataframe thead th {\n",
       "        text-align: right;\n",
       "    }\n",
       "</style>\n",
       "<table border=\"1\" class=\"dataframe\">\n",
       "  <thead>\n",
       "    <tr style=\"text-align: right;\">\n",
       "      <th></th>\n",
       "      <th>zip_code</th>\n",
       "      <th>latitude</th>\n",
       "      <th>longitude</th>\n",
       "      <th>city</th>\n",
       "      <th>state</th>\n",
       "      <th>county</th>\n",
       "    </tr>\n",
       "  </thead>\n",
       "  <tbody>\n",
       "    <tr>\n",
       "      <th>0</th>\n",
       "      <td>501</td>\n",
       "      <td>40.922326</td>\n",
       "      <td>-72.637078</td>\n",
       "      <td>Holtsville</td>\n",
       "      <td>NY</td>\n",
       "      <td>Suffolk</td>\n",
       "    </tr>\n",
       "    <tr>\n",
       "      <th>1</th>\n",
       "      <td>544</td>\n",
       "      <td>40.922326</td>\n",
       "      <td>-72.637078</td>\n",
       "      <td>Holtsville</td>\n",
       "      <td>NY</td>\n",
       "      <td>Suffolk</td>\n",
       "    </tr>\n",
       "    <tr>\n",
       "      <th>2</th>\n",
       "      <td>601</td>\n",
       "      <td>18.165273</td>\n",
       "      <td>-66.722583</td>\n",
       "      <td>Adjuntas</td>\n",
       "      <td>PR</td>\n",
       "      <td>Adjuntas</td>\n",
       "    </tr>\n",
       "    <tr>\n",
       "      <th>3</th>\n",
       "      <td>602</td>\n",
       "      <td>18.393103</td>\n",
       "      <td>-67.180953</td>\n",
       "      <td>Aguada</td>\n",
       "      <td>PR</td>\n",
       "      <td>Aguada</td>\n",
       "    </tr>\n",
       "  </tbody>\n",
       "</table>\n",
       "</div>"
      ],
      "text/plain": [
       "   zip_code   latitude  longitude        city state    county\n",
       "0       501  40.922326 -72.637078  Holtsville    NY   Suffolk\n",
       "1       544  40.922326 -72.637078  Holtsville    NY   Suffolk\n",
       "2       601  18.165273 -66.722583    Adjuntas    PR  Adjuntas\n",
       "3       602  18.393103 -67.180953      Aguada    PR    Aguada"
      ]
     },
     "execution_count": 80,
     "metadata": {},
     "output_type": "execute_result"
    }
   ],
   "source": [
    "zip_county[0:4]"
   ]
  },
  {
   "cell_type": "code",
   "execution_count": 81,
   "metadata": {},
   "outputs": [],
   "source": [
    "zip_county['key'] = zip_county['county'] + ' County'"
   ]
  },
  {
   "cell_type": "code",
   "execution_count": 82,
   "metadata": {},
   "outputs": [],
   "source": [
    "zip_county = zip_county[zip_county['zip_code'].isin(zip_codes_interest)]"
   ]
  },
  {
   "cell_type": "code",
   "execution_count": 83,
   "metadata": {},
   "outputs": [
    {
     "data": {
      "text/html": [
       "<div>\n",
       "<style scoped>\n",
       "    .dataframe tbody tr th:only-of-type {\n",
       "        vertical-align: middle;\n",
       "    }\n",
       "\n",
       "    .dataframe tbody tr th {\n",
       "        vertical-align: top;\n",
       "    }\n",
       "\n",
       "    .dataframe thead th {\n",
       "        text-align: right;\n",
       "    }\n",
       "</style>\n",
       "<table border=\"1\" class=\"dataframe\">\n",
       "  <thead>\n",
       "    <tr style=\"text-align: right;\">\n",
       "      <th></th>\n",
       "      <th>RegionID</th>\n",
       "      <th>RegionName</th>\n",
       "      <th>City</th>\n",
       "      <th>State</th>\n",
       "      <th>Metro</th>\n",
       "      <th>CountyName</th>\n",
       "      <th>SizeRank</th>\n",
       "      <th>2010-10</th>\n",
       "      <th>2010-11</th>\n",
       "      <th>2010-12</th>\n",
       "      <th>...</th>\n",
       "      <th>2016-12</th>\n",
       "      <th>2017-01</th>\n",
       "      <th>2017-02</th>\n",
       "      <th>2017-03</th>\n",
       "      <th>2017-04</th>\n",
       "      <th>2017-05</th>\n",
       "      <th>2017-06</th>\n",
       "      <th>2017-07</th>\n",
       "      <th>2017-08</th>\n",
       "      <th>2017-09</th>\n",
       "    </tr>\n",
       "  </thead>\n",
       "  <tbody>\n",
       "    <tr>\n",
       "      <th>0</th>\n",
       "      <td>61639</td>\n",
       "      <td>10025</td>\n",
       "      <td>New York</td>\n",
       "      <td>NY</td>\n",
       "      <td>New York</td>\n",
       "      <td>New York</td>\n",
       "      <td>1</td>\n",
       "      <td>18.74</td>\n",
       "      <td>18.92</td>\n",
       "      <td>19.07</td>\n",
       "      <td>...</td>\n",
       "      <td>25.17</td>\n",
       "      <td>24.75</td>\n",
       "      <td>24.77</td>\n",
       "      <td>24.91</td>\n",
       "      <td>24.60</td>\n",
       "      <td>25.29</td>\n",
       "      <td>25.96</td>\n",
       "      <td>26.23</td>\n",
       "      <td>26.18</td>\n",
       "      <td>26.05</td>\n",
       "    </tr>\n",
       "    <tr>\n",
       "      <th>1</th>\n",
       "      <td>84654</td>\n",
       "      <td>60657</td>\n",
       "      <td>Chicago</td>\n",
       "      <td>IL</td>\n",
       "      <td>Chicago</td>\n",
       "      <td>Cook</td>\n",
       "      <td>2</td>\n",
       "      <td>13.27</td>\n",
       "      <td>13.20</td>\n",
       "      <td>13.20</td>\n",
       "      <td>...</td>\n",
       "      <td>12.85</td>\n",
       "      <td>12.99</td>\n",
       "      <td>13.07</td>\n",
       "      <td>13.12</td>\n",
       "      <td>13.11</td>\n",
       "      <td>13.04</td>\n",
       "      <td>12.88</td>\n",
       "      <td>12.82</td>\n",
       "      <td>12.80</td>\n",
       "      <td>12.84</td>\n",
       "    </tr>\n",
       "    <tr>\n",
       "      <th>2</th>\n",
       "      <td>84616</td>\n",
       "      <td>60614</td>\n",
       "      <td>Chicago</td>\n",
       "      <td>IL</td>\n",
       "      <td>Chicago</td>\n",
       "      <td>Cook</td>\n",
       "      <td>3</td>\n",
       "      <td>14.09</td>\n",
       "      <td>14.04</td>\n",
       "      <td>13.85</td>\n",
       "      <td>...</td>\n",
       "      <td>14.23</td>\n",
       "      <td>14.31</td>\n",
       "      <td>14.42</td>\n",
       "      <td>14.33</td>\n",
       "      <td>14.17</td>\n",
       "      <td>14.03</td>\n",
       "      <td>13.99</td>\n",
       "      <td>13.91</td>\n",
       "      <td>13.95</td>\n",
       "      <td>14.04</td>\n",
       "    </tr>\n",
       "    <tr>\n",
       "      <th>3</th>\n",
       "      <td>93144</td>\n",
       "      <td>79936</td>\n",
       "      <td>El Paso</td>\n",
       "      <td>TX</td>\n",
       "      <td>El Paso</td>\n",
       "      <td>El Paso</td>\n",
       "      <td>4</td>\n",
       "      <td>8.83</td>\n",
       "      <td>9.04</td>\n",
       "      <td>8.99</td>\n",
       "      <td>...</td>\n",
       "      <td>9.50</td>\n",
       "      <td>9.52</td>\n",
       "      <td>9.53</td>\n",
       "      <td>9.56</td>\n",
       "      <td>9.56</td>\n",
       "      <td>9.56</td>\n",
       "      <td>9.53</td>\n",
       "      <td>9.48</td>\n",
       "      <td>9.48</td>\n",
       "      <td>9.48</td>\n",
       "    </tr>\n",
       "  </tbody>\n",
       "</table>\n",
       "<p>4 rows × 91 columns</p>\n",
       "</div>"
      ],
      "text/plain": [
       "   RegionID  RegionName      City State     Metro CountyName  SizeRank  \\\n",
       "0     61639       10025  New York    NY  New York   New York         1   \n",
       "1     84654       60657   Chicago    IL   Chicago       Cook         2   \n",
       "2     84616       60614   Chicago    IL   Chicago       Cook         3   \n",
       "3     93144       79936   El Paso    TX   El Paso    El Paso         4   \n",
       "\n",
       "   2010-10  2010-11  2010-12  ...  2016-12  2017-01  2017-02  2017-03  \\\n",
       "0    18.74    18.92    19.07  ...    25.17    24.75    24.77    24.91   \n",
       "1    13.27    13.20    13.20  ...    12.85    12.99    13.07    13.12   \n",
       "2    14.09    14.04    13.85  ...    14.23    14.31    14.42    14.33   \n",
       "3     8.83     9.04     8.99  ...     9.50     9.52     9.53     9.56   \n",
       "\n",
       "   2017-04  2017-05  2017-06  2017-07  2017-08  2017-09  \n",
       "0    24.60    25.29    25.96    26.23    26.18    26.05  \n",
       "1    13.11    13.04    12.88    12.82    12.80    12.84  \n",
       "2    14.17    14.03    13.99    13.91    13.95    14.04  \n",
       "3     9.56     9.56     9.53     9.48     9.48     9.48  \n",
       "\n",
       "[4 rows x 91 columns]"
      ]
     },
     "execution_count": 83,
     "metadata": {},
     "output_type": "execute_result"
    }
   ],
   "source": [
    "zillow_nonull[0:4]"
   ]
  },
  {
   "cell_type": "code",
   "execution_count": 84,
   "metadata": {},
   "outputs": [],
   "source": [
    "# Before we move on the next visualization, there's another visualization that I need to do\n",
    "\n",
    "# does the ratio depend on state tax???? very curious\n",
    "\n",
    "Meidan_ratio_by_state = zillow_nonull[['State', '2017-09']].groupby('State').median()\n",
    "\n",
    "# As expected state tax rates are not the biggest thing determining ratios"
   ]
  },
  {
   "cell_type": "code",
   "execution_count": 85,
   "metadata": {},
   "outputs": [],
   "source": [
    "unemployment_levels_cut = unemployment_levels[unemployment_levels['Year'] > 1995]"
   ]
  },
  {
   "cell_type": "code",
   "execution_count": 86,
   "metadata": {},
   "outputs": [],
   "source": [
    "# Oh god. The states are abbrivated in one file and are in the full form in another\n",
    "\n",
    "state_abbrevations = pd.read_csv(r'C:\\Users\\joshn\\Downloads\\MS in Data Science\\Housing market\\Housing_Market-master\\Data\\Home prices\\states.csv')"
   ]
  },
  {
   "cell_type": "code",
   "execution_count": 87,
   "metadata": {},
   "outputs": [],
   "source": [
    "zip_county_final = pd.merge(zip_county,\n",
    "                            state_abbrevations,\n",
    "                            left_on='state',\n",
    "                            right_on='Abbreviation',\n",
    "                            how='inner')\n",
    "\n",
    "zip_county_final['key_final'] = zip_county_final['key'] + zip_county_final['State']\n",
    "zip_county_final = zip_county_final.drop(['latitude', 'longitude', 'city', 'state', 'Abbreviation', 'State', 'county', 'key'], \n",
    "                                         axis = 1)"
   ]
  },
  {
   "cell_type": "code",
   "execution_count": 88,
   "metadata": {},
   "outputs": [],
   "source": [
    "unemployment_levels_cut['key_final2'] = unemployment_levels_cut['County'] + unemployment_levels_cut['State']"
   ]
  },
  {
   "cell_type": "code",
   "execution_count": 89,
   "metadata": {},
   "outputs": [],
   "source": [
    "unemployment_final = pd.merge(unemployment_levels_cut,\n",
    "                              zip_county_final,\n",
    "                              left_on='key_final2',\n",
    "                              right_on='key_final',\n",
    "                              how='right')"
   ]
  },
  {
   "cell_type": "code",
   "execution_count": 90,
   "metadata": {},
   "outputs": [
    {
     "data": {
      "text/plain": [
       "(2488554, 8)"
      ]
     },
     "execution_count": 90,
     "metadata": {},
     "output_type": "execute_result"
    }
   ],
   "source": [
    "unemployment_final.shape"
   ]
  },
  {
   "cell_type": "code",
   "execution_count": 91,
   "metadata": {},
   "outputs": [
    {
     "data": {
      "text/html": [
       "<div>\n",
       "<style scoped>\n",
       "    .dataframe tbody tr th:only-of-type {\n",
       "        vertical-align: middle;\n",
       "    }\n",
       "\n",
       "    .dataframe tbody tr th {\n",
       "        vertical-align: top;\n",
       "    }\n",
       "\n",
       "    .dataframe thead th {\n",
       "        text-align: right;\n",
       "    }\n",
       "</style>\n",
       "<table border=\"1\" class=\"dataframe\">\n",
       "  <thead>\n",
       "    <tr style=\"text-align: right;\">\n",
       "      <th></th>\n",
       "      <th>Year</th>\n",
       "      <th>Month</th>\n",
       "      <th>State</th>\n",
       "      <th>County</th>\n",
       "      <th>Rate</th>\n",
       "      <th>key_final2</th>\n",
       "      <th>zip_code</th>\n",
       "      <th>key_final</th>\n",
       "    </tr>\n",
       "  </thead>\n",
       "  <tbody>\n",
       "    <tr>\n",
       "      <th>0</th>\n",
       "      <td>2015.0</td>\n",
       "      <td>February</td>\n",
       "      <td>Massachusetts</td>\n",
       "      <td>Hampden County</td>\n",
       "      <td>7.4</td>\n",
       "      <td>Hampden CountyMassachusetts</td>\n",
       "      <td>1001</td>\n",
       "      <td>Hampden CountyMassachusetts</td>\n",
       "    </tr>\n",
       "    <tr>\n",
       "      <th>1</th>\n",
       "      <td>2015.0</td>\n",
       "      <td>October</td>\n",
       "      <td>Massachusetts</td>\n",
       "      <td>Hampden County</td>\n",
       "      <td>6.0</td>\n",
       "      <td>Hampden CountyMassachusetts</td>\n",
       "      <td>1001</td>\n",
       "      <td>Hampden CountyMassachusetts</td>\n",
       "    </tr>\n",
       "    <tr>\n",
       "      <th>2</th>\n",
       "      <td>2015.0</td>\n",
       "      <td>March</td>\n",
       "      <td>Massachusetts</td>\n",
       "      <td>Hampden County</td>\n",
       "      <td>7.0</td>\n",
       "      <td>Hampden CountyMassachusetts</td>\n",
       "      <td>1001</td>\n",
       "      <td>Hampden CountyMassachusetts</td>\n",
       "    </tr>\n",
       "    <tr>\n",
       "      <th>3</th>\n",
       "      <td>2015.0</td>\n",
       "      <td>August</td>\n",
       "      <td>Massachusetts</td>\n",
       "      <td>Hampden County</td>\n",
       "      <td>6.7</td>\n",
       "      <td>Hampden CountyMassachusetts</td>\n",
       "      <td>1001</td>\n",
       "      <td>Hampden CountyMassachusetts</td>\n",
       "    </tr>\n",
       "    <tr>\n",
       "      <th>4</th>\n",
       "      <td>2015.0</td>\n",
       "      <td>May</td>\n",
       "      <td>Massachusetts</td>\n",
       "      <td>Hampden County</td>\n",
       "      <td>6.6</td>\n",
       "      <td>Hampden CountyMassachusetts</td>\n",
       "      <td>1001</td>\n",
       "      <td>Hampden CountyMassachusetts</td>\n",
       "    </tr>\n",
       "  </tbody>\n",
       "</table>\n",
       "</div>"
      ],
      "text/plain": [
       "     Year     Month          State          County  Rate  \\\n",
       "0  2015.0  February  Massachusetts  Hampden County   7.4   \n",
       "1  2015.0   October  Massachusetts  Hampden County   6.0   \n",
       "2  2015.0     March  Massachusetts  Hampden County   7.0   \n",
       "3  2015.0    August  Massachusetts  Hampden County   6.7   \n",
       "4  2015.0       May  Massachusetts  Hampden County   6.6   \n",
       "\n",
       "                    key_final2  zip_code                    key_final  \n",
       "0  Hampden CountyMassachusetts      1001  Hampden CountyMassachusetts  \n",
       "1  Hampden CountyMassachusetts      1001  Hampden CountyMassachusetts  \n",
       "2  Hampden CountyMassachusetts      1001  Hampden CountyMassachusetts  \n",
       "3  Hampden CountyMassachusetts      1001  Hampden CountyMassachusetts  \n",
       "4  Hampden CountyMassachusetts      1001  Hampden CountyMassachusetts  "
      ]
     },
     "execution_count": 91,
     "metadata": {},
     "output_type": "execute_result"
    }
   ],
   "source": [
    "unemployment_final[0:5]\n",
    "\n",
    "# Yes. This is what I what"
   ]
  },
  {
   "cell_type": "code",
   "execution_count": 92,
   "metadata": {},
   "outputs": [],
   "source": [
    "unemployment_final_yearly = unemployment_final[unemployment_final['Month'] == 'January']"
   ]
  },
  {
   "cell_type": "code",
   "execution_count": 93,
   "metadata": {},
   "outputs": [],
   "source": [
    "unemployment_final_yearly = unemployment_final_yearly.drop(['Month', 'key_final2', 'key_final'], axis = 1)"
   ]
  },
  {
   "cell_type": "code",
   "execution_count": 94,
   "metadata": {},
   "outputs": [],
   "source": [
    "unemployment_final_yearly['Year_final'] = unemployment_final_yearly['Year'].astype(str).str[0:4]"
   ]
  },
  {
   "cell_type": "code",
   "execution_count": 95,
   "metadata": {},
   "outputs": [],
   "source": [
    "mortgage_rates['year'] = mortgage_rates['DATE'].astype(str).str[0:4]"
   ]
  },
  {
   "cell_type": "code",
   "execution_count": 96,
   "metadata": {},
   "outputs": [],
   "source": [
    "mortgage_rates2 = mortgage_rates[['MORTGAGE30US', 'year']].groupby('year').median().reset_index()"
   ]
  },
  {
   "cell_type": "code",
   "execution_count": 97,
   "metadata": {},
   "outputs": [],
   "source": [
    "unemployment_mortgage_rates = pd.merge(unemployment_final_yearly,\n",
    "                                       mortgage_rates2,\n",
    "                                       left_on='Year_final',\n",
    "                                       right_on='year',\n",
    "                                       how='left')"
   ]
  },
  {
   "cell_type": "code",
   "execution_count": 98,
   "metadata": {},
   "outputs": [
    {
     "data": {
      "text/html": [
       "<div>\n",
       "<style scoped>\n",
       "    .dataframe tbody tr th:only-of-type {\n",
       "        vertical-align: middle;\n",
       "    }\n",
       "\n",
       "    .dataframe tbody tr th {\n",
       "        vertical-align: top;\n",
       "    }\n",
       "\n",
       "    .dataframe thead th {\n",
       "        text-align: right;\n",
       "    }\n",
       "</style>\n",
       "<table border=\"1\" class=\"dataframe\">\n",
       "  <thead>\n",
       "    <tr style=\"text-align: right;\">\n",
       "      <th></th>\n",
       "      <th>Year</th>\n",
       "      <th>State</th>\n",
       "      <th>County</th>\n",
       "      <th>Rate</th>\n",
       "      <th>zip_code</th>\n",
       "      <th>Year_final</th>\n",
       "    </tr>\n",
       "  </thead>\n",
       "  <tbody>\n",
       "    <tr>\n",
       "      <th>5</th>\n",
       "      <td>2015.0</td>\n",
       "      <td>Massachusetts</td>\n",
       "      <td>Hampden County</td>\n",
       "      <td>8.0</td>\n",
       "      <td>1001</td>\n",
       "      <td>2015</td>\n",
       "    </tr>\n",
       "    <tr>\n",
       "      <th>17</th>\n",
       "      <td>2014.0</td>\n",
       "      <td>Massachusetts</td>\n",
       "      <td>Hampden County</td>\n",
       "      <td>9.2</td>\n",
       "      <td>1001</td>\n",
       "      <td>2014</td>\n",
       "    </tr>\n",
       "  </tbody>\n",
       "</table>\n",
       "</div>"
      ],
      "text/plain": [
       "      Year          State          County  Rate  zip_code Year_final\n",
       "5   2015.0  Massachusetts  Hampden County   8.0      1001       2015\n",
       "17  2014.0  Massachusetts  Hampden County   9.2      1001       2014"
      ]
     },
     "execution_count": 98,
     "metadata": {},
     "output_type": "execute_result"
    }
   ],
   "source": [
    "unemployment_final_yearly[0:2]"
   ]
  },
  {
   "cell_type": "code",
   "execution_count": 99,
   "metadata": {},
   "outputs": [],
   "source": [
    "# Time to join GDP of the states\n",
    "# https://apps.bea.gov/itable/iTable.cfm?ReqID=70&step=1\n",
    "gdp = pd.read_csv(r'C:\\Users\\joshn\\Downloads\\MS in Data Science\\Housing market\\Housing_Market-master\\Data\\Home prices\\GDP states edited.csv')"
   ]
  },
  {
   "cell_type": "code",
   "execution_count": 100,
   "metadata": {},
   "outputs": [
    {
     "data": {
      "text/html": [
       "<div>\n",
       "<style scoped>\n",
       "    .dataframe tbody tr th:only-of-type {\n",
       "        vertical-align: middle;\n",
       "    }\n",
       "\n",
       "    .dataframe tbody tr th {\n",
       "        vertical-align: top;\n",
       "    }\n",
       "\n",
       "    .dataframe thead th {\n",
       "        text-align: right;\n",
       "    }\n",
       "</style>\n",
       "<table border=\"1\" class=\"dataframe\">\n",
       "  <thead>\n",
       "    <tr style=\"text-align: right;\">\n",
       "      <th></th>\n",
       "      <th>GeoFips</th>\n",
       "      <th>GeoName</th>\n",
       "      <th>1997-1998</th>\n",
       "      <th>1998-1999</th>\n",
       "      <th>1999-2000</th>\n",
       "      <th>2000-2001</th>\n",
       "      <th>2001-2002</th>\n",
       "      <th>2002-2003</th>\n",
       "      <th>2003-2004</th>\n",
       "      <th>2004-2005</th>\n",
       "      <th>...</th>\n",
       "      <th>2010-2011</th>\n",
       "      <th>2011-2012</th>\n",
       "      <th>2012-2013</th>\n",
       "      <th>2013-2014</th>\n",
       "      <th>2014-2015</th>\n",
       "      <th>2015-2016</th>\n",
       "      <th>2016-2017</th>\n",
       "      <th>2017-2018</th>\n",
       "      <th>2018-2019</th>\n",
       "      <th>2019-2020</th>\n",
       "    </tr>\n",
       "  </thead>\n",
       "  <tbody>\n",
       "    <tr>\n",
       "      <th>0</th>\n",
       "      <td>0</td>\n",
       "      <td>United States</td>\n",
       "      <td>4.5</td>\n",
       "      <td>4.8</td>\n",
       "      <td>4.1</td>\n",
       "      <td>1.0</td>\n",
       "      <td>1.7</td>\n",
       "      <td>2.9</td>\n",
       "      <td>3.8</td>\n",
       "      <td>3.5</td>\n",
       "      <td>...</td>\n",
       "      <td>1.6</td>\n",
       "      <td>2.2</td>\n",
       "      <td>1.8</td>\n",
       "      <td>2.5</td>\n",
       "      <td>3.1</td>\n",
       "      <td>1.7</td>\n",
       "      <td>2.3</td>\n",
       "      <td>3.0</td>\n",
       "      <td>2.2</td>\n",
       "      <td>-3.5</td>\n",
       "    </tr>\n",
       "    <tr>\n",
       "      <th>1</th>\n",
       "      <td>1000</td>\n",
       "      <td>Alabama</td>\n",
       "      <td>3.6</td>\n",
       "      <td>3.7</td>\n",
       "      <td>1.6</td>\n",
       "      <td>-0.4</td>\n",
       "      <td>2.6</td>\n",
       "      <td>2.5</td>\n",
       "      <td>6.5</td>\n",
       "      <td>3.4</td>\n",
       "      <td>...</td>\n",
       "      <td>1.4</td>\n",
       "      <td>0.5</td>\n",
       "      <td>1.2</td>\n",
       "      <td>-0.7</td>\n",
       "      <td>1.0</td>\n",
       "      <td>1.1</td>\n",
       "      <td>1.1</td>\n",
       "      <td>2.3</td>\n",
       "      <td>1.4</td>\n",
       "      <td>-2.7</td>\n",
       "    </tr>\n",
       "    <tr>\n",
       "      <th>2</th>\n",
       "      <td>2000</td>\n",
       "      <td>Alaska</td>\n",
       "      <td>-2.6</td>\n",
       "      <td>-1.1</td>\n",
       "      <td>-3.0</td>\n",
       "      <td>3.7</td>\n",
       "      <td>4.6</td>\n",
       "      <td>-1.8</td>\n",
       "      <td>3.8</td>\n",
       "      <td>3.0</td>\n",
       "      <td>...</td>\n",
       "      <td>0.9</td>\n",
       "      <td>5.5</td>\n",
       "      <td>-5.1</td>\n",
       "      <td>-2.3</td>\n",
       "      <td>1.0</td>\n",
       "      <td>-1.3</td>\n",
       "      <td>-0.9</td>\n",
       "      <td>0.2</td>\n",
       "      <td>0.6</td>\n",
       "      <td>-4.9</td>\n",
       "    </tr>\n",
       "    <tr>\n",
       "      <th>3</th>\n",
       "      <td>4000</td>\n",
       "      <td>Arizona</td>\n",
       "      <td>8.7</td>\n",
       "      <td>8.2</td>\n",
       "      <td>4.9</td>\n",
       "      <td>2.3</td>\n",
       "      <td>3.2</td>\n",
       "      <td>6.4</td>\n",
       "      <td>4.2</td>\n",
       "      <td>8.2</td>\n",
       "      <td>...</td>\n",
       "      <td>2.2</td>\n",
       "      <td>1.9</td>\n",
       "      <td>0.7</td>\n",
       "      <td>1.5</td>\n",
       "      <td>2.9</td>\n",
       "      <td>3.3</td>\n",
       "      <td>3.7</td>\n",
       "      <td>3.9</td>\n",
       "      <td>3.1</td>\n",
       "      <td>-0.9</td>\n",
       "    </tr>\n",
       "    <tr>\n",
       "      <th>4</th>\n",
       "      <td>5000</td>\n",
       "      <td>Arkansas</td>\n",
       "      <td>2.5</td>\n",
       "      <td>5.4</td>\n",
       "      <td>1.0</td>\n",
       "      <td>-0.2</td>\n",
       "      <td>3.2</td>\n",
       "      <td>4.0</td>\n",
       "      <td>4.6</td>\n",
       "      <td>3.5</td>\n",
       "      <td>...</td>\n",
       "      <td>2.0</td>\n",
       "      <td>0.4</td>\n",
       "      <td>2.4</td>\n",
       "      <td>1.3</td>\n",
       "      <td>1.1</td>\n",
       "      <td>0.5</td>\n",
       "      <td>1.3</td>\n",
       "      <td>1.5</td>\n",
       "      <td>0.6</td>\n",
       "      <td>-2.6</td>\n",
       "    </tr>\n",
       "  </tbody>\n",
       "</table>\n",
       "<p>5 rows × 25 columns</p>\n",
       "</div>"
      ],
      "text/plain": [
       "  GeoFips        GeoName  1997-1998  1998-1999  1999-2000  2000-2001  \\\n",
       "0       0  United States        4.5        4.8        4.1        1.0   \n",
       "1    1000        Alabama        3.6        3.7        1.6       -0.4   \n",
       "2    2000         Alaska       -2.6       -1.1       -3.0        3.7   \n",
       "3    4000        Arizona        8.7        8.2        4.9        2.3   \n",
       "4    5000       Arkansas        2.5        5.4        1.0       -0.2   \n",
       "\n",
       "   2001-2002  2002-2003  2003-2004  2004-2005  ...  2010-2011  2011-2012  \\\n",
       "0        1.7        2.9        3.8        3.5  ...        1.6        2.2   \n",
       "1        2.6        2.5        6.5        3.4  ...        1.4        0.5   \n",
       "2        4.6       -1.8        3.8        3.0  ...        0.9        5.5   \n",
       "3        3.2        6.4        4.2        8.2  ...        2.2        1.9   \n",
       "4        3.2        4.0        4.6        3.5  ...        2.0        0.4   \n",
       "\n",
       "   2012-2013  2013-2014  2014-2015  2015-2016  2016-2017  2017-2018  \\\n",
       "0        1.8        2.5        3.1        1.7        2.3        3.0   \n",
       "1        1.2       -0.7        1.0        1.1        1.1        2.3   \n",
       "2       -5.1       -2.3        1.0       -1.3       -0.9        0.2   \n",
       "3        0.7        1.5        2.9        3.3        3.7        3.9   \n",
       "4        2.4        1.3        1.1        0.5        1.3        1.5   \n",
       "\n",
       "   2018-2019  2019-2020  \n",
       "0        2.2       -3.5  \n",
       "1        1.4       -2.7  \n",
       "2        0.6       -4.9  \n",
       "3        3.1       -0.9  \n",
       "4        0.6       -2.6  \n",
       "\n",
       "[5 rows x 25 columns]"
      ]
     },
     "execution_count": 100,
     "metadata": {},
     "output_type": "execute_result"
    }
   ],
   "source": [
    "gdp[0:5]"
   ]
  },
  {
   "cell_type": "code",
   "execution_count": 101,
   "metadata": {},
   "outputs": [],
   "source": [
    "gdp = gdp.drop(['GeoFips'], axis = 1)"
   ]
  },
  {
   "cell_type": "code",
   "execution_count": 102,
   "metadata": {},
   "outputs": [],
   "source": [
    "gdp = gdp.transpose()"
   ]
  },
  {
   "cell_type": "code",
   "execution_count": 103,
   "metadata": {},
   "outputs": [],
   "source": [
    "gdp['Year'] = gdp.index"
   ]
  },
  {
   "cell_type": "code",
   "execution_count": 104,
   "metadata": {},
   "outputs": [
    {
     "data": {
      "text/html": [
       "<div>\n",
       "<style scoped>\n",
       "    .dataframe tbody tr th:only-of-type {\n",
       "        vertical-align: middle;\n",
       "    }\n",
       "\n",
       "    .dataframe tbody tr th {\n",
       "        vertical-align: top;\n",
       "    }\n",
       "\n",
       "    .dataframe thead th {\n",
       "        text-align: right;\n",
       "    }\n",
       "</style>\n",
       "<table border=\"1\" class=\"dataframe\">\n",
       "  <thead>\n",
       "    <tr style=\"text-align: right;\">\n",
       "      <th></th>\n",
       "      <th>0</th>\n",
       "      <th>1</th>\n",
       "      <th>2</th>\n",
       "      <th>3</th>\n",
       "      <th>4</th>\n",
       "      <th>5</th>\n",
       "      <th>6</th>\n",
       "      <th>7</th>\n",
       "      <th>8</th>\n",
       "      <th>9</th>\n",
       "      <th>...</th>\n",
       "      <th>54</th>\n",
       "      <th>55</th>\n",
       "      <th>56</th>\n",
       "      <th>57</th>\n",
       "      <th>58</th>\n",
       "      <th>59</th>\n",
       "      <th>60</th>\n",
       "      <th>61</th>\n",
       "      <th>62</th>\n",
       "      <th>Year</th>\n",
       "    </tr>\n",
       "  </thead>\n",
       "  <tbody>\n",
       "    <tr>\n",
       "      <th>GeoName</th>\n",
       "      <td>United States</td>\n",
       "      <td>Alabama</td>\n",
       "      <td>Alaska</td>\n",
       "      <td>Arizona</td>\n",
       "      <td>Arkansas</td>\n",
       "      <td>California</td>\n",
       "      <td>Colorado</td>\n",
       "      <td>Connecticut</td>\n",
       "      <td>Delaware</td>\n",
       "      <td>District of Columbia</td>\n",
       "      <td>...</td>\n",
       "      <td>Great Lakes</td>\n",
       "      <td>Plains</td>\n",
       "      <td>Southeast</td>\n",
       "      <td>Southwest</td>\n",
       "      <td>Rocky Mountain</td>\n",
       "      <td>Far West</td>\n",
       "      <td>NaN</td>\n",
       "      <td>NaN</td>\n",
       "      <td>NaN</td>\n",
       "      <td>GeoName</td>\n",
       "    </tr>\n",
       "    <tr>\n",
       "      <th>1997-1998</th>\n",
       "      <td>4.5</td>\n",
       "      <td>3.6</td>\n",
       "      <td>-2.6</td>\n",
       "      <td>8.7</td>\n",
       "      <td>2.5</td>\n",
       "      <td>6.6</td>\n",
       "      <td>9.0</td>\n",
       "      <td>2.9</td>\n",
       "      <td>9.4</td>\n",
       "      <td>1.7</td>\n",
       "      <td>...</td>\n",
       "      <td>3.5</td>\n",
       "      <td>3.1</td>\n",
       "      <td>4.7</td>\n",
       "      <td>5.9</td>\n",
       "      <td>7.2</td>\n",
       "      <td>6.0</td>\n",
       "      <td>NaN</td>\n",
       "      <td>NaN</td>\n",
       "      <td>NaN</td>\n",
       "      <td>1997-1998</td>\n",
       "    </tr>\n",
       "    <tr>\n",
       "      <th>1998-1999</th>\n",
       "      <td>4.8</td>\n",
       "      <td>3.7</td>\n",
       "      <td>-1.1</td>\n",
       "      <td>8.2</td>\n",
       "      <td>5.4</td>\n",
       "      <td>7.7</td>\n",
       "      <td>7.5</td>\n",
       "      <td>3.1</td>\n",
       "      <td>7.6</td>\n",
       "      <td>4.3</td>\n",
       "      <td>...</td>\n",
       "      <td>3.8</td>\n",
       "      <td>2.7</td>\n",
       "      <td>4.6</td>\n",
       "      <td>4.5</td>\n",
       "      <td>6.3</td>\n",
       "      <td>7.0</td>\n",
       "      <td>NaN</td>\n",
       "      <td>NaN</td>\n",
       "      <td>NaN</td>\n",
       "      <td>1998-1999</td>\n",
       "    </tr>\n",
       "    <tr>\n",
       "      <th>1999-2000</th>\n",
       "      <td>4.1</td>\n",
       "      <td>1.6</td>\n",
       "      <td>-3.0</td>\n",
       "      <td>4.9</td>\n",
       "      <td>1.0</td>\n",
       "      <td>8.0</td>\n",
       "      <td>7.7</td>\n",
       "      <td>6.9</td>\n",
       "      <td>4.3</td>\n",
       "      <td>0.8</td>\n",
       "      <td>...</td>\n",
       "      <td>2.9</td>\n",
       "      <td>4.4</td>\n",
       "      <td>2.5</td>\n",
       "      <td>3.7</td>\n",
       "      <td>6.7</td>\n",
       "      <td>6.6</td>\n",
       "      <td>NaN</td>\n",
       "      <td>NaN</td>\n",
       "      <td>NaN</td>\n",
       "      <td>1999-2000</td>\n",
       "    </tr>\n",
       "  </tbody>\n",
       "</table>\n",
       "<p>4 rows × 64 columns</p>\n",
       "</div>"
      ],
      "text/plain": [
       "                       0        1       2        3         4           5  \\\n",
       "GeoName    United States  Alabama  Alaska  Arizona  Arkansas  California   \n",
       "1997-1998            4.5      3.6    -2.6      8.7       2.5         6.6   \n",
       "1998-1999            4.8      3.7    -1.1      8.2       5.4         7.7   \n",
       "1999-2000            4.1      1.6    -3.0      4.9       1.0         8.0   \n",
       "\n",
       "                  6            7         8                     9  ...  \\\n",
       "GeoName    Colorado  Connecticut  Delaware  District of Columbia  ...   \n",
       "1997-1998       9.0          2.9       9.4                   1.7  ...   \n",
       "1998-1999       7.5          3.1       7.6                   4.3  ...   \n",
       "1999-2000       7.7          6.9       4.3                   0.8  ...   \n",
       "\n",
       "                    54      55         56         57              58  \\\n",
       "GeoName    Great Lakes  Plains  Southeast  Southwest  Rocky Mountain   \n",
       "1997-1998          3.5     3.1        4.7        5.9             7.2   \n",
       "1998-1999          3.8     2.7        4.6        4.5             6.3   \n",
       "1999-2000          2.9     4.4        2.5        3.7             6.7   \n",
       "\n",
       "                 59   60   61   62       Year  \n",
       "GeoName    Far West  NaN  NaN  NaN    GeoName  \n",
       "1997-1998       6.0  NaN  NaN  NaN  1997-1998  \n",
       "1998-1999       7.0  NaN  NaN  NaN  1998-1999  \n",
       "1999-2000       6.6  NaN  NaN  NaN  1999-2000  \n",
       "\n",
       "[4 rows x 64 columns]"
      ]
     },
     "execution_count": 104,
     "metadata": {},
     "output_type": "execute_result"
    }
   ],
   "source": [
    "gdp[0:4]"
   ]
  },
  {
   "cell_type": "code",
   "execution_count": 105,
   "metadata": {},
   "outputs": [],
   "source": [
    "gdp['Year'] = gdp['Year'].astype(str).str[0:4]"
   ]
  },
  {
   "cell_type": "code",
   "execution_count": 106,
   "metadata": {},
   "outputs": [],
   "source": [
    "final_df = pd.DataFrame(None, columns=['GDP_change', 'Year', 'State'])\n",
    "\n",
    "for i in range(0,50):\n",
    "    state_data = gdp.iloc[:,i]\n",
    "    state_data = pd.DataFrame(state_data)\n",
    "    state_data['Year'] = state_data.index\n",
    "    state_data['State'] = state_data.iloc[0,0]\n",
    "    state_data = state_data[1:len(state_data)]\n",
    "    state_data = state_data.reset_index()\n",
    "    state_data = state_data.drop(['index'], axis = 1)\n",
    "    state_data.columns = ['GDP_change', 'Year', 'State']\n",
    "    state_data['Year'] = state_data['Year'].astype(str).str[0:4]\n",
    "    \n",
    "    \n",
    "    final_df = pd.concat([final_df, state_data], ignore_index = True)"
   ]
  },
  {
   "cell_type": "code",
   "execution_count": 107,
   "metadata": {},
   "outputs": [],
   "source": [
    "final_df['key_to_join'] = final_df['Year'] + final_df['State']\n",
    "unemployment_mortgage_rates['key'] = unemployment_mortgage_rates['Year'].astype(str).str[0:4] + unemployment_mortgage_rates['State']"
   ]
  },
  {
   "cell_type": "code",
   "execution_count": 108,
   "metadata": {},
   "outputs": [],
   "source": [
    "unemployment_mortgage_gdp = pd.merge(unemployment_mortgage_rates,\n",
    "                                       final_df,\n",
    "                                       left_on='key',\n",
    "                                       right_on='key_to_join',\n",
    "                                       how='inner')"
   ]
  },
  {
   "cell_type": "code",
   "execution_count": 109,
   "metadata": {},
   "outputs": [],
   "source": [
    "unemployment_mortgage_gdp = unemployment_mortgage_gdp.drop(['Year_x', 'State_y', 'Year_final', 'Year_y', 'key', 'key_to_join', 'State_x'], axis = 1)\n",
    "unemployment_mortgage_gdp.columns = ['County', 'Unemployment_rate' , 'Zip',  'Year','Mortgage_rate_30Y', 'GDP_change']"
   ]
  },
  {
   "cell_type": "code",
   "execution_count": 110,
   "metadata": {},
   "outputs": [
    {
     "data": {
      "text/plain": [
       "County               0\n",
       "Unemployment_rate    0\n",
       "Zip                  0\n",
       "Year                 0\n",
       "Mortgage_rate_30Y    0\n",
       "GDP_change           0\n",
       "dtype: int64"
      ]
     },
     "execution_count": 110,
     "metadata": {},
     "output_type": "execute_result"
    }
   ],
   "source": [
    "unemployment_mortgage_gdp.isnull().sum()\n",
    "\n",
    "# Great. This data frame is exactly what we need"
   ]
  },
  {
   "cell_type": "code",
   "execution_count": 111,
   "metadata": {},
   "outputs": [],
   "source": [
    "# Why don't we add ratios to the above df too? I am just gonna have to assume that the ratio across 1997 to 2010 is just the avg of ratio from 2010 to 2017\n",
    "\n",
    "zillow_nonull_T = zillow_nonull.drop(['RegionID', 'City', 'State', 'Metro', 'CountyName', 'SizeRank'], axis = 1)\n",
    "zillow_nonull_T['house_ratio'] = None"
   ]
  },
  {
   "cell_type": "code",
   "execution_count": 112,
   "metadata": {},
   "outputs": [],
   "source": [
    "for i in range(0,len(zillow_nonull_T)):\n",
    "    zillow_nonull_T.iloc[i,len(zillow_nonull_T.columns)-1] = zillow_nonull_T.iloc[i,1:len(zillow_nonull_T)].median()"
   ]
  },
  {
   "cell_type": "code",
   "execution_count": 113,
   "metadata": {},
   "outputs": [],
   "source": [
    "zillow_nonull_T = zillow_nonull_T[['RegionName', 'house_ratio']]"
   ]
  },
  {
   "cell_type": "code",
   "execution_count": 114,
   "metadata": {},
   "outputs": [],
   "source": [
    "zillow_nonull_T['RegionName'] = zillow_nonull_T['RegionName'].astype(str).str[0:5]"
   ]
  },
  {
   "cell_type": "code",
   "execution_count": 115,
   "metadata": {},
   "outputs": [],
   "source": [
    "unemployment_mortgage_gdp['Zip'] = unemployment_mortgage_gdp['Zip'].astype(str).str[0:5]"
   ]
  },
  {
   "cell_type": "code",
   "execution_count": 116,
   "metadata": {},
   "outputs": [],
   "source": [
    "unemployment_mortgage_gdp_ratio = pd.merge(unemployment_mortgage_gdp,\n",
    "                                           zillow_nonull_T,\n",
    "                                           left_on='Zip',\n",
    "                                           right_on='RegionName',\n",
    "                                           how='inner')"
   ]
  },
  {
   "cell_type": "code",
   "execution_count": 117,
   "metadata": {},
   "outputs": [
    {
     "data": {
      "text/html": [
       "<div>\n",
       "<style scoped>\n",
       "    .dataframe tbody tr th:only-of-type {\n",
       "        vertical-align: middle;\n",
       "    }\n",
       "\n",
       "    .dataframe tbody tr th {\n",
       "        vertical-align: top;\n",
       "    }\n",
       "\n",
       "    .dataframe thead th {\n",
       "        text-align: right;\n",
       "    }\n",
       "</style>\n",
       "<table border=\"1\" class=\"dataframe\">\n",
       "  <thead>\n",
       "    <tr style=\"text-align: right;\">\n",
       "      <th></th>\n",
       "      <th>County</th>\n",
       "      <th>Unemployment_rate</th>\n",
       "      <th>Zip</th>\n",
       "      <th>Year</th>\n",
       "      <th>Mortgage_rate_30Y</th>\n",
       "      <th>GDP_change</th>\n",
       "      <th>RegionName</th>\n",
       "      <th>house_ratio</th>\n",
       "    </tr>\n",
       "  </thead>\n",
       "  <tbody>\n",
       "    <tr>\n",
       "      <th>0</th>\n",
       "      <td>Hampden County</td>\n",
       "      <td>8.0</td>\n",
       "      <td>1001</td>\n",
       "      <td>2015</td>\n",
       "      <td>3.860</td>\n",
       "      <td>1.5</td>\n",
       "      <td>1001</td>\n",
       "      <td>10.45</td>\n",
       "    </tr>\n",
       "    <tr>\n",
       "      <th>1</th>\n",
       "      <td>Hampden County</td>\n",
       "      <td>9.2</td>\n",
       "      <td>1001</td>\n",
       "      <td>2014</td>\n",
       "      <td>4.140</td>\n",
       "      <td>4.0</td>\n",
       "      <td>1001</td>\n",
       "      <td>10.45</td>\n",
       "    </tr>\n",
       "    <tr>\n",
       "      <th>2</th>\n",
       "      <td>Hampden County</td>\n",
       "      <td>6.8</td>\n",
       "      <td>1001</td>\n",
       "      <td>2016</td>\n",
       "      <td>3.590</td>\n",
       "      <td>2.4</td>\n",
       "      <td>1001</td>\n",
       "      <td>10.45</td>\n",
       "    </tr>\n",
       "    <tr>\n",
       "      <th>3</th>\n",
       "      <td>Hampden County</td>\n",
       "      <td>11.2</td>\n",
       "      <td>1001</td>\n",
       "      <td>2011</td>\n",
       "      <td>4.510</td>\n",
       "      <td>2.1</td>\n",
       "      <td>1001</td>\n",
       "      <td>10.45</td>\n",
       "    </tr>\n",
       "    <tr>\n",
       "      <th>4</th>\n",
       "      <td>Hampden County</td>\n",
       "      <td>12.2</td>\n",
       "      <td>1001</td>\n",
       "      <td>2010</td>\n",
       "      <td>4.735</td>\n",
       "      <td>2.4</td>\n",
       "      <td>1001</td>\n",
       "      <td>10.45</td>\n",
       "    </tr>\n",
       "    <tr>\n",
       "      <th>5</th>\n",
       "      <td>Hampden County</td>\n",
       "      <td>10.3</td>\n",
       "      <td>1001</td>\n",
       "      <td>2013</td>\n",
       "      <td>4.115</td>\n",
       "      <td>1.7</td>\n",
       "      <td>1001</td>\n",
       "      <td>10.45</td>\n",
       "    </tr>\n",
       "    <tr>\n",
       "      <th>6</th>\n",
       "      <td>Hampden County</td>\n",
       "      <td>9.9</td>\n",
       "      <td>1001</td>\n",
       "      <td>2012</td>\n",
       "      <td>3.660</td>\n",
       "      <td>0.4</td>\n",
       "      <td>1001</td>\n",
       "      <td>10.45</td>\n",
       "    </tr>\n",
       "    <tr>\n",
       "      <th>7</th>\n",
       "      <td>Hampden County</td>\n",
       "      <td>6.0</td>\n",
       "      <td>1001</td>\n",
       "      <td>1997</td>\n",
       "      <td>7.580</td>\n",
       "      <td>4.1</td>\n",
       "      <td>1001</td>\n",
       "      <td>10.45</td>\n",
       "    </tr>\n",
       "    <tr>\n",
       "      <th>8</th>\n",
       "      <td>Hampden County</td>\n",
       "      <td>5.2</td>\n",
       "      <td>1001</td>\n",
       "      <td>1999</td>\n",
       "      <td>7.640</td>\n",
       "      <td>8.1</td>\n",
       "      <td>1001</td>\n",
       "      <td>10.45</td>\n",
       "    </tr>\n",
       "    <tr>\n",
       "      <th>9</th>\n",
       "      <td>Hampden County</td>\n",
       "      <td>5.5</td>\n",
       "      <td>1001</td>\n",
       "      <td>1998</td>\n",
       "      <td>6.940</td>\n",
       "      <td>5.5</td>\n",
       "      <td>1001</td>\n",
       "      <td>10.45</td>\n",
       "    </tr>\n",
       "  </tbody>\n",
       "</table>\n",
       "</div>"
      ],
      "text/plain": [
       "           County  Unemployment_rate   Zip  Year  Mortgage_rate_30Y  \\\n",
       "0  Hampden County                8.0  1001  2015              3.860   \n",
       "1  Hampden County                9.2  1001  2014              4.140   \n",
       "2  Hampden County                6.8  1001  2016              3.590   \n",
       "3  Hampden County               11.2  1001  2011              4.510   \n",
       "4  Hampden County               12.2  1001  2010              4.735   \n",
       "5  Hampden County               10.3  1001  2013              4.115   \n",
       "6  Hampden County                9.9  1001  2012              3.660   \n",
       "7  Hampden County                6.0  1001  1997              7.580   \n",
       "8  Hampden County                5.2  1001  1999              7.640   \n",
       "9  Hampden County                5.5  1001  1998              6.940   \n",
       "\n",
       "  GDP_change RegionName house_ratio  \n",
       "0        1.5       1001       10.45  \n",
       "1        4.0       1001       10.45  \n",
       "2        2.4       1001       10.45  \n",
       "3        2.1       1001       10.45  \n",
       "4        2.4       1001       10.45  \n",
       "5        1.7       1001       10.45  \n",
       "6        0.4       1001       10.45  \n",
       "7        4.1       1001       10.45  \n",
       "8        8.1       1001       10.45  \n",
       "9        5.5       1001       10.45  "
      ]
     },
     "execution_count": 117,
     "metadata": {},
     "output_type": "execute_result"
    }
   ],
   "source": [
    "unemployment_mortgage_gdp_ratio[0:10]"
   ]
  },
  {
   "cell_type": "code",
   "execution_count": 118,
   "metadata": {},
   "outputs": [
    {
     "data": {
      "text/html": [
       "<div>\n",
       "<style scoped>\n",
       "    .dataframe tbody tr th:only-of-type {\n",
       "        vertical-align: middle;\n",
       "    }\n",
       "\n",
       "    .dataframe tbody tr th {\n",
       "        vertical-align: top;\n",
       "    }\n",
       "\n",
       "    .dataframe thead th {\n",
       "        text-align: right;\n",
       "    }\n",
       "</style>\n",
       "<table border=\"1\" class=\"dataframe\">\n",
       "  <thead>\n",
       "    <tr style=\"text-align: right;\">\n",
       "      <th></th>\n",
       "      <th>RegionID</th>\n",
       "      <th>RegionName</th>\n",
       "      <th>City</th>\n",
       "      <th>State</th>\n",
       "      <th>Metro</th>\n",
       "      <th>CountyName</th>\n",
       "      <th>SizeRank</th>\n",
       "      <th>1997-03</th>\n",
       "      <th>1997-04</th>\n",
       "      <th>1997-05</th>\n",
       "      <th>...</th>\n",
       "      <th>2017-03</th>\n",
       "      <th>2017-04</th>\n",
       "      <th>2017-05</th>\n",
       "      <th>2017-06</th>\n",
       "      <th>2017-07</th>\n",
       "      <th>2017-08</th>\n",
       "      <th>2017-09</th>\n",
       "      <th>2017-10</th>\n",
       "      <th>2017-11</th>\n",
       "      <th>house_value_growth</th>\n",
       "    </tr>\n",
       "  </thead>\n",
       "  <tbody>\n",
       "    <tr>\n",
       "      <th>1</th>\n",
       "      <td>84654</td>\n",
       "      <td>60657</td>\n",
       "      <td>Chicago</td>\n",
       "      <td>IL</td>\n",
       "      <td>Chicago</td>\n",
       "      <td>Cook</td>\n",
       "      <td>2</td>\n",
       "      <td>151100.0</td>\n",
       "      <td>153200.0</td>\n",
       "      <td>155100.0</td>\n",
       "      <td>...</td>\n",
       "      <td>321000</td>\n",
       "      <td>322900</td>\n",
       "      <td>324600</td>\n",
       "      <td>325100</td>\n",
       "      <td>324300</td>\n",
       "      <td>324100</td>\n",
       "      <td>324700</td>\n",
       "      <td>324400</td>\n",
       "      <td>323500</td>\n",
       "      <td>2.491894</td>\n",
       "    </tr>\n",
       "    <tr>\n",
       "      <th>2</th>\n",
       "      <td>84616</td>\n",
       "      <td>60614</td>\n",
       "      <td>Chicago</td>\n",
       "      <td>IL</td>\n",
       "      <td>Chicago</td>\n",
       "      <td>Cook</td>\n",
       "      <td>3</td>\n",
       "      <td>197600.0</td>\n",
       "      <td>199700.0</td>\n",
       "      <td>200500.0</td>\n",
       "      <td>...</td>\n",
       "      <td>410500</td>\n",
       "      <td>400200</td>\n",
       "      <td>402000</td>\n",
       "      <td>410500</td>\n",
       "      <td>411100</td>\n",
       "      <td>408500</td>\n",
       "      <td>406900</td>\n",
       "      <td>402500</td>\n",
       "      <td>397200</td>\n",
       "      <td>2.462830</td>\n",
       "    </tr>\n",
       "    <tr>\n",
       "      <th>3</th>\n",
       "      <td>93144</td>\n",
       "      <td>79936</td>\n",
       "      <td>El Paso</td>\n",
       "      <td>TX</td>\n",
       "      <td>El Paso</td>\n",
       "      <td>El Paso</td>\n",
       "      <td>4</td>\n",
       "      <td>73100.0</td>\n",
       "      <td>73100.0</td>\n",
       "      <td>73300.0</td>\n",
       "      <td>...</td>\n",
       "      <td>114800</td>\n",
       "      <td>114700</td>\n",
       "      <td>114800</td>\n",
       "      <td>114500</td>\n",
       "      <td>114200</td>\n",
       "      <td>114200</td>\n",
       "      <td>114800</td>\n",
       "      <td>114900</td>\n",
       "      <td>114400</td>\n",
       "      <td>0.214110</td>\n",
       "    </tr>\n",
       "    <tr>\n",
       "      <th>4</th>\n",
       "      <td>84640</td>\n",
       "      <td>60640</td>\n",
       "      <td>Chicago</td>\n",
       "      <td>IL</td>\n",
       "      <td>Chicago</td>\n",
       "      <td>Cook</td>\n",
       "      <td>5</td>\n",
       "      <td>106400.0</td>\n",
       "      <td>106800.0</td>\n",
       "      <td>106600.0</td>\n",
       "      <td>...</td>\n",
       "      <td>205200</td>\n",
       "      <td>204800</td>\n",
       "      <td>204100</td>\n",
       "      <td>204400</td>\n",
       "      <td>206200</td>\n",
       "      <td>208700</td>\n",
       "      <td>210100</td>\n",
       "      <td>209500</td>\n",
       "      <td>209300</td>\n",
       "      <td>1.384039</td>\n",
       "    </tr>\n",
       "    <tr>\n",
       "      <th>6</th>\n",
       "      <td>91733</td>\n",
       "      <td>77084</td>\n",
       "      <td>Houston</td>\n",
       "      <td>TX</td>\n",
       "      <td>Houston</td>\n",
       "      <td>Harris</td>\n",
       "      <td>7</td>\n",
       "      <td>76700.0</td>\n",
       "      <td>77200.0</td>\n",
       "      <td>77800.0</td>\n",
       "      <td>...</td>\n",
       "      <td>153600</td>\n",
       "      <td>154300</td>\n",
       "      <td>156800</td>\n",
       "      <td>158500</td>\n",
       "      <td>159400</td>\n",
       "      <td>161000</td>\n",
       "      <td>162500</td>\n",
       "      <td>162900</td>\n",
       "      <td>162800</td>\n",
       "      <td>5.501981</td>\n",
       "    </tr>\n",
       "  </tbody>\n",
       "</table>\n",
       "<p>5 rows × 257 columns</p>\n",
       "</div>"
      ],
      "text/plain": [
       "   RegionID  RegionName     City State    Metro CountyName  SizeRank  \\\n",
       "1     84654       60657  Chicago    IL  Chicago       Cook         2   \n",
       "2     84616       60614  Chicago    IL  Chicago       Cook         3   \n",
       "3     93144       79936  El Paso    TX  El Paso    El Paso         4   \n",
       "4     84640       60640  Chicago    IL  Chicago       Cook         5   \n",
       "6     91733       77084  Houston    TX  Houston     Harris         7   \n",
       "\n",
       "    1997-03   1997-04   1997-05  ...  2017-03  2017-04  2017-05  2017-06  \\\n",
       "1  151100.0  153200.0  155100.0  ...   321000   322900   324600   325100   \n",
       "2  197600.0  199700.0  200500.0  ...   410500   400200   402000   410500   \n",
       "3   73100.0   73100.0   73300.0  ...   114800   114700   114800   114500   \n",
       "4  106400.0  106800.0  106600.0  ...   205200   204800   204100   204400   \n",
       "6   76700.0   77200.0   77800.0  ...   153600   154300   156800   158500   \n",
       "\n",
       "   2017-07  2017-08  2017-09  2017-10  2017-11  house_value_growth  \n",
       "1   324300   324100   324700   324400   323500            2.491894  \n",
       "2   411100   408500   406900   402500   397200            2.462830  \n",
       "3   114200   114200   114800   114900   114400            0.214110  \n",
       "4   206200   208700   210100   209500   209300            1.384039  \n",
       "6   159400   161000   162500   162900   162800            5.501981  \n",
       "\n",
       "[5 rows x 257 columns]"
      ]
     },
     "execution_count": 118,
     "metadata": {},
     "output_type": "execute_result"
    }
   ],
   "source": [
    "# Lets work with the response variable\n",
    "\n",
    "house_values_nonull[0:5]"
   ]
  },
  {
   "cell_type": "code",
   "execution_count": 119,
   "metadata": {},
   "outputs": [],
   "source": [
    "part2_df = house_values_nonull.drop(['RegionID', 'City', 'State', 'Metro', 'CountyName', 'SizeRank', 'RegionName'], axis = 1)"
   ]
  },
  {
   "cell_type": "code",
   "execution_count": 120,
   "metadata": {},
   "outputs": [],
   "source": [
    "part2_df = part2_df.iloc[:,10::12]"
   ]
  },
  {
   "cell_type": "code",
   "execution_count": 121,
   "metadata": {},
   "outputs": [
    {
     "data": {
      "text/html": [
       "<div>\n",
       "<style scoped>\n",
       "    .dataframe tbody tr th:only-of-type {\n",
       "        vertical-align: middle;\n",
       "    }\n",
       "\n",
       "    .dataframe tbody tr th {\n",
       "        vertical-align: top;\n",
       "    }\n",
       "\n",
       "    .dataframe thead th {\n",
       "        text-align: right;\n",
       "    }\n",
       "</style>\n",
       "<table border=\"1\" class=\"dataframe\">\n",
       "  <thead>\n",
       "    <tr style=\"text-align: right;\">\n",
       "      <th></th>\n",
       "      <th>1998-01</th>\n",
       "      <th>1999-01</th>\n",
       "      <th>2000-01</th>\n",
       "      <th>2001-01</th>\n",
       "      <th>2002-01</th>\n",
       "      <th>2003-01</th>\n",
       "      <th>2004-01</th>\n",
       "      <th>2005-01</th>\n",
       "      <th>2006-01</th>\n",
       "      <th>2007-01</th>\n",
       "      <th>2008-01</th>\n",
       "      <th>2009-01</th>\n",
       "      <th>2010-01</th>\n",
       "      <th>2011-01</th>\n",
       "      <th>2012-01</th>\n",
       "      <th>2013-01</th>\n",
       "      <th>2014-01</th>\n",
       "      <th>2015-01</th>\n",
       "      <th>2016-01</th>\n",
       "      <th>2017-01</th>\n",
       "    </tr>\n",
       "  </thead>\n",
       "  <tbody>\n",
       "    <tr>\n",
       "      <th>1</th>\n",
       "      <td>165600.0</td>\n",
       "      <td>183200.0</td>\n",
       "      <td>206100.0</td>\n",
       "      <td>239700.0</td>\n",
       "      <td>267100.0</td>\n",
       "      <td>285200.0</td>\n",
       "      <td>292500.0</td>\n",
       "      <td>307200.0</td>\n",
       "      <td>322300.0</td>\n",
       "      <td>318000.0</td>\n",
       "      <td>322500.0</td>\n",
       "      <td>312200.0</td>\n",
       "      <td>296200.0</td>\n",
       "      <td>273700.0</td>\n",
       "      <td>260500.0</td>\n",
       "      <td>268800.0</td>\n",
       "      <td>293000.0</td>\n",
       "      <td>307500</td>\n",
       "      <td>311000</td>\n",
       "      <td>318900</td>\n",
       "    </tr>\n",
       "    <tr>\n",
       "      <th>2</th>\n",
       "      <td>203800.0</td>\n",
       "      <td>228100.0</td>\n",
       "      <td>259900.0</td>\n",
       "      <td>294700.0</td>\n",
       "      <td>323200.0</td>\n",
       "      <td>332200.0</td>\n",
       "      <td>346700.0</td>\n",
       "      <td>373200.0</td>\n",
       "      <td>384600.0</td>\n",
       "      <td>386600.0</td>\n",
       "      <td>396500.0</td>\n",
       "      <td>378200.0</td>\n",
       "      <td>351200.0</td>\n",
       "      <td>337400.0</td>\n",
       "      <td>323200.0</td>\n",
       "      <td>314600.0</td>\n",
       "      <td>357900.0</td>\n",
       "      <td>367200</td>\n",
       "      <td>392400</td>\n",
       "      <td>415200</td>\n",
       "    </tr>\n",
       "    <tr>\n",
       "      <th>3</th>\n",
       "      <td>76200.0</td>\n",
       "      <td>75700.0</td>\n",
       "      <td>78400.0</td>\n",
       "      <td>80600.0</td>\n",
       "      <td>78700.0</td>\n",
       "      <td>79600.0</td>\n",
       "      <td>82600.0</td>\n",
       "      <td>93700.0</td>\n",
       "      <td>101700.0</td>\n",
       "      <td>127000.0</td>\n",
       "      <td>130200.0</td>\n",
       "      <td>119200.0</td>\n",
       "      <td>115400.0</td>\n",
       "      <td>113100.0</td>\n",
       "      <td>110900.0</td>\n",
       "      <td>113700.0</td>\n",
       "      <td>110800.0</td>\n",
       "      <td>111800</td>\n",
       "      <td>111300</td>\n",
       "      <td>115000</td>\n",
       "    </tr>\n",
       "    <tr>\n",
       "      <th>4</th>\n",
       "      <td>107900.0</td>\n",
       "      <td>122000.0</td>\n",
       "      <td>136600.0</td>\n",
       "      <td>160400.0</td>\n",
       "      <td>179600.0</td>\n",
       "      <td>197200.0</td>\n",
       "      <td>213500.0</td>\n",
       "      <td>224400.0</td>\n",
       "      <td>230800.0</td>\n",
       "      <td>237200.0</td>\n",
       "      <td>234000.0</td>\n",
       "      <td>224100.0</td>\n",
       "      <td>207400.0</td>\n",
       "      <td>186800.0</td>\n",
       "      <td>164500.0</td>\n",
       "      <td>166000.0</td>\n",
       "      <td>180300.0</td>\n",
       "      <td>191400</td>\n",
       "      <td>195500</td>\n",
       "      <td>201900</td>\n",
       "    </tr>\n",
       "    <tr>\n",
       "      <th>6</th>\n",
       "      <td>80600.0</td>\n",
       "      <td>86000.0</td>\n",
       "      <td>93900.0</td>\n",
       "      <td>95700.0</td>\n",
       "      <td>98300.0</td>\n",
       "      <td>104700.0</td>\n",
       "      <td>109700.0</td>\n",
       "      <td>121700.0</td>\n",
       "      <td>123200.0</td>\n",
       "      <td>127600.0</td>\n",
       "      <td>126700.0</td>\n",
       "      <td>115000.0</td>\n",
       "      <td>115200.0</td>\n",
       "      <td>111800.0</td>\n",
       "      <td>107900.0</td>\n",
       "      <td>110300.0</td>\n",
       "      <td>121600.0</td>\n",
       "      <td>135600</td>\n",
       "      <td>148800</td>\n",
       "      <td>156900</td>\n",
       "    </tr>\n",
       "  </tbody>\n",
       "</table>\n",
       "</div>"
      ],
      "text/plain": [
       "    1998-01   1999-01   2000-01   2001-01   2002-01   2003-01   2004-01  \\\n",
       "1  165600.0  183200.0  206100.0  239700.0  267100.0  285200.0  292500.0   \n",
       "2  203800.0  228100.0  259900.0  294700.0  323200.0  332200.0  346700.0   \n",
       "3   76200.0   75700.0   78400.0   80600.0   78700.0   79600.0   82600.0   \n",
       "4  107900.0  122000.0  136600.0  160400.0  179600.0  197200.0  213500.0   \n",
       "6   80600.0   86000.0   93900.0   95700.0   98300.0  104700.0  109700.0   \n",
       "\n",
       "    2005-01   2006-01   2007-01   2008-01   2009-01   2010-01   2011-01  \\\n",
       "1  307200.0  322300.0  318000.0  322500.0  312200.0  296200.0  273700.0   \n",
       "2  373200.0  384600.0  386600.0  396500.0  378200.0  351200.0  337400.0   \n",
       "3   93700.0  101700.0  127000.0  130200.0  119200.0  115400.0  113100.0   \n",
       "4  224400.0  230800.0  237200.0  234000.0  224100.0  207400.0  186800.0   \n",
       "6  121700.0  123200.0  127600.0  126700.0  115000.0  115200.0  111800.0   \n",
       "\n",
       "    2012-01   2013-01   2014-01  2015-01  2016-01  2017-01  \n",
       "1  260500.0  268800.0  293000.0   307500   311000   318900  \n",
       "2  323200.0  314600.0  357900.0   367200   392400   415200  \n",
       "3  110900.0  113700.0  110800.0   111800   111300   115000  \n",
       "4  164500.0  166000.0  180300.0   191400   195500   201900  \n",
       "6  107900.0  110300.0  121600.0   135600   148800   156900  "
      ]
     },
     "execution_count": 121,
     "metadata": {},
     "output_type": "execute_result"
    }
   ],
   "source": [
    "part2_df[0:5]"
   ]
  },
  {
   "cell_type": "code",
   "execution_count": 122,
   "metadata": {},
   "outputs": [],
   "source": [
    "zips = house_values_nonull[['RegionName', '1997-03']]"
   ]
  },
  {
   "cell_type": "code",
   "execution_count": 123,
   "metadata": {},
   "outputs": [],
   "source": [
    "house_values_nonull_yearly = pd.concat([zips, part2_df], axis = 1)"
   ]
  },
  {
   "cell_type": "code",
   "execution_count": 124,
   "metadata": {},
   "outputs": [],
   "source": [
    "house_values_nonull_yearly2 = house_values_nonull_yearly.transpose()"
   ]
  },
  {
   "cell_type": "code",
   "execution_count": 125,
   "metadata": {},
   "outputs": [
    {
     "data": {
      "text/html": [
       "<div>\n",
       "<style scoped>\n",
       "    .dataframe tbody tr th:only-of-type {\n",
       "        vertical-align: middle;\n",
       "    }\n",
       "\n",
       "    .dataframe tbody tr th {\n",
       "        vertical-align: top;\n",
       "    }\n",
       "\n",
       "    .dataframe thead th {\n",
       "        text-align: right;\n",
       "    }\n",
       "</style>\n",
       "<table border=\"1\" class=\"dataframe\">\n",
       "  <thead>\n",
       "    <tr style=\"text-align: right;\">\n",
       "      <th></th>\n",
       "      <th>1</th>\n",
       "      <th>2</th>\n",
       "      <th>3</th>\n",
       "      <th>4</th>\n",
       "      <th>6</th>\n",
       "      <th>7</th>\n",
       "      <th>8</th>\n",
       "      <th>9</th>\n",
       "      <th>10</th>\n",
       "      <th>12</th>\n",
       "      <th>...</th>\n",
       "      <th>15479</th>\n",
       "      <th>15482</th>\n",
       "      <th>15483</th>\n",
       "      <th>15485</th>\n",
       "      <th>15488</th>\n",
       "      <th>15489</th>\n",
       "      <th>15490</th>\n",
       "      <th>15494</th>\n",
       "      <th>15497</th>\n",
       "      <th>15498</th>\n",
       "    </tr>\n",
       "  </thead>\n",
       "  <tbody>\n",
       "    <tr>\n",
       "      <th>RegionName</th>\n",
       "      <td>60657.0</td>\n",
       "      <td>60614.0</td>\n",
       "      <td>79936.0</td>\n",
       "      <td>60640.0</td>\n",
       "      <td>77084.0</td>\n",
       "      <td>94109.0</td>\n",
       "      <td>75070.0</td>\n",
       "      <td>11226.0</td>\n",
       "      <td>77449.0</td>\n",
       "      <td>32162.0</td>\n",
       "      <td>...</td>\n",
       "      <td>21865.0</td>\n",
       "      <td>92341.0</td>\n",
       "      <td>29074.0</td>\n",
       "      <td>63041.0</td>\n",
       "      <td>84781.0</td>\n",
       "      <td>29915.0</td>\n",
       "      <td>12429.0</td>\n",
       "      <td>1338.0</td>\n",
       "      <td>3293.0</td>\n",
       "      <td>21405.0</td>\n",
       "    </tr>\n",
       "    <tr>\n",
       "      <th>1997-03</th>\n",
       "      <td>151100.0</td>\n",
       "      <td>197600.0</td>\n",
       "      <td>73100.0</td>\n",
       "      <td>106400.0</td>\n",
       "      <td>76700.0</td>\n",
       "      <td>314900.0</td>\n",
       "      <td>152200.0</td>\n",
       "      <td>170500.0</td>\n",
       "      <td>74100.0</td>\n",
       "      <td>90200.0</td>\n",
       "      <td>...</td>\n",
       "      <td>55300.0</td>\n",
       "      <td>79600.0</td>\n",
       "      <td>113700.0</td>\n",
       "      <td>59900.0</td>\n",
       "      <td>140400.0</td>\n",
       "      <td>318100.0</td>\n",
       "      <td>78600.0</td>\n",
       "      <td>96900.0</td>\n",
       "      <td>68800.0</td>\n",
       "      <td>285700.0</td>\n",
       "    </tr>\n",
       "    <tr>\n",
       "      <th>1998-01</th>\n",
       "      <td>165600.0</td>\n",
       "      <td>203800.0</td>\n",
       "      <td>76200.0</td>\n",
       "      <td>107900.0</td>\n",
       "      <td>80600.0</td>\n",
       "      <td>358700.0</td>\n",
       "      <td>157700.0</td>\n",
       "      <td>178900.0</td>\n",
       "      <td>77700.0</td>\n",
       "      <td>103500.0</td>\n",
       "      <td>...</td>\n",
       "      <td>62200.0</td>\n",
       "      <td>75900.0</td>\n",
       "      <td>132700.0</td>\n",
       "      <td>63000.0</td>\n",
       "      <td>143600.0</td>\n",
       "      <td>329600.0</td>\n",
       "      <td>76200.0</td>\n",
       "      <td>100300.0</td>\n",
       "      <td>72300.0</td>\n",
       "      <td>301700.0</td>\n",
       "    </tr>\n",
       "    <tr>\n",
       "      <th>1999-01</th>\n",
       "      <td>183200.0</td>\n",
       "      <td>228100.0</td>\n",
       "      <td>75700.0</td>\n",
       "      <td>122000.0</td>\n",
       "      <td>86000.0</td>\n",
       "      <td>415200.0</td>\n",
       "      <td>156600.0</td>\n",
       "      <td>201300.0</td>\n",
       "      <td>84900.0</td>\n",
       "      <td>111100.0</td>\n",
       "      <td>...</td>\n",
       "      <td>59500.0</td>\n",
       "      <td>81200.0</td>\n",
       "      <td>150300.0</td>\n",
       "      <td>74000.0</td>\n",
       "      <td>151300.0</td>\n",
       "      <td>395100.0</td>\n",
       "      <td>81200.0</td>\n",
       "      <td>109800.0</td>\n",
       "      <td>83900.0</td>\n",
       "      <td>322800.0</td>\n",
       "    </tr>\n",
       "    <tr>\n",
       "      <th>2000-01</th>\n",
       "      <td>206100.0</td>\n",
       "      <td>259900.0</td>\n",
       "      <td>78400.0</td>\n",
       "      <td>136600.0</td>\n",
       "      <td>93900.0</td>\n",
       "      <td>487900.0</td>\n",
       "      <td>170800.0</td>\n",
       "      <td>219100.0</td>\n",
       "      <td>94500.0</td>\n",
       "      <td>119700.0</td>\n",
       "      <td>...</td>\n",
       "      <td>52200.0</td>\n",
       "      <td>82800.0</td>\n",
       "      <td>155600.0</td>\n",
       "      <td>69200.0</td>\n",
       "      <td>158900.0</td>\n",
       "      <td>466600.0</td>\n",
       "      <td>83200.0</td>\n",
       "      <td>114600.0</td>\n",
       "      <td>82900.0</td>\n",
       "      <td>344400.0</td>\n",
       "    </tr>\n",
       "  </tbody>\n",
       "</table>\n",
       "<p>5 rows × 11646 columns</p>\n",
       "</div>"
      ],
      "text/plain": [
       "               1         2        3         4        6         7      \\\n",
       "RegionName   60657.0   60614.0  79936.0   60640.0  77084.0   94109.0   \n",
       "1997-03     151100.0  197600.0  73100.0  106400.0  76700.0  314900.0   \n",
       "1998-01     165600.0  203800.0  76200.0  107900.0  80600.0  358700.0   \n",
       "1999-01     183200.0  228100.0  75700.0  122000.0  86000.0  415200.0   \n",
       "2000-01     206100.0  259900.0  78400.0  136600.0  93900.0  487900.0   \n",
       "\n",
       "               8         9        10        12     ...    15479    15482  \\\n",
       "RegionName   75070.0   11226.0  77449.0   32162.0  ...  21865.0  92341.0   \n",
       "1997-03     152200.0  170500.0  74100.0   90200.0  ...  55300.0  79600.0   \n",
       "1998-01     157700.0  178900.0  77700.0  103500.0  ...  62200.0  75900.0   \n",
       "1999-01     156600.0  201300.0  84900.0  111100.0  ...  59500.0  81200.0   \n",
       "2000-01     170800.0  219100.0  94500.0  119700.0  ...  52200.0  82800.0   \n",
       "\n",
       "               15483    15485     15488     15489    15490     15494    15497  \\\n",
       "RegionName   29074.0  63041.0   84781.0   29915.0  12429.0    1338.0   3293.0   \n",
       "1997-03     113700.0  59900.0  140400.0  318100.0  78600.0   96900.0  68800.0   \n",
       "1998-01     132700.0  63000.0  143600.0  329600.0  76200.0  100300.0  72300.0   \n",
       "1999-01     150300.0  74000.0  151300.0  395100.0  81200.0  109800.0  83900.0   \n",
       "2000-01     155600.0  69200.0  158900.0  466600.0  83200.0  114600.0  82900.0   \n",
       "\n",
       "               15498  \n",
       "RegionName   21405.0  \n",
       "1997-03     285700.0  \n",
       "1998-01     301700.0  \n",
       "1999-01     322800.0  \n",
       "2000-01     344400.0  \n",
       "\n",
       "[5 rows x 11646 columns]"
      ]
     },
     "execution_count": 125,
     "metadata": {},
     "output_type": "execute_result"
    }
   ],
   "source": [
    "house_values_nonull_yearly2[0:5]"
   ]
  },
  {
   "cell_type": "code",
   "execution_count": 126,
   "metadata": {},
   "outputs": [],
   "source": [
    "house_values_nonull_yearly2.columns = house_values_nonull_yearly2.iloc[0,:]"
   ]
  },
  {
   "cell_type": "code",
   "execution_count": 127,
   "metadata": {},
   "outputs": [],
   "source": [
    "house_values_nonull_yearly2['median_house_value'] = None\n",
    "\n",
    "for i in range(0,len(house_values_nonull_yearly2)):\n",
    "    house_values_nonull_yearly2.iloc[i,len(house_values_nonull_yearly2.columns)-1] = house_values_nonull_yearly2.iloc[i,:].median()"
   ]
  },
  {
   "cell_type": "code",
   "execution_count": 128,
   "metadata": {},
   "outputs": [],
   "source": [
    "house_values_nonull_yearly2 = house_values_nonull_yearly2.iloc[1:len(house_values_nonull_yearly2), :]"
   ]
  },
  {
   "cell_type": "code",
   "execution_count": 129,
   "metadata": {},
   "outputs": [],
   "source": [
    "df = pd.DataFrame(None, columns = ['Year', 'Zip', 'change'])\n",
    "df2 = house_values_nonull_yearly2\n",
    "\n",
    "for i in range(0,len(df2)-1):\n",
    "    for j in range(0,len(df2.columns) - 1):\n",
    "        \n",
    "        a = df2.index[i]\n",
    "        b = df2.columns[j]\n",
    "        c = (df2.iloc[i+1,j] - df2.iloc[i,j])*100/df2.iloc[i,j]\n",
    "        \n",
    "        d = {'Year': [a], 'Zip': [b], 'change': [c]}\n",
    "        d = pd.DataFrame(d)\n",
    "        df = pd.concat([df,d])"
   ]
  },
  {
   "cell_type": "code",
   "execution_count": 130,
   "metadata": {},
   "outputs": [
    {
     "data": {
      "text/html": [
       "<div>\n",
       "<style scoped>\n",
       "    .dataframe tbody tr th:only-of-type {\n",
       "        vertical-align: middle;\n",
       "    }\n",
       "\n",
       "    .dataframe tbody tr th {\n",
       "        vertical-align: top;\n",
       "    }\n",
       "\n",
       "    .dataframe thead th {\n",
       "        text-align: right;\n",
       "    }\n",
       "</style>\n",
       "<table border=\"1\" class=\"dataframe\">\n",
       "  <thead>\n",
       "    <tr style=\"text-align: right;\">\n",
       "      <th></th>\n",
       "      <th>Year</th>\n",
       "      <th>Zip</th>\n",
       "      <th>change</th>\n",
       "    </tr>\n",
       "  </thead>\n",
       "  <tbody>\n",
       "    <tr>\n",
       "      <th>0</th>\n",
       "      <td>1997-03</td>\n",
       "      <td>60657.0</td>\n",
       "      <td>9.596294</td>\n",
       "    </tr>\n",
       "    <tr>\n",
       "      <th>0</th>\n",
       "      <td>1997-03</td>\n",
       "      <td>60614.0</td>\n",
       "      <td>3.137652</td>\n",
       "    </tr>\n",
       "    <tr>\n",
       "      <th>0</th>\n",
       "      <td>1997-03</td>\n",
       "      <td>79936.0</td>\n",
       "      <td>4.240766</td>\n",
       "    </tr>\n",
       "    <tr>\n",
       "      <th>0</th>\n",
       "      <td>1997-03</td>\n",
       "      <td>60640.0</td>\n",
       "      <td>1.409774</td>\n",
       "    </tr>\n",
       "    <tr>\n",
       "      <th>0</th>\n",
       "      <td>1997-03</td>\n",
       "      <td>77084.0</td>\n",
       "      <td>5.084746</td>\n",
       "    </tr>\n",
       "  </tbody>\n",
       "</table>\n",
       "</div>"
      ],
      "text/plain": [
       "      Year      Zip    change\n",
       "0  1997-03  60657.0  9.596294\n",
       "0  1997-03  60614.0  3.137652\n",
       "0  1997-03  79936.0  4.240766\n",
       "0  1997-03  60640.0  1.409774\n",
       "0  1997-03  77084.0  5.084746"
      ]
     },
     "execution_count": 130,
     "metadata": {},
     "output_type": "execute_result"
    }
   ],
   "source": [
    "df[0:5]"
   ]
  },
  {
   "cell_type": "code",
   "execution_count": 131,
   "metadata": {},
   "outputs": [],
   "source": [
    "df.columns = ['Year', 'Zip', 'house_price_ change']\n",
    "df['Year'] = df['Year'].astype(str).str[0:4]\n",
    "df['key_tojoin'] = df['Year'].astype(str) + df['Zip'].astype(str)"
   ]
  },
  {
   "cell_type": "code",
   "execution_count": 132,
   "metadata": {},
   "outputs": [],
   "source": [
    "unemployment_mortgage_gdp_ratio['key'] = unemployment_mortgage_gdp_ratio['Year'].astype(str) + unemployment_mortgage_gdp_ratio['Zip'].astype(str)"
   ]
  },
  {
   "cell_type": "code",
   "execution_count": 133,
   "metadata": {},
   "outputs": [],
   "source": [
    "df['key_tojoin'] = df['key_tojoin'].astype(str).str[0:9]"
   ]
  },
  {
   "cell_type": "code",
   "execution_count": 134,
   "metadata": {},
   "outputs": [],
   "source": [
    "unemployment_mortgage_gdp_ratio_valuechange = pd.merge(unemployment_mortgage_gdp_ratio,\n",
    "                                                 df,\n",
    "                                                 left_on='key',\n",
    "                                                 right_on='key_tojoin',\n",
    "                                                 how='inner')\n",
    "\n",
    "unemployment_mortgage_gdp_ratio_valuechange = unemployment_mortgage_gdp_ratio_valuechange.drop(['RegionName', 'key', 'Year_y', 'Zip_y', 'key_tojoin'], axis=1)\n",
    "unemployment_mortgage_gdp_ratio_valuechange.columns = ['County', 'County_unemployment_rate', 'Zip','Year' ,'Mortgage_rate_30Y', 'State_GDP_change', 'value_ratio', 'house_price_change']"
   ]
  },
  {
   "cell_type": "code",
   "execution_count": 135,
   "metadata": {},
   "outputs": [
    {
     "name": "stdout",
     "output_type": "stream",
     "text": [
      "(148832, 8)\n",
      "(148832, 9)\n"
     ]
    }
   ],
   "source": [
    "# Adding state back into the data\n",
    "\n",
    "zip_state = zillow_nonull[['RegionName', 'State']].drop_duplicates()\n",
    "zip_state['RegionName'] = zillow_nonull['RegionName'].astype(str)\n",
    "zip_state.columns = ['Zip', 'State']\n",
    "\n",
    "print(unemployment_mortgage_gdp_ratio_valuechange.shape)\n",
    "unemployment_mortgage_gdp_ratio_valuechange = pd.merge(unemployment_mortgage_gdp_ratio_valuechange,\n",
    "                                                       zip_state,\n",
    "                                                       left_on = 'Zip',\n",
    "                                                       right_on = 'Zip',\n",
    "                                                       how = 'inner')\n",
    "print(unemployment_mortgage_gdp_ratio_valuechange.shape)"
   ]
  },
  {
   "cell_type": "code",
   "execution_count": 136,
   "metadata": {},
   "outputs": [
    {
     "name": "stdout",
     "output_type": "stream",
     "text": [
      "(148832, 9)\n",
      "(148832, 10)\n"
     ]
    }
   ],
   "source": [
    "# Adding county median % change to data\n",
    "\n",
    "county_year_mean_df = pd.DataFrame(unemployment_mortgage_gdp_ratio_valuechange.groupby(['County', 'State', 'Year'])['house_price_change'].mean()).reset_index()\n",
    "county_year_mean_df.columns = ['County', 'State', 'Year', 'County_mean_house_price_change']\n",
    "county_year_mean_df['Year'] = pd.to_numeric(county_year_mean_df['Year'])\n",
    "county_year_mean_df['Year'] =  county_year_mean_df['Year'] + 1\n",
    "county_year_mean_df['Year'] = county_year_mean_df['Year'].astype(str)\n",
    "\n",
    "print(unemployment_mortgage_gdp_ratio_valuechange.shape)\n",
    "unemployment_mortgage_gdp_ratio_valuechange = pd.merge(unemployment_mortgage_gdp_ratio_valuechange,\n",
    "                                                       county_year_mean_df,\n",
    "                                                       left_on = ['County', 'State', 'Year'],\n",
    "                                                       right_on = ['County', 'State', 'Year'],\n",
    "                                                       how = 'left')\n",
    "print(unemployment_mortgage_gdp_ratio_valuechange.shape)"
   ]
  },
  {
   "cell_type": "code",
   "execution_count": 137,
   "metadata": {},
   "outputs": [],
   "source": [
    "unemployment_mortgage_gdp_ratio_valuechange['Year'] = unemployment_mortgage_gdp_ratio_valuechange['Year'].astype(int)"
   ]
  },
  {
   "cell_type": "code",
   "execution_count": 138,
   "metadata": {},
   "outputs": [
    {
     "data": {
      "image/png": "[encoded data removed]",
      "text/plain": [
       "<Figure size 432x288 with 1 Axes>"
      ]
     },
     "metadata": {
      "needs_background": "light"
     },
     "output_type": "display_data"
    }
   ],
   "source": [
    "scatt = unemployment_mortgage_gdp_ratio_valuechange.plot(x = ['value_ratio'], y = ['house_price_change'], kind = 'scatter')\n",
    "labels = 'Percentage change in Value/Rent ratio 2010-2017'\n",
    "plt.xlabel(labels)\n",
    "ylabelsset = 'Rental_income_growth 2010-2017'\n",
    "plt.ylabel(ylabelsset)\n",
    "#scatt.set_xlim(-5, 15)\n",
    "#scatt.set_ylim(-4, 8)\n",
    "plt.show()"
   ]
  },
  {
   "cell_type": "markdown",
   "metadata": {},
   "source": [
    "### Modeling"
   ]
  },
  {
   "cell_type": "code",
   "execution_count": 139,
   "metadata": {},
   "outputs": [
    {
     "data": {
      "text/plain": [
       "County_unemployment_rate              0\n",
       "Mortgage_rate_30Y                     0\n",
       "State_GDP_change                      0\n",
       "value_ratio                           0\n",
       "County_mean_house_price_change    10654\n",
       "dtype: int64"
      ]
     },
     "execution_count": 139,
     "metadata": {},
     "output_type": "execute_result"
    }
   ],
   "source": [
    "# Checking nulls before starting modeling\n",
    "\n",
    "unemployment_mortgage_gdp_ratio_valuechange[['County_unemployment_rate','Mortgage_rate_30Y', 'State_GDP_change', 'value_ratio', \n",
    "                                             'County_mean_house_price_change']].isnull().sum()"
   ]
  },
  {
   "cell_type": "code",
   "execution_count": 140,
   "metadata": {},
   "outputs": [],
   "source": [
    "# Imputing an important column \n",
    "unemployment_mortgage_gdp_ratio_valuechange['County_mean_house_price_change_imputed'] = unemployment_mortgage_gdp_ratio_valuechange['County_mean_house_price_change'].fillna(unemployment_mortgage_gdp_ratio_valuechange['County_mean_house_price_change'].median())"
   ]
  },
  {
   "cell_type": "code",
   "execution_count": 141,
   "metadata": {},
   "outputs": [],
   "source": [
    "unemployment_mortgage_gdp_ratio_valuechange['State_GDP_change'] = pd.to_numeric(unemployment_mortgage_gdp_ratio_valuechange['State_GDP_change'])\n",
    "unemployment_mortgage_gdp_ratio_valuechange['value_ratio'] = pd.to_numeric(unemployment_mortgage_gdp_ratio_valuechange['value_ratio'])"
   ]
  },
  {
   "cell_type": "markdown",
   "metadata": {},
   "source": [
    "### Linear regression"
   ]
  },
  {
   "cell_type": "code",
   "execution_count": 142,
   "metadata": {},
   "outputs": [],
   "source": [
    "selected_col = ['County_unemployment_rate', 'State_GDP_change','Mortgage_rate_30Y', 'value_ratio', 'County_mean_house_price_change_imputed']\n",
    "X = unemployment_mortgage_gdp_ratio_valuechange[selected_col]\n",
    "y = unemployment_mortgage_gdp_ratio_valuechange.house_price_change"
   ]
  },
  {
   "cell_type": "code",
   "execution_count": 143,
   "metadata": {},
   "outputs": [
    {
     "data": {
      "text/html": [
       "<div>\n",
       "<style scoped>\n",
       "    .dataframe tbody tr th:only-of-type {\n",
       "        vertical-align: middle;\n",
       "    }\n",
       "\n",
       "    .dataframe tbody tr th {\n",
       "        vertical-align: top;\n",
       "    }\n",
       "\n",
       "    .dataframe thead th {\n",
       "        text-align: right;\n",
       "    }\n",
       "</style>\n",
       "<table border=\"1\" class=\"dataframe\">\n",
       "  <thead>\n",
       "    <tr style=\"text-align: right;\">\n",
       "      <th></th>\n",
       "      <th>County_unemployment_rate</th>\n",
       "      <th>State_GDP_change</th>\n",
       "      <th>Mortgage_rate_30Y</th>\n",
       "      <th>value_ratio</th>\n",
       "      <th>County_mean_house_price_change_imputed</th>\n",
       "    </tr>\n",
       "  </thead>\n",
       "  <tbody>\n",
       "    <tr>\n",
       "      <th>County_unemployment_rate</th>\n",
       "      <td>1.000000</td>\n",
       "      <td>0.011959</td>\n",
       "      <td>-0.403907</td>\n",
       "      <td>-0.107847</td>\n",
       "      <td>-0.374956</td>\n",
       "    </tr>\n",
       "    <tr>\n",
       "      <th>State_GDP_change</th>\n",
       "      <td>0.011959</td>\n",
       "      <td>1.000000</td>\n",
       "      <td>0.068079</td>\n",
       "      <td>0.170930</td>\n",
       "      <td>0.230954</td>\n",
       "    </tr>\n",
       "    <tr>\n",
       "      <th>Mortgage_rate_30Y</th>\n",
       "      <td>-0.403907</td>\n",
       "      <td>0.068079</td>\n",
       "      <td>1.000000</td>\n",
       "      <td>0.026836</td>\n",
       "      <td>0.255095</td>\n",
       "    </tr>\n",
       "    <tr>\n",
       "      <th>value_ratio</th>\n",
       "      <td>-0.107847</td>\n",
       "      <td>0.170930</td>\n",
       "      <td>0.026836</td>\n",
       "      <td>1.000000</td>\n",
       "      <td>0.144264</td>\n",
       "    </tr>\n",
       "    <tr>\n",
       "      <th>County_mean_house_price_change_imputed</th>\n",
       "      <td>-0.374956</td>\n",
       "      <td>0.230954</td>\n",
       "      <td>0.255095</td>\n",
       "      <td>0.144264</td>\n",
       "      <td>1.000000</td>\n",
       "    </tr>\n",
       "  </tbody>\n",
       "</table>\n",
       "</div>"
      ],
      "text/plain": [
       "                                        County_unemployment_rate  \\\n",
       "County_unemployment_rate                                1.000000   \n",
       "State_GDP_change                                        0.011959   \n",
       "Mortgage_rate_30Y                                      -0.403907   \n",
       "value_ratio                                            -0.107847   \n",
       "County_mean_house_price_change_imputed                 -0.374956   \n",
       "\n",
       "                                        State_GDP_change  Mortgage_rate_30Y  \\\n",
       "County_unemployment_rate                        0.011959          -0.403907   \n",
       "State_GDP_change                                1.000000           0.068079   \n",
       "Mortgage_rate_30Y                               0.068079           1.000000   \n",
       "value_ratio                                     0.170930           0.026836   \n",
       "County_mean_house_price_change_imputed          0.230954           0.255095   \n",
       "\n",
       "                                        value_ratio  \\\n",
       "County_unemployment_rate                  -0.107847   \n",
       "State_GDP_change                           0.170930   \n",
       "Mortgage_rate_30Y                          0.026836   \n",
       "value_ratio                                1.000000   \n",
       "County_mean_house_price_change_imputed     0.144264   \n",
       "\n",
       "                                        County_mean_house_price_change_imputed  \n",
       "County_unemployment_rate                                             -0.374956  \n",
       "State_GDP_change                                                      0.230954  \n",
       "Mortgage_rate_30Y                                                     0.255095  \n",
       "value_ratio                                                           0.144264  \n",
       "County_mean_house_price_change_imputed                                1.000000  "
      ]
     },
     "execution_count": 143,
     "metadata": {},
     "output_type": "execute_result"
    }
   ],
   "source": [
    "X.corr()"
   ]
  },
  {
   "cell_type": "code",
   "execution_count": 144,
   "metadata": {},
   "outputs": [
    {
     "data": {
      "text/plain": [
       "County_unemployment_rate                  5.051899\n",
       "State_GDP_change                          1.993245\n",
       "Mortgage_rate_30Y                         8.463411\n",
       "value_ratio                               8.456627\n",
       "County_mean_house_price_change_imputed    1.563537\n",
       "dtype: float64"
      ]
     },
     "execution_count": 144,
     "metadata": {},
     "output_type": "execute_result"
    }
   ],
   "source": [
    "# VIF check\n",
    "pd.Series([variance_inflation_factor(X.values, i)  for i in range(X.shape[1])], index=X.columns)"
   ]
  },
  {
   "cell_type": "code",
   "execution_count": 145,
   "metadata": {},
   "outputs": [
    {
     "name": "stdout",
     "output_type": "stream",
     "text": [
      "X_train:  (119065, 5)\n",
      "X_test:  (29767, 5)\n",
      "y_train:  (119065,)\n",
      "y_test:  (29767,)\n"
     ]
    }
   ],
   "source": [
    "X_train,X_test,y_train,y_test = train_test_split(X,y,test_size = 0.2)\n",
    "X_train,X_test,y_train,y_test = train_test_split(X,y,test_size = 0.2, random_state = 0)\n",
    "print(\"X_train: \", X_train.shape)\n",
    "print(\"X_test: \", X_test.shape)\n",
    "print(\"y_train: \", y_train.shape)\n",
    "print(\"y_test: \", y_test.shape)"
   ]
  },
  {
   "cell_type": "code",
   "execution_count": 146,
   "metadata": {},
   "outputs": [],
   "source": [
    "# Linear regression code\n",
    "\n",
    "linear_model = LinearRegression()\n",
    "linear_model.fit(X_train,y_train)\n",
    "\n",
    "y_test_pred=linear_model.predict(X_test)\n",
    "y_train_pred=linear_model.predict(X_train)"
   ]
  },
  {
   "cell_type": "code",
   "execution_count": 147,
   "metadata": {},
   "outputs": [
    {
     "name": "stdout",
     "output_type": "stream",
     "text": [
      "R^2:  0.38\n",
      "Adjusted R^2:  0.38\n",
      "RMSE:  6.52\n",
      "MAE:  4.72\n"
     ]
    }
   ],
   "source": [
    "# Test data metrics\n",
    "\n",
    "print(\"R^2: \", round(r2_score(y_test,y_test_pred), 2))\n",
    "print(\"Adjusted R^2: \", round(1 - ( 1-linear_model.score(X_test, y_test) ) * ( len(y) - 1 ) / ( len(y) - X.shape[1] - 1 ), 2))\n",
    "print(\"RMSE: \", round(np.sqrt(mean_squared_error(y_test, y_test_pred)), 2))\n",
    "print(\"MAE: \", round(mean_absolute_error(y_test,y_test_pred), 2))"
   ]
  },
  {
   "cell_type": "code",
   "execution_count": 148,
   "metadata": {},
   "outputs": [
    {
     "data": {
      "text/plain": [
       "County_unemployment_rate                  1.613073e-106\n",
       "State_GDP_change                           0.000000e+00\n",
       "Mortgage_rate_30Y                          1.246603e-02\n",
       "value_ratio                                9.550176e-62\n",
       "County_mean_house_price_change_imputed     0.000000e+00\n",
       "Name: P>|t|, dtype: float64"
      ]
     },
     "execution_count": 148,
     "metadata": {},
     "output_type": "execute_result"
    }
   ],
   "source": [
    "# Getting p values\n",
    "linear_mod = sm.OLS(y_train,X_train)\n",
    "fii = linear_mod.fit()\n",
    "p_values = fii.summary2().tables[1]['P>|t|']\n",
    "p_values"
   ]
  },
  {
   "cell_type": "code",
   "execution_count": 149,
   "metadata": {},
   "outputs": [
    {
     "name": "stdout",
     "output_type": "stream",
     "text": [
      "                                        Coefficients\n",
      "County_unemployment_rate                   -0.215793\n",
      "State_GDP_change                            0.786333\n",
      "Mortgage_rate_30Y                          -0.213878\n",
      "value_ratio                                 0.035421\n",
      "County_mean_house_price_change_imputed      0.568043\n"
     ]
    }
   ],
   "source": [
    "# Getting coefficients\n",
    "coeff_df = pd.DataFrame(linear_model.coef_, X.columns, columns=['Coefficients'])\n",
    "print(coeff_df)"
   ]
  },
  {
   "cell_type": "code",
   "execution_count": 150,
   "metadata": {},
   "outputs": [
    {
     "data": {
      "text/plain": [
       "['County_unemployment_rate',\n",
       " 'State_GDP_change',\n",
       " 'Mortgage_rate_30Y',\n",
       " 'value_ratio',\n",
       " 'County_mean_house_price_change_imputed']"
      ]
     },
     "execution_count": 150,
     "metadata": {},
     "output_type": "execute_result"
    }
   ],
   "source": [
    "# Recursive feature elimination\n",
    "\n",
    "model = LinearRegression()\n",
    "rfe = RFE(model, 5)\n",
    "fit = rfe.fit(X_train, y_train)\n",
    "\n",
    "#print(fit.n_features_)\n",
    "#print(fit.support_)\n",
    "#print(fit.ranking_)\n",
    "\n",
    "list(X_train.iloc[:, fit.support_].columns)"
   ]
  },
  {
   "cell_type": "markdown",
   "metadata": {},
   "source": [
    "### Logistic Regression"
   ]
  },
  {
   "cell_type": "code",
   "execution_count": 151,
   "metadata": {},
   "outputs": [],
   "source": [
    "# creating categorical target variable for logistic regression\n",
    "unemployment_mortgage_gdp_ratio_valuechange['house_price_change_grt_5'] = np.where(unemployment_mortgage_gdp_ratio_valuechange['house_price_change'] > 5,1,0)"
   ]
  },
  {
   "cell_type": "code",
   "execution_count": 152,
   "metadata": {},
   "outputs": [
    {
     "name": "stdout",
     "output_type": "stream",
     "text": [
      "X_train:  (119065, 5)\n",
      "X_test:  (29767, 5)\n",
      "y_train:  (119065,)\n",
      "y_test:  (29767,)\n"
     ]
    }
   ],
   "source": [
    "selected_col = ['County_unemployment_rate', 'State_GDP_change','Mortgage_rate_30Y', 'value_ratio', \n",
    "                'County_mean_house_price_change_imputed']\n",
    "X = unemployment_mortgage_gdp_ratio_valuechange[selected_col]\n",
    "y = unemployment_mortgage_gdp_ratio_valuechange.house_price_change_grt_5\n",
    "\n",
    "X_train,X_test,y_train,y_test = train_test_split(X,y,test_size = 0.2)\n",
    "X_train,X_test,y_train,y_test = train_test_split(X,y,test_size = 0.2, random_state = 0)\n",
    "print(\"X_train: \", X_train.shape)\n",
    "print(\"X_test: \", X_test.shape)\n",
    "print(\"y_train: \", y_train.shape)\n",
    "print(\"y_test: \", y_test.shape)"
   ]
  },
  {
   "cell_type": "code",
   "execution_count": 153,
   "metadata": {},
   "outputs": [],
   "source": [
    "# Building logistic regression\n",
    "\n",
    "logistic_model = LogisticRegression()\n",
    "logistic_model.fit(X_train, y_train)\n",
    "\n",
    "y_test_pred = logistic_model.predict(X_test)\n",
    "y_test_pred_probas = logistic_model.predict_proba(X_test)[:,1]\n",
    "\n",
    "y_train_pred = logistic_model.predict(X_train)\n",
    "y_train_pred_probas = logistic_model.predict_proba(X_train)[:,1]"
   ]
  },
  {
   "cell_type": "code",
   "execution_count": 154,
   "metadata": {},
   "outputs": [
    {
     "name": "stdout",
     "output_type": "stream",
     "text": [
      "[[15380  2520]\n",
      " [ 5787  6080]]\n"
     ]
    }
   ],
   "source": [
    "# Confusion matrix\n",
    "print(metrics.confusion_matrix(y_test, y_test_pred))"
   ]
  },
  {
   "cell_type": "code",
   "execution_count": 155,
   "metadata": {},
   "outputs": [
    {
     "name": "stdout",
     "output_type": "stream",
     "text": [
      "              precision    recall  f1-score   support\n",
      "\n",
      "           0       0.73      0.86      0.79     17900\n",
      "           1       0.71      0.51      0.59     11867\n",
      "\n",
      "    accuracy                           0.72     29767\n",
      "   macro avg       0.72      0.69      0.69     29767\n",
      "weighted avg       0.72      0.72      0.71     29767\n",
      "\n"
     ]
    }
   ],
   "source": [
    "# Metrics\n",
    "print(metrics.classification_report(y_test, y_test_pred))"
   ]
  },
  {
   "cell_type": "code",
   "execution_count": 156,
   "metadata": {},
   "outputs": [
    {
     "data": {
      "image/png": "[encoded data removed]",
      "text/plain": [
       "<Figure size 432x288 with 1 Axes>"
      ]
     },
     "metadata": {
      "needs_background": "light"
     },
     "output_type": "display_data"
    }
   ],
   "source": [
    "# ROC curve\n",
    "fpr, tpr, _ = metrics.roc_curve(y_test,  y_test_pred_probas)\n",
    "auc = metrics.roc_auc_score(y_test, y_test_pred_probas)\n",
    "plt.plot(fpr,tpr,label=\"data 1, auc=\"+str(auc))\n",
    "plt.legend(loc=4)\n",
    "plt.show()"
   ]
  },
  {
   "cell_type": "code",
   "execution_count": 157,
   "metadata": {},
   "outputs": [
    {
     "data": {
      "text/html": [
       "<div>\n",
       "<style scoped>\n",
       "    .dataframe tbody tr th:only-of-type {\n",
       "        vertical-align: middle;\n",
       "    }\n",
       "\n",
       "    .dataframe tbody tr th {\n",
       "        vertical-align: top;\n",
       "    }\n",
       "\n",
       "    .dataframe thead th {\n",
       "        text-align: right;\n",
       "    }\n",
       "</style>\n",
       "<table border=\"1\" class=\"dataframe\">\n",
       "  <thead>\n",
       "    <tr style=\"text-align: right;\">\n",
       "      <th></th>\n",
       "      <th>var_name</th>\n",
       "      <th>coeff</th>\n",
       "      <th>std</th>\n",
       "      <th>coeff*std</th>\n",
       "    </tr>\n",
       "  </thead>\n",
       "  <tbody>\n",
       "    <tr>\n",
       "      <th>4</th>\n",
       "      <td>County_mean_house_price_change_imputed</td>\n",
       "      <td>0.13473105684766506</td>\n",
       "      <td>7.264122</td>\n",
       "      <td>0.978703</td>\n",
       "    </tr>\n",
       "    <tr>\n",
       "      <th>1</th>\n",
       "      <td>State_GDP_change</td>\n",
       "      <td>0.175676372008315</td>\n",
       "      <td>2.358526</td>\n",
       "      <td>0.414337</td>\n",
       "    </tr>\n",
       "    <tr>\n",
       "      <th>0</th>\n",
       "      <td>County_unemployment_rate</td>\n",
       "      <td>-0.0672837400589546</td>\n",
       "      <td>2.754048</td>\n",
       "      <td>-0.185303</td>\n",
       "    </tr>\n",
       "    <tr>\n",
       "      <th>3</th>\n",
       "      <td>value_ratio</td>\n",
       "      <td>0.03127450832082528</td>\n",
       "      <td>3.745702</td>\n",
       "      <td>0.117145</td>\n",
       "    </tr>\n",
       "    <tr>\n",
       "      <th>2</th>\n",
       "      <td>Mortgage_rate_30Y</td>\n",
       "      <td>-0.03896627425567038</td>\n",
       "      <td>1.380934</td>\n",
       "      <td>-0.053810</td>\n",
       "    </tr>\n",
       "  </tbody>\n",
       "</table>\n",
       "</div>"
      ],
      "text/plain": [
       "                                 var_name                 coeff       std  \\\n",
       "4  County_mean_house_price_change_imputed   0.13473105684766506  7.264122   \n",
       "1                        State_GDP_change     0.175676372008315  2.358526   \n",
       "0                County_unemployment_rate   -0.0672837400589546  2.754048   \n",
       "3                             value_ratio   0.03127450832082528  3.745702   \n",
       "2                       Mortgage_rate_30Y  -0.03896627425567038  1.380934   \n",
       "\n",
       "   coeff*std  \n",
       "4   0.978703  \n",
       "1   0.414337  \n",
       "0  -0.185303  \n",
       "3   0.117145  \n",
       "2  -0.053810  "
      ]
     },
     "execution_count": 157,
     "metadata": {},
     "output_type": "execute_result"
    }
   ],
   "source": [
    "# Variable importance in logistic regression\n",
    "\n",
    "var_imp = pd.concat([pd.DataFrame(X.columns), pd.DataFrame(logistic_model.coef_).T], axis = 1)\n",
    "var_imp.columns = ['var_name', 'coeff']\n",
    "\n",
    "std_df = pd.DataFrame(np.std(X_train, 0)).reset_index()\n",
    "std_df.columns = ['var_name', 'std']\n",
    "\n",
    "var_imp = pd.merge(var_imp,\n",
    "                   std_df,\n",
    "                   left_on = 'var_name',\n",
    "                   right_on = 'var_name',\n",
    "                   how = 'left')\n",
    "var_imp['coeff*std'] = var_imp['coeff']*var_imp['std']\n",
    "\n",
    "var_imp['coeff*std_pos'] = abs(var_imp['coeff*std'])\n",
    "\n",
    "var_imp = var_imp.sort_values(by = 'coeff*std_pos', ascending = False)\n",
    "var_imp = var_imp.drop(['coeff*std_pos'], axis = 1)\n",
    "\n",
    "var_imp['coeff'] = var_imp['coeff'].astype(str)\n",
    "var_imp[0:5]"
   ]
  },
  {
   "cell_type": "markdown",
   "metadata": {},
   "source": [
    "### Random Forest"
   ]
  },
  {
   "cell_type": "code",
   "execution_count": 158,
   "metadata": {},
   "outputs": [],
   "source": [
    "#from sklearn.ensemble import RandomForestRegressor\n",
    "nEstimator = [140,160,180,200,220]\n",
    "depth = [10,15,20,25,30]\n",
    "\n",
    "RF = RandomForestRegressor()\n",
    "hyperParam = [{'n_estimators':nEstimator,'max_depth': depth}]\n",
    "gsv = GridSearchCV(RF,hyperParam,cv=5,verbose=1,scoring='r2',n_jobs=-1)"
   ]
  },
  {
   "cell_type": "code",
   "execution_count": 159,
   "metadata": {},
   "outputs": [
    {
     "name": "stdout",
     "output_type": "stream",
     "text": [
      "X_train:  (119065, 5)\n",
      "X_test:  (29767, 5)\n",
      "y_train:  (119065,)\n",
      "y_test:  (29767,)\n"
     ]
    }
   ],
   "source": [
    "selected_col = ['County_unemployment_rate', 'State_GDP_change','Mortgage_rate_30Y', 'value_ratio', \n",
    "                'County_mean_house_price_change_imputed']\n",
    "X = unemployment_mortgage_gdp_ratio_valuechange[selected_col]\n",
    "y = unemployment_mortgage_gdp_ratio_valuechange.house_price_change\n",
    "\n",
    "X_train,X_test,y_train,y_test = train_test_split(X,y,test_size = 0.2)\n",
    "X_train,X_test,y_train,y_test = train_test_split(X,y,test_size = 0.2, random_state = 0)\n",
    "print(\"X_train: \", X_train.shape)\n",
    "print(\"X_test: \", X_test.shape)\n",
    "print(\"y_train: \", y_train.shape)\n",
    "print(\"y_test: \", y_test.shape)"
   ]
  },
  {
   "cell_type": "code",
   "execution_count": 160,
   "metadata": {},
   "outputs": [
    {
     "name": "stdout",
     "output_type": "stream",
     "text": [
      "Fitting 5 folds for each of 25 candidates, totalling 125 fits\n",
      "Best HyperParameter:  {'max_depth': 20, 'n_estimators': 220}\n",
      "0.7332580557863054\n"
     ]
    },
    {
     "data": {
      "image/png": "[encoded data removed]",
      "text/plain": [
       "<Figure size 576x576 with 2 Axes>"
      ]
     },
     "metadata": {
      "needs_background": "light"
     },
     "output_type": "display_data"
    }
   ],
   "source": [
    "gsv.fit(X_train, y_train)\n",
    "print(\"Best HyperParameter: \",gsv.best_params_)\n",
    "print(gsv.best_score_)\n",
    "scores = gsv.cv_results_['mean_test_score'].reshape(len(nEstimator),len(depth))\n",
    "plt.figure(figsize=(8, 8))\n",
    "plt.subplots_adjust(left=.2, right=0.95, bottom=0.15, top=0.95)\n",
    "plt.imshow(scores, interpolation='nearest', cmap=plt.cm.hot)\n",
    "plt.xlabel('n_estimators')\n",
    "plt.ylabel('max_depth')\n",
    "plt.colorbar()\n",
    "plt.xticks(np.arange(len(nEstimator)), nEstimator)\n",
    "plt.yticks(np.arange(len(depth)), depth)\n",
    "plt.title('Grid Search r^2 Score')\n",
    "plt.show()\n",
    "maxDepth=gsv.best_params_['max_depth']\n",
    "nEstimators=gsv.best_params_['n_estimators']"
   ]
  },
  {
   "cell_type": "code",
   "execution_count": 161,
   "metadata": {},
   "outputs": [],
   "source": [
    "# Random forest model\n",
    "rf_model = RandomForestRegressor(n_estimators = 160, max_depth = 20, max_features = 5)\n",
    "rf_model.fit(X_train, y_train)\n",
    "\n",
    "y_test_pred = rf_model.predict(X_test)\n",
    "y_train_pred = rf_model.predict(X_train)"
   ]
  },
  {
   "cell_type": "code",
   "execution_count": 162,
   "metadata": {},
   "outputs": [
    {
     "name": "stdout",
     "output_type": "stream",
     "text": [
      "Mean Absolute Error (MAE): 2.95\n",
      "Median Absolute Error: 2.11\n",
      "Mean Absolute Percentage Error (MAPE): 58659322188566.9\n",
      "Max Error: 53.33\n",
      "Mean Squared Error (MSE): 17.52\n",
      "Root Mean Squared Error (RMSE): 4.19\n",
      "R^2: 0.75\n",
      "Explained Variance Score: 0.75\n"
     ]
    }
   ],
   "source": [
    "print('Mean Absolute Error (MAE):', round(metrics.mean_absolute_error(y_test, y_test_pred), 2))\n",
    "print('Median Absolute Error:', round(metrics.median_absolute_error(y_test, y_test_pred), 2))\n",
    "print('Mean Absolute Percentage Error (MAPE):', round(metrics.mean_absolute_percentage_error(y_test, y_test_pred), 2))\n",
    "print('Max Error:', round(metrics.max_error(y_test, y_test_pred), 2))\n",
    "print('Mean Squared Error (MSE):', round(metrics.mean_squared_error(y_test, y_test_pred), 2))\n",
    "print('Root Mean Squared Error (RMSE):', round(metrics.mean_squared_error(y_test, y_test_pred, squared=False), 2))\n",
    "print('R^2:', round(metrics.r2_score(y_test, y_test_pred), 2))\n",
    "print('Explained Variance Score:', round(metrics.explained_variance_score(y_test, y_test_pred), 2))"
   ]
  },
  {
   "cell_type": "code",
   "execution_count": 163,
   "metadata": {},
   "outputs": [
    {
     "data": {
      "text/html": [
       "<div>\n",
       "<style scoped>\n",
       "    .dataframe tbody tr th:only-of-type {\n",
       "        vertical-align: middle;\n",
       "    }\n",
       "\n",
       "    .dataframe tbody tr th {\n",
       "        vertical-align: top;\n",
       "    }\n",
       "\n",
       "    .dataframe thead th {\n",
       "        text-align: right;\n",
       "    }\n",
       "</style>\n",
       "<table border=\"1\" class=\"dataframe\">\n",
       "  <thead>\n",
       "    <tr style=\"text-align: right;\">\n",
       "      <th></th>\n",
       "      <th>var_name</th>\n",
       "      <th>% imp</th>\n",
       "    </tr>\n",
       "  </thead>\n",
       "  <tbody>\n",
       "    <tr>\n",
       "      <th>4</th>\n",
       "      <td>County_mean_house_price_change_imputed</td>\n",
       "      <td>44.986393</td>\n",
       "    </tr>\n",
       "    <tr>\n",
       "      <th>2</th>\n",
       "      <td>Mortgage_rate_30Y</td>\n",
       "      <td>15.854135</td>\n",
       "    </tr>\n",
       "    <tr>\n",
       "      <th>3</th>\n",
       "      <td>value_ratio</td>\n",
       "      <td>15.286259</td>\n",
       "    </tr>\n",
       "    <tr>\n",
       "      <th>1</th>\n",
       "      <td>State_GDP_change</td>\n",
       "      <td>14.891073</td>\n",
       "    </tr>\n",
       "    <tr>\n",
       "      <th>0</th>\n",
       "      <td>County_unemployment_rate</td>\n",
       "      <td>8.982140</td>\n",
       "    </tr>\n",
       "  </tbody>\n",
       "</table>\n",
       "</div>"
      ],
      "text/plain": [
       "                                 var_name      % imp\n",
       "4  County_mean_house_price_change_imputed  44.986393\n",
       "2                       Mortgage_rate_30Y  15.854135\n",
       "3                             value_ratio  15.286259\n",
       "1                        State_GDP_change  14.891073\n",
       "0                County_unemployment_rate   8.982140"
      ]
     },
     "execution_count": 163,
     "metadata": {},
     "output_type": "execute_result"
    }
   ],
   "source": [
    "rf_var_imp = pd.concat([pd.DataFrame(X.columns), pd.DataFrame(rf_model.feature_importances_)], axis = 1)\n",
    "rf_var_imp.columns = ['var_name', '% imp']\n",
    "rf_var_imp['% imp'] = rf_var_imp['% imp']*100\n",
    "rf_var_imp = rf_var_imp.sort_values(by = ['% imp'], ascending = False)\n",
    "rf_var_imp"
   ]
  },
  {
   "cell_type": "markdown",
   "metadata": {},
   "source": [
    "### SVR"
   ]
  },
  {
   "cell_type": "code",
   "execution_count": 164,
   "metadata": {},
   "outputs": [],
   "source": [
    "# For SVR, before doing grid search, need to scale the data\n",
    "\n",
    "X_train_scaled = preprocessing.scale(X_train)\n",
    "y_train_scaled = preprocessing.scale(y_train) \n",
    "# Scaling target variable as well because there is a lot of variance in target variable too\n",
    "# There are lot of video with 10 likes, 20 likes and there's video with 60,000 likes\n",
    "\n",
    "X_test_scaled = preprocessing.scale(X_test)\n",
    "y_test_scaled = preprocessing.scale(y_test)"
   ]
  },
  {
   "cell_type": "code",
   "execution_count": 165,
   "metadata": {},
   "outputs": [
    {
     "name": "stdout",
     "output_type": "stream",
     "text": [
      "Fitting 5 folds for each of 6 candidates, totalling 30 fits\n",
      "Best HyperParameter:  {'C': 5, 'gamma': 1}\n",
      "0.6323662949676777\n"
     ]
    },
    {
     "data": {
      "image/png": "[encoded data removed]",
      "text/plain": [
       "<Figure size 576x576 with 2 Axes>"
      ]
     },
     "metadata": {
      "needs_background": "light"
     },
     "output_type": "display_data"
    }
   ],
   "source": [
    "C_array = [0.1, 1, 5]\n",
    "gamma = [0.001, 1]\n",
    "\n",
    "svr_model = SVR()\n",
    "hyperParam = [{'C':C_array,'gamma': gamma}]\n",
    "gsv = GridSearchCV(svr_model,hyperParam,cv=5,verbose=1,scoring='r2',n_jobs=-1)\n",
    "\n",
    "gsv.fit(X_train_scaled, y_train_scaled)\n",
    "print(\"Best HyperParameter: \",gsv.best_params_)\n",
    "print(gsv.best_score_)\n",
    "scores = gsv.cv_results_['mean_test_score'].reshape(len(C_array),len(gamma))\n",
    "plt.figure(figsize=(8, 8))\n",
    "plt.subplots_adjust(left=.2, right=0.95, bottom=0.15, top=0.95)\n",
    "plt.imshow(scores, interpolation='nearest', cmap=plt.cm.hot)\n",
    "plt.xlabel('C')\n",
    "plt.ylabel('gamma')\n",
    "plt.colorbar()\n",
    "plt.xticks(np.arange(len(C_array)), C_array)\n",
    "plt.yticks(np.arange(len(gamma)), gamma)\n",
    "plt.title('Grid Search r^2 Score')\n",
    "plt.show()\n",
    "gamma_para=gsv.best_params_['gamma']\n",
    "C_para = gsv.best_params_['C']"
   ]
  },
  {
   "cell_type": "code",
   "execution_count": 166,
   "metadata": {},
   "outputs": [],
   "source": [
    "# Support Vector Machine\n",
    "\n",
    "svm_model = SVR(kernel='linear', C=5,gamma=0.001)\n",
    "\n",
    "svm_model.fit(X_train_scaled, y_train_scaled)\n",
    "\n",
    "# make predictions\n",
    "y_test_pred_scaled = svm_model.predict(X_test_scaled)\n",
    "y_train_pred_scaled = svm_model.predict(X_train_scaled)"
   ]
  },
  {
   "cell_type": "code",
   "execution_count": 167,
   "metadata": {},
   "outputs": [
    {
     "name": "stdout",
     "output_type": "stream",
     "text": [
      "R^2: 0.38\n",
      "Explained Variance Score: 0.38\n"
     ]
    }
   ],
   "source": [
    "print('R^2:', round(metrics.r2_score(y_test_scaled, y_test_pred_scaled), 2))\n",
    "print('Explained Variance Score:', round(metrics.explained_variance_score(y_test_scaled, y_test_pred_scaled), 2))"
   ]
  },
  {
   "cell_type": "markdown",
   "metadata": {},
   "source": [
    "### SVC"
   ]
  },
  {
   "cell_type": "code",
   "execution_count": 168,
   "metadata": {},
   "outputs": [
    {
     "name": "stdout",
     "output_type": "stream",
     "text": [
      "X_train:  (119065, 5)\n",
      "X_test:  (29767, 5)\n",
      "y_train:  (119065,)\n",
      "y_test:  (29767,)\n"
     ]
    }
   ],
   "source": [
    "selected_col = ['County_unemployment_rate', 'State_GDP_change','Mortgage_rate_30Y', 'value_ratio', \n",
    "                'County_mean_house_price_change_imputed']\n",
    "X = unemployment_mortgage_gdp_ratio_valuechange[selected_col]\n",
    "y = unemployment_mortgage_gdp_ratio_valuechange.house_price_change_grt_5\n",
    "\n",
    "X_train,X_test,y_train,y_test = train_test_split(X,y,test_size = 0.2)\n",
    "X_train,X_test,y_train,y_test = train_test_split(X,y,test_size = 0.2, random_state = 0)\n",
    "print(\"X_train: \", X_train.shape)\n",
    "print(\"X_test: \", X_test.shape)\n",
    "print(\"y_train: \", y_train.shape)\n",
    "print(\"y_test: \", y_test.shape)\n",
    "\n",
    "\n",
    "# Scaling X_train & X_test\n",
    "X_train_scaled = preprocessing.scale(X_train)\n",
    "X_test_scaled = preprocessing.scale(X_test)"
   ]
  },
  {
   "cell_type": "code",
   "execution_count": 169,
   "metadata": {},
   "outputs": [
    {
     "name": "stdout",
     "output_type": "stream",
     "text": [
      "Fitting 5 folds for each of 6 candidates, totalling 30 fits\n",
      "Best HyperParameter:  {'C': 5, 'gamma': 1}\n",
      "0.8314807880772059\n"
     ]
    },
    {
     "data": {
      "image/png": "[encoded data removed]",
      "text/plain": [
       "<Figure size 576x576 with 2 Axes>"
      ]
     },
     "metadata": {
      "needs_background": "light"
     },
     "output_type": "display_data"
    }
   ],
   "source": [
    "C_array = [0.1, 1, 5]\n",
    "gamma = [0.001, 1]\n",
    "\n",
    "svc_model = SVC()\n",
    "hyperParam = [{'C':C_array,'gamma': gamma}]\n",
    "gsv = GridSearchCV(svc_model,hyperParam,cv=5,verbose=1,scoring='roc_auc',n_jobs=-1)\n",
    "\n",
    "gsv.fit(X_train_scaled, y_train)\n",
    "print(\"Best HyperParameter: \",gsv.best_params_)\n",
    "print(gsv.best_score_)\n",
    "scores = gsv.cv_results_['mean_test_score'].reshape(len(C_array),len(gamma))\n",
    "plt.figure(figsize=(8, 8))\n",
    "plt.subplots_adjust(left=.2, right=0.95, bottom=0.15, top=0.95)\n",
    "plt.imshow(scores, interpolation='nearest', cmap=plt.cm.hot)\n",
    "plt.xlabel('C')\n",
    "plt.ylabel('gamma')\n",
    "plt.colorbar()\n",
    "plt.xticks(np.arange(len(C_array)), C_array)\n",
    "plt.yticks(np.arange(len(gamma)), gamma)\n",
    "plt.title('Grid Search AUC')\n",
    "plt.show()\n",
    "gamma_para=gsv.best_params_['gamma']\n",
    "C_para = gsv.best_params_['C']"
   ]
  },
  {
   "cell_type": "code",
   "execution_count": 170,
   "metadata": {},
   "outputs": [],
   "source": [
    "# Building SVC model\n",
    "\n",
    "svc_model = SVC(C = 5, gamma = 1, probability = True, kernel = 'linear')\n",
    "svc_model.fit(X_train_scaled, y_train)\n",
    "\n",
    "y_test_pred = svc_model.predict(X_test_scaled)\n",
    "y_test_pred_probas = svc_model.predict_proba(X_test_scaled)[:,1]\n",
    "\n",
    "y_train_pred = svc_model.predict(X_train_scaled)\n",
    "y_train_pred_probas = svc_model.predict_proba(X_train_scaled)[:,1]"
   ]
  },
  {
   "cell_type": "code",
   "execution_count": 171,
   "metadata": {},
   "outputs": [
    {
     "name": "stdout",
     "output_type": "stream",
     "text": [
      "[[16019  1881]\n",
      " [ 6425  5442]]\n"
     ]
    }
   ],
   "source": [
    "# Confusion matrix\n",
    "print(metrics.confusion_matrix(y_test, y_test_pred))"
   ]
  },
  {
   "cell_type": "code",
   "execution_count": 172,
   "metadata": {},
   "outputs": [
    {
     "name": "stdout",
     "output_type": "stream",
     "text": [
      "              precision    recall  f1-score   support\n",
      "\n",
      "           0       0.71      0.89      0.79     17900\n",
      "           1       0.74      0.46      0.57     11867\n",
      "\n",
      "    accuracy                           0.72     29767\n",
      "   macro avg       0.73      0.68      0.68     29767\n",
      "weighted avg       0.73      0.72      0.70     29767\n",
      "\n"
     ]
    }
   ],
   "source": [
    "Bodhankar# Metrics\n",
    "print(metrics.classification_report(y_test, y_test_pred))"
   ]
  },
  {
   "cell_type": "code",
   "execution_count": 173,
   "metadata": {},
   "outputs": [
    {
     "data": {
      "image/png": "[encoded data removed]",
      "text/plain": [
       "<Figure size 432x288 with 1 Axes>"
      ]
     },
     "metadata": {
      "needs_background": "light"
     },
     "output_type": "display_data"
    }
   ],
   "source": [
    "# ROC curve\n",
    "fpr, tpr, _ = metrics.roc_curve(y_test,  y_test_pred_probas)\n",
    "auc = metrics.roc_auc_score(y_test, y_test_pred_probas)\n",
    "plt.plot(fpr,tpr,label=\"data 1, auc=\"+str(auc))\n",
    "plt.legend(loc=4)\n",
    "plt.show()"
   ]
  },
  {
   "cell_type": "code",
   "execution_count": 174,
   "metadata": {},
   "outputs": [
    {
     "data": {
      "text/html": [
       "<div>\n",
       "<style scoped>\n",
       "    .dataframe tbody tr th:only-of-type {\n",
       "        vertical-align: middle;\n",
       "    }\n",
       "\n",
       "    .dataframe tbody tr th {\n",
       "        vertical-align: top;\n",
       "    }\n",
       "\n",
       "    .dataframe thead th {\n",
       "        text-align: right;\n",
       "    }\n",
       "</style>\n",
       "<table border=\"1\" class=\"dataframe\">\n",
       "  <thead>\n",
       "    <tr style=\"text-align: right;\">\n",
       "      <th></th>\n",
       "      <th>var_name</th>\n",
       "      <th>coeff</th>\n",
       "    </tr>\n",
       "  </thead>\n",
       "  <tbody>\n",
       "    <tr>\n",
       "      <th>4</th>\n",
       "      <td>County_mean_house_price_change_imputed</td>\n",
       "      <td>0.9291111228558293</td>\n",
       "    </tr>\n",
       "    <tr>\n",
       "      <th>1</th>\n",
       "      <td>State_GDP_change</td>\n",
       "      <td>0.3109594810048293</td>\n",
       "    </tr>\n",
       "    <tr>\n",
       "      <th>3</th>\n",
       "      <td>value_ratio</td>\n",
       "      <td>0.2466619233880465</td>\n",
       "    </tr>\n",
       "    <tr>\n",
       "      <th>2</th>\n",
       "      <td>Mortgage_rate_30Y</td>\n",
       "      <td>-0.09261085365687904</td>\n",
       "    </tr>\n",
       "    <tr>\n",
       "      <th>0</th>\n",
       "      <td>County_unemployment_rate</td>\n",
       "      <td>-0.08706195362174185</td>\n",
       "    </tr>\n",
       "  </tbody>\n",
       "</table>\n",
       "</div>"
      ],
      "text/plain": [
       "                                 var_name                 coeff\n",
       "4  County_mean_house_price_change_imputed    0.9291111228558293\n",
       "1                        State_GDP_change    0.3109594810048293\n",
       "3                             value_ratio    0.2466619233880465\n",
       "2                       Mortgage_rate_30Y  -0.09261085365687904\n",
       "0                County_unemployment_rate  -0.08706195362174185"
      ]
     },
     "execution_count": 174,
     "metadata": {},
     "output_type": "execute_result"
    }
   ],
   "source": [
    "# Variable importance in SVM\n",
    "\n",
    "var_imp = pd.concat([pd.DataFrame(X.columns), pd.DataFrame(svc_model.coef_).T], axis = 1)\n",
    "var_imp.columns = ['var_name', 'coeff']\n",
    "var_imp['coeff_pos'] = abs(var_imp['coeff'])\n",
    "var_imp = var_imp.sort_values(by = 'coeff_pos', ascending = False)\n",
    "var_imp = var_imp.drop(['coeff_pos'], axis = 1)\n",
    "\n",
    "var_imp['coeff'] = var_imp['coeff'].astype(str)\n",
    "var_imp[0:5]"
   ]
  }
 ],
 "metadata": {
  "kernelspec": {
   "display_name": "Python 3",
   "language": "python",
   "name": "python3"
  },
  "language_info": {
   "codemirror_mode": {
    "name": "ipython",
    "version": 3
   },
   "file_extension": ".py",
   "mimetype": "text/x-python",
   "name": "python",
   "nbconvert_exporter": "python",
   "pygments_lexer": "ipython3",
   "version": "3.8.8"
  }
 },
 "nbformat": 4,
 "nbformat_minor": 2
}
